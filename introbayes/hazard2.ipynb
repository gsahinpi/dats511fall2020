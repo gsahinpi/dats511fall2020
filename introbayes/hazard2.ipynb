{
 "cells": [
  {
   "cell_type": "code",
   "execution_count": 2,
   "metadata": {},
   "outputs": [],
   "source": [
    "import warnings\n",
    "\n",
    "import arviz as az\n",
    "import matplotlib.pyplot as plt\n",
    "import numpy as np\n",
    "import pandas as pd\n",
    "import pymc3 as pm\n",
    "import seaborn as sns\n",
    "\n",
    "from scipy import stats\n",
    "from scipy.optimize import curve_fit\n",
    "\n"
   ]
  },
  {
   "cell_type": "markdown",
   "metadata": {},
   "source": [
    "<h2>overfitting</h2>, which leads to poor prediction by learning\n",
    "too much from the data\n",
    "<h2> underfitting</h2>, which leads to poor prediction by learning too\n",
    "little from the data.\n",
    "There is a third monster, the one we  met in previous examples—  <h2>confounding</h2>.\n",
    "In this\n",
    "chapter you’ll see that confounded models can in fact produce better predictions than models\n",
    "that correctly measure a causal relationship.\n",
    "The consequence of this is that, when we design\n",
    "any particular statistical model, we must decide whether we want to understand causes or\n",
    "rather just predict.\n",
    "These are not the same goal, and different models are needed for each.\n",
    "However, to accurately measure a causal influence, we still have to deal with overfitting."
   ]
  },
  {
   "cell_type": "markdown",
   "metadata": {},
   "source": [
    "There are two common families\n",
    "of approaches. The first approach is to use a <h3>regularizing prior</h3> to tell the model not to\n",
    "get too excited by the data. This is the same device that non-Bayesian methods refer to as\n",
    "“penalized likelihood.” The second approach is to use some scoring device, like <h3> information\n",
    "criteria or cross validation </h3>, to model the prediction task and estimate predictive\n",
    "accuracy"
   ]
  },
  {
   "cell_type": "code",
   "execution_count": null,
   "metadata": {},
   "outputs": [],
   "source": []
  }
 ],
 "metadata": {
  "kernelspec": {
   "display_name": "Python 3",
   "language": "python",
   "name": "python3"
  },
  "language_info": {
   "codemirror_mode": {
    "name": "ipython",
    "version": 3
   },
   "file_extension": ".py",
   "mimetype": "text/x-python",
   "name": "python",
   "nbconvert_exporter": "python",
   "pygments_lexer": "ipython3",
   "version": "3.8.5"
  }
 },
 "nbformat": 4,
 "nbformat_minor": 4
}
