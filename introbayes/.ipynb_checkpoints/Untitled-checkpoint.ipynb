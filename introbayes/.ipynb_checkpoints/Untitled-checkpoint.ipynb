{
 "cells": [
  {
   "cell_type": "markdown",
   "metadata": {},
   "source": [
    "Conjunction :p(A and B) or  p(B and A) <br>\n",
    "p(A and B) = p(B and A)<br>\n",
    "probability of a conjunction:<br>\n",
    "p(A and B) = p(A) p(B|A)=p(B) (A|B)<br>\n",
    "\n",
    "<h1>Bayes Rule</h1>\n",
    "$$P(A|B) = \\dfrac{P(B|A)P(A)}{P(B)}$$\n",
    "\n",
    "\n",
    "\n",
    "\n"
   ]
  },
  {
   "cell_type": "markdown",
   "metadata": {},
   "source": [
    "But we will interpret as \n",
    "$$P(model|data) = \\dfrac{P(data|model)}{P(data)}.P(model)$$\n"
   ]
  },
  {
   "cell_type": "markdown",
   "metadata": {},
   "source": [
    "<h2> The cookie problem </h2>\n",
    "Suppose we have two bowls of cookies: Bowl 1 has  30 vanilla cookies and  10 chocolate cookies\n",
    "bowl 2 has 20 vanilla and 20 choloclate cookies .You select a cookie and it is vanilla!<br>\n",
    "which of the bowls  did the cookie come from ? <br> Bayes rule does not answer that!\n",
    "\n",
    "our <b>data</b>: We have a vanilla cookie\n",
    "\n",
    "We have two models: \n",
    "<ol> \n",
    " <li>cokee came from bowl1= >p(Bowl1)</li> \n",
    " <li>cokee came from bowl2 => p(Bowl2)</li>\n",
    "</ol>\n",
    "$$P(model=Bowl1|data=V1) = \\dfrac{P(data=V1|model=Bowl1)}{P(V1)}.P(model=Bowl1)$$\n",
    "<h2> Likelyhood</h2>\n",
    "P(data=V1|model=Bowl1)\n",
    "<h2> Porior !distribution! </h2>\n",
    "P(model=Bowl1)\n",
    "\n",
    "<h2> Posterior !distribution! </h2>\n",
    "P(model=Bowl1|data=V1)\n",
    "\n",
    "\n",
    "\n",
    " \n",
    " \n",
    "\n",
    "\n",
    "\n",
    "\n",
    "\n",
    "\n"
   ]
  },
  {
   "cell_type": "markdown",
   "metadata": {},
   "source": [
    "<h2> Bowl2</h2>\n",
    "$$P(model=Bowl2|data=V1) = \\dfrac{P(data=V1|model=Bowl2)}{P(V1)}.P(model=Bowl2)$$"
   ]
  },
  {
   "cell_type": "markdown",
   "metadata": {},
   "source": [
    "<p>The normalizing constant can be tricky. It is supposed to be the probability of seeing the data under any hypothesis at all, but in the most general case it is hard to nail down what that means.</p>\n",
    "Most often we simplify things by specifying a set of hypotheses that are\n",
    "<ol><li>Mutually exclusive: At most one hypothesis in the set can be true,</li> and\n",
    "<li>Collectively exhaustive: There are no other possibilities; at least one of the hypotheses has to be true.</li></ol>\n",
    "<p>\n",
    "In the cookie problem, there are only two hypotheses—the cookie came from Bowl 1 or Bowl 2—and they are mutually exclusive and collectively exhaustive.</p>\n",
    "<p>In that case we can compute p(D) using the law of total probability, which says that if there are two exclusive ways that something might happen, you can add up the probabilities like this:</p>\n",
    "p(D) = p(B1) p(D|B1) + p(B2) p(D|B2)"
   ]
  },
  {
   "cell_type": "markdown",
   "metadata": {},
   "source": [
    "<h2>Second form of bayes</h2>\n",
    "$$P(model=Bowl1|data=V1) = \\dfrac{P(data=V1|model=Bowl2)}{P(Bowl1)P(data=V1|model=Bowl1)+P(Bowl2)P(data=V1|model=Bowl2)}.P(model=Bowl2)$$"
   ]
  },
  {
   "cell_type": "markdown",
   "metadata": {},
   "source": [
    "<h1> A Game of Cards</h1>\n"
   ]
  },
  {
   "cell_type": "markdown",
   "metadata": {},
   "source": [
    "<h1> High DECK</h1>\n",
    "<img src=\"deck1.png\" />\n"
   ]
  },
  {
   "cell_type": "markdown",
   "metadata": {},
   "source": [
    "<h1> Low DEck</h1>\n",
    "<img src=\"deck2.png\" />\n"
   ]
  },
  {
   "cell_type": "markdown",
   "metadata": {},
   "source": [
    "You’re handed one of the two decks, but you don’t know which.\n",
    "\n",
    "1.   First, you draw the top card and note the value.\n",
    "2.   Second, you replace the card and reshuffle the deck. \n",
    "\n",
    "\n",
    "You repeat this procedure of drawing, noting, and reshuffling for as many turns as you need. \n",
    "The goal is to determine which of the the two decks (High or Low) you are in fact holding in your hand."
   ]
  },
  {
   "cell_type": "markdown",
   "metadata": {},
   "source": [
    "<h1> Before the data - the prior</h1>\n",
    "     \n",
    "    p(High)=0.5\n",
    "\n",
    "\n",
    "    p(Low)=0.5\n",
    "\n",
    "    \n",
    "    \n",
    "    "
   ]
  },
  {
   "cell_type": "markdown",
   "metadata": {},
   "source": [
    "<table>\n",
    "<thead>\n",
    "  <tr>\n",
    "    <th>p(M|D)</th>\n",
    "    <th>p(D|M)  </th>\n",
    "    <th>p(M)</th>\n",
    "    <th>normalization </th>\n",
    "  </tr>\n",
    "</thead>\n",
    "<tbody>\n",
    "  <tr>\n",
    "    <td>? </td>\n",
    "    <td>?</td>\n",
    "    <td>?</td>\n",
    "    <td> ?</td>\n",
    "  </tr>\n",
    "  <tr>\n",
    "    <td> ?</td>\n",
    "    <td> ?</td>\n",
    "    <td> ?</td>\n",
    "    <td> ?</td>\n",
    "  </tr>\n",
    "</tbody>\n",
    "</table>\n",
    "\n"
   ]
  },
  {
   "cell_type": "markdown",
   "metadata": {},
   "source": [
    "P(H|data = 9 then a 7) ∼ P(data = 7|H)P(H, 9)<br>\n",
    "P(L|data = 9 then a 7) ∼ P(data = 7|L)P(L, 9) \n",
    " "
   ]
  },
  {
   "cell_type": "code",
   "execution_count": null,
   "metadata": {},
   "outputs": [],
   "source": []
  }
 ],
 "metadata": {
  "kernelspec": {
   "display_name": "Python 3",
   "language": "python",
   "name": "python3"
  },
  "language_info": {
   "codemirror_mode": {
    "name": "ipython",
    "version": 3
   },
   "file_extension": ".py",
   "mimetype": "text/x-python",
   "name": "python",
   "nbconvert_exporter": "python",
   "pygments_lexer": "ipython3",
   "version": "3.8.2"
  }
 },
 "nbformat": 4,
 "nbformat_minor": 4
}
