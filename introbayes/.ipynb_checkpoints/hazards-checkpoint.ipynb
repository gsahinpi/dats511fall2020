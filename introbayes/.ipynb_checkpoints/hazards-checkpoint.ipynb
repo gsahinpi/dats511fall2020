{
 "cells": [
  {
   "cell_type": "markdown",
   "metadata": {},
   "source": [
    " The previous lecture demonstrated some amazing powers of multiple regression. It can smoke out spurious correlations and clear up masking effects. \n",
    " This may encourage the view that, when in doubt, just add everything to the model and let the oracle of regression sort it out.\n",
    " \n",
    "This chapter and the next are both about terrible things that can happen when we simply\n",
    "add variables to a regression, without a clear idea of a causal model. \n",
    "In this chapter, we’ll explore\n",
    "three different hazards: multicollinearity, post-treatment bias, and collider bias. \n"
   ]
  },
  {
   "cell_type": "code",
   "execution_count": 1,
   "metadata": {},
   "outputs": [],
   "source": [
    "import warnings\n",
    "\n",
    "import arviz as az\n",
    "import matplotlib.pyplot as plt\n",
    "import numpy as np\n",
    "import pandas as pd\n",
    "import pymc3 as pm\n",
    "import seaborn as sns\n",
    "\n",
    "from scipy import stats\n",
    "from scipy.optimize import curve_fit\n",
    "\n"
   ]
  },
  {
   "cell_type": "markdown",
   "metadata": {},
   "source": [
    "<h1>Multicollinearity</h1>\n",
    "\n",
    "It is commonly true that there are many potential predictor variables to add to a regression\n",
    "model. In the case of the primate milk data, for example, there are 7 variables available\n",
    "to predict any column we choose as an outcome. Why not just fit a model that includes all\n",
    "7? There are several hazards. The one we’ll focus on here is multicollinearity. Multicollinearity\n",
    "means very strong correlation between two or more predictor variables.\n",
    "The consequence of it is that the posterior distribution will seem to suggest that none of the variables\n",
    "is reliably associated with the outcome, even if all of the variables are in reality strongly\n",
    "associated with the outcome. This frustrating phenomenon arises from the details of how\n",
    "multiple regression works. In fact, there is nothing wrong with multicollinearity. The model\n",
    "will work fine for prediction. You will just be frustrated trying to understand it. The hope is\n",
    "that once you understand multicollinearity, you will better understand regression models in\n",
    "general.\n",
    "Let’s begin with a simple simulation. Then we’ll turn to the primate milk data again and\n",
    "see multicollinearity in a real data set.\n",
    "\n",
    "\n",
    "\n",
    "\n",
    "\n",
    "The simulation example is predicting an individual’s height using\n",
    "the length of his or her legs as predictor variables. Surely height is positively associated\n",
    "with leg length, or at least the simulation will assume it is. Nevertheless, once you put both\n",
    "leg lengths into the model, something vexing will happen.\n",
    "The code below will simulate the heights and leg lengths of 100 individuals. For each,\n",
    "first a height is simulated from a Gaussian distribution. Then each individual gets a simulated\n",
    "proportion of height for their legs, ranging from 0.4 to 0.5. Finally, each leg is salted with a\n",
    "little measurement or developmental error, so the left and right legs are not exactly the same\n",
    "length, as is typical in real populations. At the end, the code puts height and the two leg\n",
    "lengths into a common data frame."
   ]
  },
  {
   "cell_type": "code",
   "execution_count": 2,
   "metadata": {},
   "outputs": [
    {
     "data": {
      "text/html": [
       "<div>\n",
       "<style scoped>\n",
       "    .dataframe tbody tr th:only-of-type {\n",
       "        vertical-align: middle;\n",
       "    }\n",
       "\n",
       "    .dataframe tbody tr th {\n",
       "        vertical-align: top;\n",
       "    }\n",
       "\n",
       "    .dataframe thead th {\n",
       "        text-align: right;\n",
       "    }\n",
       "</style>\n",
       "<table border=\"1\" class=\"dataframe\">\n",
       "  <thead>\n",
       "    <tr style=\"text-align: right;\">\n",
       "      <th></th>\n",
       "      <th>height</th>\n",
       "      <th>leg_left</th>\n",
       "      <th>leg_right</th>\n",
       "    </tr>\n",
       "  </thead>\n",
       "  <tbody>\n",
       "    <tr>\n",
       "      <th>count</th>\n",
       "      <td>100.000000</td>\n",
       "      <td>100.000000</td>\n",
       "      <td>100.000000</td>\n",
       "    </tr>\n",
       "    <tr>\n",
       "      <th>mean</th>\n",
       "      <td>10.022909</td>\n",
       "      <td>4.525385</td>\n",
       "      <td>4.531786</td>\n",
       "    </tr>\n",
       "    <tr>\n",
       "      <th>std</th>\n",
       "      <td>1.733838</td>\n",
       "      <td>0.844473</td>\n",
       "      <td>0.842108</td>\n",
       "    </tr>\n",
       "    <tr>\n",
       "      <th>min</th>\n",
       "      <td>5.625724</td>\n",
       "      <td>2.812547</td>\n",
       "      <td>2.815829</td>\n",
       "    </tr>\n",
       "    <tr>\n",
       "      <th>25%</th>\n",
       "      <td>8.894380</td>\n",
       "      <td>3.908568</td>\n",
       "      <td>3.919682</td>\n",
       "    </tr>\n",
       "    <tr>\n",
       "      <th>50%</th>\n",
       "      <td>9.616304</td>\n",
       "      <td>4.406619</td>\n",
       "      <td>4.393544</td>\n",
       "    </tr>\n",
       "    <tr>\n",
       "      <th>75%</th>\n",
       "      <td>11.416339</td>\n",
       "      <td>5.087926</td>\n",
       "      <td>5.099140</td>\n",
       "    </tr>\n",
       "    <tr>\n",
       "      <th>max</th>\n",
       "      <td>16.037942</td>\n",
       "      <td>7.920377</td>\n",
       "      <td>7.895651</td>\n",
       "    </tr>\n",
       "  </tbody>\n",
       "</table>\n",
       "</div>"
      ],
      "text/plain": [
       "           height    leg_left   leg_right\n",
       "count  100.000000  100.000000  100.000000\n",
       "mean    10.022909    4.525385    4.531786\n",
       "std      1.733838    0.844473    0.842108\n",
       "min      5.625724    2.812547    2.815829\n",
       "25%      8.894380    3.908568    3.919682\n",
       "50%      9.616304    4.406619    4.393544\n",
       "75%     11.416339    5.087926    5.099140\n",
       "max     16.037942    7.920377    7.895651"
      ]
     },
     "execution_count": 2,
     "metadata": {},
     "output_type": "execute_result"
    }
   ],
   "source": [
    "N = 100  # number of individuals\n",
    "height = np.random.normal(10, 2, N)  # sim total height of each\n",
    "leg_prop = np.random.uniform(0.4, 0.5, N)  # leg as proportion of height\n",
    "leg_left = leg_prop * height + np.random.normal(\n",
    "    0, 0.02, N\n",
    ")  # sim left leg as proportion + error\n",
    "leg_right = leg_prop * height + np.random.normal(\n",
    "    0, 0.02, N\n",
    ")  # sim right leg as proportion + error\n",
    "\n",
    "d = pd.DataFrame(\n",
    "    np.vstack([height, leg_left, leg_right]).T,\n",
    "    columns=[\"height\", \"leg_left\", \"leg_right\"],\n",
    ")  # combine into data frame\n",
    "\n",
    "d.head()\n",
    "d.describe()"
   ]
  },
  {
   "cell_type": "code",
   "execution_count": 3,
   "metadata": {},
   "outputs": [
    {
     "name": "stderr",
     "output_type": "stream",
     "text": [
      "Auto-assigning NUTS sampler...\n",
      "Initializing NUTS using jitter+adapt_diag...\n",
      "Multiprocess sampling (2 chains in 2 jobs)\n",
      "NUTS: [sigma, br, bl, a]\n"
     ]
    },
    {
     "data": {
      "text/html": [
       "\n",
       "    <div>\n",
       "        <style>\n",
       "            /* Turns off some styling */\n",
       "            progress {\n",
       "                /* gets rid of default border in Firefox and Opera. */\n",
       "                border: none;\n",
       "                /* Needs to be in here for Safari polyfill so background images work as expected. */\n",
       "                background-size: auto;\n",
       "            }\n",
       "            .progress-bar-interrupted, .progress-bar-interrupted::-webkit-progress-bar {\n",
       "                background: #F44336;\n",
       "            }\n",
       "        </style>\n",
       "      <progress value='4000' class='' max='4000' style='width:300px; height:20px; vertical-align: middle;'></progress>\n",
       "      100.00% [4000/4000 04:21<00:00 Sampling 2 chains, 175 divergences]\n",
       "    </div>\n",
       "    "
      ],
      "text/plain": [
       "<IPython.core.display.HTML object>"
      ]
     },
     "metadata": {},
     "output_type": "display_data"
    },
    {
     "name": "stderr",
     "output_type": "stream",
     "text": [
      "Sampling 2 chains for 1_000 tune and 1_000 draw iterations (2_000 + 2_000 draws total) took 276 seconds.\n",
      "There were 17 divergences after tuning. Increase `target_accept` or reparameterize.\n",
      "There were 158 divergences after tuning. Increase `target_accept` or reparameterize.\n",
      "The estimated number of effective samples is smaller than 200 for some parameters.\n"
     ]
    },
    {
     "data": {
      "text/html": [
       "<div>\n",
       "<style scoped>\n",
       "    .dataframe tbody tr th:only-of-type {\n",
       "        vertical-align: middle;\n",
       "    }\n",
       "\n",
       "    .dataframe tbody tr th {\n",
       "        vertical-align: top;\n",
       "    }\n",
       "\n",
       "    .dataframe thead th {\n",
       "        text-align: right;\n",
       "    }\n",
       "</style>\n",
       "<table border=\"1\" class=\"dataframe\">\n",
       "  <thead>\n",
       "    <tr style=\"text-align: right;\">\n",
       "      <th></th>\n",
       "      <th>mean</th>\n",
       "      <th>sd</th>\n",
       "      <th>hdi_3%</th>\n",
       "      <th>hdi_97%</th>\n",
       "      <th>mcse_mean</th>\n",
       "      <th>mcse_sd</th>\n",
       "      <th>ess_mean</th>\n",
       "      <th>ess_sd</th>\n",
       "      <th>ess_bulk</th>\n",
       "      <th>ess_tail</th>\n",
       "      <th>r_hat</th>\n",
       "    </tr>\n",
       "  </thead>\n",
       "  <tbody>\n",
       "    <tr>\n",
       "      <th>a</th>\n",
       "      <td>1.36</td>\n",
       "      <td>0.36</td>\n",
       "      <td>0.69</td>\n",
       "      <td>2.04</td>\n",
       "      <td>0.01</td>\n",
       "      <td>0.01</td>\n",
       "      <td>840.67</td>\n",
       "      <td>840.67</td>\n",
       "      <td>864.00</td>\n",
       "      <td>912.56</td>\n",
       "      <td>1.01</td>\n",
       "    </tr>\n",
       "    <tr>\n",
       "      <th>bl</th>\n",
       "      <td>1.00</td>\n",
       "      <td>2.35</td>\n",
       "      <td>-3.16</td>\n",
       "      <td>5.57</td>\n",
       "      <td>0.10</td>\n",
       "      <td>0.08</td>\n",
       "      <td>527.70</td>\n",
       "      <td>491.36</td>\n",
       "      <td>525.52</td>\n",
       "      <td>583.31</td>\n",
       "      <td>1.01</td>\n",
       "    </tr>\n",
       "    <tr>\n",
       "      <th>br</th>\n",
       "      <td>0.91</td>\n",
       "      <td>2.36</td>\n",
       "      <td>-3.62</td>\n",
       "      <td>5.19</td>\n",
       "      <td>0.10</td>\n",
       "      <td>0.08</td>\n",
       "      <td>530.48</td>\n",
       "      <td>440.56</td>\n",
       "      <td>527.10</td>\n",
       "      <td>585.60</td>\n",
       "      <td>1.01</td>\n",
       "    </tr>\n",
       "    <tr>\n",
       "      <th>sigma</th>\n",
       "      <td>0.65</td>\n",
       "      <td>0.05</td>\n",
       "      <td>0.58</td>\n",
       "      <td>0.74</td>\n",
       "      <td>0.00</td>\n",
       "      <td>0.00</td>\n",
       "      <td>117.25</td>\n",
       "      <td>117.25</td>\n",
       "      <td>89.10</td>\n",
       "      <td>190.26</td>\n",
       "      <td>1.02</td>\n",
       "    </tr>\n",
       "  </tbody>\n",
       "</table>\n",
       "</div>"
      ],
      "text/plain": [
       "       mean    sd  hdi_3%  hdi_97%  mcse_mean  mcse_sd  ess_mean  ess_sd  \\\n",
       "a      1.36  0.36    0.69     2.04       0.01     0.01    840.67  840.67   \n",
       "bl     1.00  2.35   -3.16     5.57       0.10     0.08    527.70  491.36   \n",
       "br     0.91  2.36   -3.62     5.19       0.10     0.08    530.48  440.56   \n",
       "sigma  0.65  0.05    0.58     0.74       0.00     0.00    117.25  117.25   \n",
       "\n",
       "       ess_bulk  ess_tail  r_hat  \n",
       "a        864.00    912.56   1.01  \n",
       "bl       525.52    583.31   1.01  \n",
       "br       527.10    585.60   1.01  \n",
       "sigma     89.10    190.26   1.02  "
      ]
     },
     "execution_count": 3,
     "metadata": {},
     "output_type": "execute_result"
    }
   ],
   "source": [
    "with pm.Model() as m_6_1:\n",
    "    a = pm.Normal(\"a\", 10, 100)         #Those posterior means and standard deviations look crazy. This is a case in which a graphical\n",
    "\n",
    "    \n",
    "    bl = pm.Normal(\"bl\", 2, 10)      #view of the precis output is more useful, because it displays the posterior means and 89%\n",
    "\n",
    "    br = pm.Normal(\"br\", 2, 10)\n",
    "\n",
    "    mu = a + bl * d.leg_left + br * d.leg_right #intervals in a way that allows us with a glance to see that something has gone wrong here:\n",
    "    sigma = pm.Exponential(\"sigma\", 1)\n",
    "\n",
    "    height = pm.Normal(\"height\", mu=mu, sigma=sigma, observed=d.height)\n",
    "\n",
    "    m_6_1_trace = pm.sample()\n",
    "    idata_6_1 = az.from_pymc3(\n",
    "        m_6_1_trace\n",
    "    )  # create an arviz InferenceData object from the trace.\n",
    "    # this happens automatically when calling az.summary, but as we'll be using this trace multiple\n",
    "    # times below it's more efficient to do the conversion once at the start.\n",
    "\n",
    "az.summary(idata_6_1, round_to=2)"
   ]
  },
  {
   "cell_type": "code",
   "execution_count": 5,
   "metadata": {},
   "outputs": [
    {
     "name": "stderr",
     "output_type": "stream",
     "text": [
      "/Users/gokhansahin/opt/anaconda3/envs/MCelreath-pymc3/lib/python3.8/site-packages/arviz/data/io_pymc3.py:87: FutureWarning: Using `from_pymc3` without the model will be deprecated in a future release. Not using the model will return less accurate and less useful results. Make sure you use the model argument or call from_pymc3 within a model context.\n",
      "  warnings.warn(\n",
      "/Users/gokhansahin/opt/anaconda3/envs/MCelreath-pymc3/lib/python3.8/site-packages/arviz/utils.py:124: UserWarning: Items starting with ~: ['mu'] have not been found and will be ignored\n",
      "  warnings.warn(\n"
     ]
    },
    {
     "data": {
      "image/png": "[encoded data removed]",
      "text/plain": [
       "<Figure size 360x144 with 1 Axes>"
      ]
     },
     "metadata": {
      "needs_background": "light"
     },
     "output_type": "display_data"
    }
   ],
   "source": [
    "_ = az.plot_forest(m_6_1_trace, var_names=[\"~mu\"], combined=True, figsize=[5, 2])"
   ]
  },
  {
   "cell_type": "markdown",
   "metadata": {},
   "source": [
    "If both legs have almost identical lengths, and height is so strongly associated with leg length, then why\n",
    "is this posterior distribution so weird? Did the posterior approximation work correctly?It did work correctly, and the posterior distribution here is the right answer to the question\n",
    "we asked. \n",
    "The problem is the question. Recall that a multiple linear regression answers\n",
    "the question: What is the value of knowing each predictor, after already knowing all of the\n",
    "other predictors? \n",
    "<b>So in this case, the question becomes: What is the value of knowing each\n",
    "leg’s length, after already knowing the other leg’s length?</b>\n",
    "\n",
    "The answer to this weird question is equally weird, but perfectly logical. The posterior\n",
    "distribution is the answer to this question, considering every possible combination of the\n",
    "parameters and assigning relative plausibilities to every combination, conditional on this\n",
    "model and these data. It might help to look at the bivariate posterior distribution for bl and\n",
    "br:"
   ]
  },
  {
   "cell_type": "code",
   "execution_count": 6,
   "metadata": {},
   "outputs": [
    {
     "data": {
      "image/png": "[encoded data removed]",
      "text/plain": [
       "<Figure size 504x216 with 2 Axes>"
      ]
     },
     "metadata": {
      "needs_background": "light"
     },
     "output_type": "display_data"
    }
   ],
   "source": [
    "fig, [ax1, ax2] = plt.subplots(1, 2, figsize=[7, 3])\n",
    "\n",
    "# code 6.5\n",
    "ax1.scatter(m_6_1_trace[br], m_6_1_trace[bl], alpha=0.05, s=20)\n",
    "ax1.set_xlabel(\"br\")\n",
    "ax1.set_ylabel(\"bl\")\n",
    "\n",
    "# code 6.6\n",
    "az.plot_kde(m_6_1_trace[br] + m_6_1_trace[bl], ax=ax2)\n",
    "ax2.set_ylabel(\"Density\")\n",
    "ax2.set_xlabel(\"sum of bl and br\");\n",
    "\n"
   ]
  },
  {
   "cell_type": "markdown",
   "metadata": {},
   "source": [
    "The posterior distribution for these\n",
    "two parameters is very highly correlated, with all of the plausible values of bl and br lying\n",
    "along a narrow ridge. When bl is large, then br must be small. What has happened here\n",
    "is that since both leg variables contain almost exactly the same information, if you insist on\n",
    "including both in a model, then there will be a practically infinite number of combinations\n",
    "of bl and br that produce the same predictions.\n",
    "One way to think of this phenomenon is that you have approximated this model:\n",
    "\n",
    "yi ∼ Normal(μi, σ)\n",
    "μi = α + β1xi + β2xi\n",
    "\n",
    "The variable y is the outcome, like height in the example, and x is a single predictor, like the leg\n",
    "lengths in the example. Here x is used twice, which is a perfect example of the problem caused\n",
    "by using the almost-identical leg lengths. From the computer’s perspective, this model is\n",
    "simply:\n",
    "\n",
    "yi ∼ Normal(μi, σ)\n",
    "μi = α + (β1 + β2)xi\n",
    "\n",
    "All I’ve done is factor xi out of each term. The parameters β1 and β2 cannot be pulled apart,\n",
    "because they never separately influence the mean μ. Only their sum, β1+β2, influences μ. So\n",
    "this means the posterior distribution ends up reporting the very large range of combinations\n",
    "of β1 and β2 that make their sum close to the actual association of x with y."
   ]
  },
  {
   "cell_type": "code",
   "execution_count": 11,
   "metadata": {},
   "outputs": [
    {
     "name": "stderr",
     "output_type": "stream",
     "text": [
      "Auto-assigning NUTS sampler...\n",
      "Initializing NUTS using jitter+adapt_diag...\n",
      "Multiprocess sampling (2 chains in 2 jobs)\n",
      "NUTS: [sigma, bl, a]\n"
     ]
    },
    {
     "data": {
      "text/html": [
       "\n",
       "    <div>\n",
       "        <style>\n",
       "            /* Turns off some styling */\n",
       "            progress {\n",
       "                /* gets rid of default border in Firefox and Opera. */\n",
       "                border: none;\n",
       "                /* Needs to be in here for Safari polyfill so background images work as expected. */\n",
       "                background-size: auto;\n",
       "            }\n",
       "            .progress-bar-interrupted, .progress-bar-interrupted::-webkit-progress-bar {\n",
       "                background: #F44336;\n",
       "            }\n",
       "        </style>\n",
       "      <progress value='4000' class='' max='4000' style='width:300px; height:20px; vertical-align: middle;'></progress>\n",
       "      100.00% [4000/4000 00:18<00:00 Sampling 2 chains, 7 divergences]\n",
       "    </div>\n",
       "    "
      ],
      "text/plain": [
       "<IPython.core.display.HTML object>"
      ]
     },
     "metadata": {},
     "output_type": "display_data"
    },
    {
     "name": "stderr",
     "output_type": "stream",
     "text": [
      "Sampling 2 chains for 1_000 tune and 1_000 draw iterations (2_000 + 2_000 draws total) took 31 seconds.\n",
      "There were 3 divergences after tuning. Increase `target_accept` or reparameterize.\n",
      "There were 4 divergences after tuning. Increase `target_accept` or reparameterize.\n",
      "The acceptance probability does not match the target. It is 0.655700732459104, but should be close to 0.8. Try to increase the number of tuning steps.\n",
      "The number of effective samples is smaller than 25% for some parameters.\n"
     ]
    },
    {
     "data": {
      "text/html": [
       "<div>\n",
       "<style scoped>\n",
       "    .dataframe tbody tr th:only-of-type {\n",
       "        vertical-align: middle;\n",
       "    }\n",
       "\n",
       "    .dataframe tbody tr th {\n",
       "        vertical-align: top;\n",
       "    }\n",
       "\n",
       "    .dataframe thead th {\n",
       "        text-align: right;\n",
       "    }\n",
       "</style>\n",
       "<table border=\"1\" class=\"dataframe\">\n",
       "  <thead>\n",
       "    <tr style=\"text-align: right;\">\n",
       "      <th></th>\n",
       "      <th>mean</th>\n",
       "      <th>sd</th>\n",
       "      <th>hdi_3%</th>\n",
       "      <th>hdi_97%</th>\n",
       "      <th>mcse_mean</th>\n",
       "      <th>mcse_sd</th>\n",
       "      <th>ess_mean</th>\n",
       "      <th>ess_sd</th>\n",
       "      <th>ess_bulk</th>\n",
       "      <th>ess_tail</th>\n",
       "      <th>r_hat</th>\n",
       "    </tr>\n",
       "  </thead>\n",
       "  <tbody>\n",
       "    <tr>\n",
       "      <th>a</th>\n",
       "      <td>0.68</td>\n",
       "      <td>0.32</td>\n",
       "      <td>0.10</td>\n",
       "      <td>1.28</td>\n",
       "      <td>0.01</td>\n",
       "      <td>0.01</td>\n",
       "      <td>555.80</td>\n",
       "      <td>535.75</td>\n",
       "      <td>555.81</td>\n",
       "      <td>616.42</td>\n",
       "      <td>1.01</td>\n",
       "    </tr>\n",
       "    <tr>\n",
       "      <th>bl</th>\n",
       "      <td>2.07</td>\n",
       "      <td>0.07</td>\n",
       "      <td>1.95</td>\n",
       "      <td>2.20</td>\n",
       "      <td>0.00</td>\n",
       "      <td>0.00</td>\n",
       "      <td>559.04</td>\n",
       "      <td>559.04</td>\n",
       "      <td>560.45</td>\n",
       "      <td>583.16</td>\n",
       "      <td>1.01</td>\n",
       "    </tr>\n",
       "    <tr>\n",
       "      <th>sigma</th>\n",
       "      <td>0.64</td>\n",
       "      <td>0.05</td>\n",
       "      <td>0.56</td>\n",
       "      <td>0.72</td>\n",
       "      <td>0.00</td>\n",
       "      <td>0.00</td>\n",
       "      <td>242.91</td>\n",
       "      <td>242.91</td>\n",
       "      <td>214.30</td>\n",
       "      <td>132.16</td>\n",
       "      <td>1.01</td>\n",
       "    </tr>\n",
       "  </tbody>\n",
       "</table>\n",
       "</div>"
      ],
      "text/plain": [
       "       mean    sd  hdi_3%  hdi_97%  mcse_mean  mcse_sd  ess_mean  ess_sd  \\\n",
       "a      0.68  0.32    0.10     1.28       0.01     0.01    555.80  535.75   \n",
       "bl     2.07  0.07    1.95     2.20       0.00     0.00    559.04  559.04   \n",
       "sigma  0.64  0.05    0.56     0.72       0.00     0.00    242.91  242.91   \n",
       "\n",
       "       ess_bulk  ess_tail  r_hat  \n",
       "a        555.81    616.42   1.01  \n",
       "bl       560.45    583.16   1.01  \n",
       "sigma    214.30    132.16   1.01  "
      ]
     },
     "execution_count": 11,
     "metadata": {},
     "output_type": "execute_result"
    }
   ],
   "source": [
    "with pm.Model() as m_6_2:\n",
    "    a = pm.Normal(\"a\", 10, 100)\n",
    "    bl = pm.Normal(\"bl\", 2, 10)\n",
    "\n",
    "    mu = a + bl * d.leg_left\n",
    "    sigma = pm.Exponential(\"sigma\", 1)\n",
    "\n",
    "    height = pm.Normal(\"height\", mu=mu, sigma=sigma, observed=d.height)\n",
    "\n",
    "    m_6_2_trace = pm.sample()\n",
    "    idata_m_6_2 = az.from_pymc3(m_6_2_trace)\n",
    "\n",
    "az.summary(idata_m_6_2, round_to=2)"
   ]
  },
  {
   "cell_type": "markdown",
   "metadata": {},
   "source": [
    "<h1> Real data multi colinearity</h1>"
   ]
  },
  {
   "cell_type": "code",
   "execution_count": 7,
   "metadata": {},
   "outputs": [],
   "source": [
    "d = pd.read_csv(\"Data/milk.csv\", sep=\";\")\n",
    "\n",
    "\n",
    "def standardise(series):\n",
    "    \"\"\"Standardize a pandas series\"\"\"\n",
    "    return (series - series.mean()) / series.std()\n",
    "\n",
    "\n",
    "d.loc[:, \"K\"] = standardise(d[\"kcal.per.g\"])\n",
    "d.loc[:, \"F\"] = standardise(d[\"perc.fat\"])\n",
    "d.loc[:, \"L\"] = standardise(d[\"perc.lactose\"])\n"
   ]
  },
  {
   "cell_type": "markdown",
   "metadata": {},
   "source": [
    "In this example, we are concerned with the variables perc.fat (percent fat) and perc.lactose\n",
    "(percent lactose) that we might use to model the total energy content, kcal.per.g. The code\n",
    "above has already standardized these three variables. You’re going to use these three variables\n",
    "to explore a natural case of multicollinearity."
   ]
  },
  {
   "cell_type": "code",
   "execution_count": 8,
   "metadata": {},
   "outputs": [
    {
     "name": "stderr",
     "output_type": "stream",
     "text": [
      "Auto-assigning NUTS sampler...\n",
      "Initializing NUTS using jitter+adapt_diag...\n",
      "Multiprocess sampling (2 chains in 2 jobs)\n",
      "NUTS: [sigma, bF, a]\n"
     ]
    },
    {
     "data": {
      "text/html": [
       "\n",
       "    <div>\n",
       "        <style>\n",
       "            /* Turns off some styling */\n",
       "            progress {\n",
       "                /* gets rid of default border in Firefox and Opera. */\n",
       "                border: none;\n",
       "                /* Needs to be in here for Safari polyfill so background images work as expected. */\n",
       "                background-size: auto;\n",
       "            }\n",
       "            .progress-bar-interrupted, .progress-bar-interrupted::-webkit-progress-bar {\n",
       "                background: #F44336;\n",
       "            }\n",
       "        </style>\n",
       "      <progress value='4000' class='' max='4000' style='width:300px; height:20px; vertical-align: middle;'></progress>\n",
       "      100.00% [4000/4000 00:07<00:00 Sampling 2 chains, 0 divergences]\n",
       "    </div>\n",
       "    "
      ],
      "text/plain": [
       "<IPython.core.display.HTML object>"
      ]
     },
     "metadata": {},
     "output_type": "display_data"
    },
    {
     "name": "stderr",
     "output_type": "stream",
     "text": [
      "Sampling 2 chains for 1_000 tune and 1_000 draw iterations (2_000 + 2_000 draws total) took 20 seconds.\n"
     ]
    },
    {
     "data": {
      "text/html": [
       "<div>\n",
       "<style scoped>\n",
       "    .dataframe tbody tr th:only-of-type {\n",
       "        vertical-align: middle;\n",
       "    }\n",
       "\n",
       "    .dataframe tbody tr th {\n",
       "        vertical-align: top;\n",
       "    }\n",
       "\n",
       "    .dataframe thead th {\n",
       "        text-align: right;\n",
       "    }\n",
       "</style>\n",
       "<table border=\"1\" class=\"dataframe\">\n",
       "  <thead>\n",
       "    <tr style=\"text-align: right;\">\n",
       "      <th></th>\n",
       "      <th>mean</th>\n",
       "      <th>sd</th>\n",
       "      <th>hdi_3%</th>\n",
       "      <th>hdi_97%</th>\n",
       "      <th>mcse_mean</th>\n",
       "      <th>mcse_sd</th>\n",
       "      <th>ess_mean</th>\n",
       "      <th>ess_sd</th>\n",
       "      <th>ess_bulk</th>\n",
       "      <th>ess_tail</th>\n",
       "      <th>r_hat</th>\n",
       "    </tr>\n",
       "  </thead>\n",
       "  <tbody>\n",
       "    <tr>\n",
       "      <th>a</th>\n",
       "      <td>0.00</td>\n",
       "      <td>0.08</td>\n",
       "      <td>-0.16</td>\n",
       "      <td>0.15</td>\n",
       "      <td>0.0</td>\n",
       "      <td>0.0</td>\n",
       "      <td>2501.88</td>\n",
       "      <td>650.07</td>\n",
       "      <td>2499.74</td>\n",
       "      <td>1255.16</td>\n",
       "      <td>1.0</td>\n",
       "    </tr>\n",
       "    <tr>\n",
       "      <th>bF</th>\n",
       "      <td>0.86</td>\n",
       "      <td>0.09</td>\n",
       "      <td>0.68</td>\n",
       "      <td>1.02</td>\n",
       "      <td>0.0</td>\n",
       "      <td>0.0</td>\n",
       "      <td>2226.20</td>\n",
       "      <td>2226.20</td>\n",
       "      <td>2240.14</td>\n",
       "      <td>1430.53</td>\n",
       "      <td>1.0</td>\n",
       "    </tr>\n",
       "    <tr>\n",
       "      <th>sigma</th>\n",
       "      <td>0.49</td>\n",
       "      <td>0.06</td>\n",
       "      <td>0.38</td>\n",
       "      <td>0.61</td>\n",
       "      <td>0.0</td>\n",
       "      <td>0.0</td>\n",
       "      <td>1861.58</td>\n",
       "      <td>1801.05</td>\n",
       "      <td>1882.30</td>\n",
       "      <td>1188.53</td>\n",
       "      <td>1.0</td>\n",
       "    </tr>\n",
       "  </tbody>\n",
       "</table>\n",
       "</div>"
      ],
      "text/plain": [
       "       mean    sd  hdi_3%  hdi_97%  mcse_mean  mcse_sd  ess_mean   ess_sd  \\\n",
       "a      0.00  0.08   -0.16     0.15        0.0      0.0   2501.88   650.07   \n",
       "bF     0.86  0.09    0.68     1.02        0.0      0.0   2226.20  2226.20   \n",
       "sigma  0.49  0.06    0.38     0.61        0.0      0.0   1861.58  1801.05   \n",
       "\n",
       "       ess_bulk  ess_tail  r_hat  \n",
       "a       2499.74   1255.16    1.0  \n",
       "bF      2240.14   1430.53    1.0  \n",
       "sigma   1882.30   1188.53    1.0  "
      ]
     },
     "execution_count": 8,
     "metadata": {},
     "output_type": "execute_result"
    }
   ],
   "source": [
    "# kcal.per.g regressed on perc.fat\n",
    "with pm.Model() as m_6_3:\n",
    "    a = pm.Normal(\"a\", 0, 0.2)\n",
    "    bF = pm.Normal(\"bF\", 0, 0.5)\n",
    "\n",
    "    mu = a + bF * d.F\n",
    "    sigma = pm.Exponential(\"sigma\", 1)\n",
    "\n",
    "    K = pm.Normal(\"K\", mu, sigma, observed=d.K)\n",
    "\n",
    "    m_6_3_trace = pm.sample()\n",
    "    idata_m_6_3 = az.from_pymc3(m_6_3_trace)\n",
    "\n",
    "az.summary(idata_m_6_3, round_to=2)"
   ]
  },
  {
   "cell_type": "code",
   "execution_count": 9,
   "metadata": {},
   "outputs": [
    {
     "name": "stderr",
     "output_type": "stream",
     "text": [
      "Auto-assigning NUTS sampler...\n",
      "Initializing NUTS using jitter+adapt_diag...\n",
      "Multiprocess sampling (2 chains in 2 jobs)\n",
      "NUTS: [sigma, bL, a]\n"
     ]
    },
    {
     "data": {
      "text/html": [
       "\n",
       "    <div>\n",
       "        <style>\n",
       "            /* Turns off some styling */\n",
       "            progress {\n",
       "                /* gets rid of default border in Firefox and Opera. */\n",
       "                border: none;\n",
       "                /* Needs to be in here for Safari polyfill so background images work as expected. */\n",
       "                background-size: auto;\n",
       "            }\n",
       "            .progress-bar-interrupted, .progress-bar-interrupted::-webkit-progress-bar {\n",
       "                background: #F44336;\n",
       "            }\n",
       "        </style>\n",
       "      <progress value='4000' class='' max='4000' style='width:300px; height:20px; vertical-align: middle;'></progress>\n",
       "      100.00% [4000/4000 00:07<00:00 Sampling 2 chains, 0 divergences]\n",
       "    </div>\n",
       "    "
      ],
      "text/plain": [
       "<IPython.core.display.HTML object>"
      ]
     },
     "metadata": {},
     "output_type": "display_data"
    },
    {
     "name": "stderr",
     "output_type": "stream",
     "text": [
      "Sampling 2 chains for 1_000 tune and 1_000 draw iterations (2_000 + 2_000 draws total) took 15 seconds.\n"
     ]
    },
    {
     "data": {
      "text/html": [
       "<div>\n",
       "<style scoped>\n",
       "    .dataframe tbody tr th:only-of-type {\n",
       "        vertical-align: middle;\n",
       "    }\n",
       "\n",
       "    .dataframe tbody tr th {\n",
       "        vertical-align: top;\n",
       "    }\n",
       "\n",
       "    .dataframe thead th {\n",
       "        text-align: right;\n",
       "    }\n",
       "</style>\n",
       "<table border=\"1\" class=\"dataframe\">\n",
       "  <thead>\n",
       "    <tr style=\"text-align: right;\">\n",
       "      <th></th>\n",
       "      <th>mean</th>\n",
       "      <th>sd</th>\n",
       "      <th>hdi_3%</th>\n",
       "      <th>hdi_97%</th>\n",
       "      <th>mcse_mean</th>\n",
       "      <th>mcse_sd</th>\n",
       "      <th>ess_mean</th>\n",
       "      <th>ess_sd</th>\n",
       "      <th>ess_bulk</th>\n",
       "      <th>ess_tail</th>\n",
       "      <th>r_hat</th>\n",
       "    </tr>\n",
       "  </thead>\n",
       "  <tbody>\n",
       "    <tr>\n",
       "      <th>a</th>\n",
       "      <td>0.00</td>\n",
       "      <td>0.07</td>\n",
       "      <td>-0.13</td>\n",
       "      <td>0.13</td>\n",
       "      <td>0.0</td>\n",
       "      <td>0.0</td>\n",
       "      <td>2159.20</td>\n",
       "      <td>1287.28</td>\n",
       "      <td>2149.64</td>\n",
       "      <td>1746.69</td>\n",
       "      <td>1.0</td>\n",
       "    </tr>\n",
       "    <tr>\n",
       "      <th>bL</th>\n",
       "      <td>-0.90</td>\n",
       "      <td>0.08</td>\n",
       "      <td>-1.04</td>\n",
       "      <td>-0.75</td>\n",
       "      <td>0.0</td>\n",
       "      <td>0.0</td>\n",
       "      <td>1910.55</td>\n",
       "      <td>1910.55</td>\n",
       "      <td>1996.50</td>\n",
       "      <td>1427.80</td>\n",
       "      <td>1.0</td>\n",
       "    </tr>\n",
       "    <tr>\n",
       "      <th>sigma</th>\n",
       "      <td>0.41</td>\n",
       "      <td>0.06</td>\n",
       "      <td>0.31</td>\n",
       "      <td>0.52</td>\n",
       "      <td>0.0</td>\n",
       "      <td>0.0</td>\n",
       "      <td>2162.13</td>\n",
       "      <td>2078.04</td>\n",
       "      <td>2226.97</td>\n",
       "      <td>1415.96</td>\n",
       "      <td>1.0</td>\n",
       "    </tr>\n",
       "  </tbody>\n",
       "</table>\n",
       "</div>"
      ],
      "text/plain": [
       "       mean    sd  hdi_3%  hdi_97%  mcse_mean  mcse_sd  ess_mean   ess_sd  \\\n",
       "a      0.00  0.07   -0.13     0.13        0.0      0.0   2159.20  1287.28   \n",
       "bL    -0.90  0.08   -1.04    -0.75        0.0      0.0   1910.55  1910.55   \n",
       "sigma  0.41  0.06    0.31     0.52        0.0      0.0   2162.13  2078.04   \n",
       "\n",
       "       ess_bulk  ess_tail  r_hat  \n",
       "a       2149.64   1746.69    1.0  \n",
       "bL      1996.50   1427.80    1.0  \n",
       "sigma   2226.97   1415.96    1.0  "
      ]
     },
     "execution_count": 9,
     "metadata": {},
     "output_type": "execute_result"
    }
   ],
   "source": [
    "# kcal.per.g regressed on perc.lactose\n",
    "with pm.Model() as m_6_4:\n",
    "    a = pm.Normal(\"a\", 0, 0.2)\n",
    "    bL = pm.Normal(\"bL\", 0, 0.5)\n",
    "\n",
    "    mu = a + bL * d.L\n",
    "    sigma = pm.Exponential(\"sigma\", 1)\n",
    "\n",
    "    K = pm.Normal(\"K\", mu, sigma, observed=d.K)\n",
    "\n",
    "    m_6_4_trace = pm.sample()\n",
    "    idata_m_6_4 = az.from_pymc3(m_6_4_trace)\n",
    "\n",
    "az.summary(idata_m_6_4, round_to=2)"
   ]
  },
  {
   "cell_type": "code",
   "execution_count": 10,
   "metadata": {},
   "outputs": [
    {
     "data": {
      "image/png": "[encoded data removed]",
      "text/plain": [
       "<Figure size 540x540 with 12 Axes>"
      ]
     },
     "metadata": {
      "needs_background": "light"
     },
     "output_type": "display_data"
    }
   ],
   "source": [
    "sns.pairplot(d.loc[:, [\"kcal.per.g\", \"perc.fat\", \"perc.lactose\"]]);"
   ]
  },
  {
   "cell_type": "markdown",
   "metadata": {},
   "source": [
    "But watch what happens when we\n",
    "place both predictor variables in the same regression model:"
   ]
  },
  {
   "cell_type": "code",
   "execution_count": 11,
   "metadata": {},
   "outputs": [
    {
     "name": "stderr",
     "output_type": "stream",
     "text": [
      "Auto-assigning NUTS sampler...\n",
      "Initializing NUTS using jitter+adapt_diag...\n",
      "Multiprocess sampling (2 chains in 2 jobs)\n",
      "NUTS: [sigma, bL, bF, a]\n"
     ]
    },
    {
     "data": {
      "text/html": [
       "\n",
       "    <div>\n",
       "        <style>\n",
       "            /* Turns off some styling */\n",
       "            progress {\n",
       "                /* gets rid of default border in Firefox and Opera. */\n",
       "                border: none;\n",
       "                /* Needs to be in here for Safari polyfill so background images work as expected. */\n",
       "                background-size: auto;\n",
       "            }\n",
       "            .progress-bar-interrupted, .progress-bar-interrupted::-webkit-progress-bar {\n",
       "                background: #F44336;\n",
       "            }\n",
       "        </style>\n",
       "      <progress value='4000' class='' max='4000' style='width:300px; height:20px; vertical-align: middle;'></progress>\n",
       "      100.00% [4000/4000 00:10<00:00 Sampling 2 chains, 0 divergences]\n",
       "    </div>\n",
       "    "
      ],
      "text/plain": [
       "<IPython.core.display.HTML object>"
      ]
     },
     "metadata": {},
     "output_type": "display_data"
    },
    {
     "name": "stderr",
     "output_type": "stream",
     "text": [
      "Sampling 2 chains for 1_000 tune and 1_000 draw iterations (2_000 + 2_000 draws total) took 19 seconds.\n"
     ]
    },
    {
     "data": {
      "text/html": [
       "<div>\n",
       "<style scoped>\n",
       "    .dataframe tbody tr th:only-of-type {\n",
       "        vertical-align: middle;\n",
       "    }\n",
       "\n",
       "    .dataframe tbody tr th {\n",
       "        vertical-align: top;\n",
       "    }\n",
       "\n",
       "    .dataframe thead th {\n",
       "        text-align: right;\n",
       "    }\n",
       "</style>\n",
       "<table border=\"1\" class=\"dataframe\">\n",
       "  <thead>\n",
       "    <tr style=\"text-align: right;\">\n",
       "      <th></th>\n",
       "      <th>mean</th>\n",
       "      <th>sd</th>\n",
       "      <th>hdi_3%</th>\n",
       "      <th>hdi_97%</th>\n",
       "      <th>mcse_mean</th>\n",
       "      <th>mcse_sd</th>\n",
       "      <th>ess_mean</th>\n",
       "      <th>ess_sd</th>\n",
       "      <th>ess_bulk</th>\n",
       "      <th>ess_tail</th>\n",
       "      <th>r_hat</th>\n",
       "    </tr>\n",
       "  </thead>\n",
       "  <tbody>\n",
       "    <tr>\n",
       "      <th>a</th>\n",
       "      <td>0.00</td>\n",
       "      <td>0.07</td>\n",
       "      <td>-0.13</td>\n",
       "      <td>0.13</td>\n",
       "      <td>0.00</td>\n",
       "      <td>0.00</td>\n",
       "      <td>1369.83</td>\n",
       "      <td>1003.25</td>\n",
       "      <td>1367.52</td>\n",
       "      <td>1373.62</td>\n",
       "      <td>1.0</td>\n",
       "    </tr>\n",
       "    <tr>\n",
       "      <th>bF</th>\n",
       "      <td>0.25</td>\n",
       "      <td>0.20</td>\n",
       "      <td>-0.12</td>\n",
       "      <td>0.62</td>\n",
       "      <td>0.01</td>\n",
       "      <td>0.01</td>\n",
       "      <td>774.69</td>\n",
       "      <td>680.87</td>\n",
       "      <td>777.93</td>\n",
       "      <td>892.66</td>\n",
       "      <td>1.0</td>\n",
       "    </tr>\n",
       "    <tr>\n",
       "      <th>bL</th>\n",
       "      <td>-0.67</td>\n",
       "      <td>0.20</td>\n",
       "      <td>-1.06</td>\n",
       "      <td>-0.32</td>\n",
       "      <td>0.01</td>\n",
       "      <td>0.01</td>\n",
       "      <td>707.57</td>\n",
       "      <td>707.57</td>\n",
       "      <td>705.91</td>\n",
       "      <td>840.30</td>\n",
       "      <td>1.0</td>\n",
       "    </tr>\n",
       "    <tr>\n",
       "      <th>sigma</th>\n",
       "      <td>0.41</td>\n",
       "      <td>0.06</td>\n",
       "      <td>0.31</td>\n",
       "      <td>0.53</td>\n",
       "      <td>0.00</td>\n",
       "      <td>0.00</td>\n",
       "      <td>854.10</td>\n",
       "      <td>843.22</td>\n",
       "      <td>841.68</td>\n",
       "      <td>581.59</td>\n",
       "      <td>1.0</td>\n",
       "    </tr>\n",
       "  </tbody>\n",
       "</table>\n",
       "</div>"
      ],
      "text/plain": [
       "       mean    sd  hdi_3%  hdi_97%  mcse_mean  mcse_sd  ess_mean   ess_sd  \\\n",
       "a      0.00  0.07   -0.13     0.13       0.00     0.00   1369.83  1003.25   \n",
       "bF     0.25  0.20   -0.12     0.62       0.01     0.01    774.69   680.87   \n",
       "bL    -0.67  0.20   -1.06    -0.32       0.01     0.01    707.57   707.57   \n",
       "sigma  0.41  0.06    0.31     0.53       0.00     0.00    854.10   843.22   \n",
       "\n",
       "       ess_bulk  ess_tail  r_hat  \n",
       "a       1367.52   1373.62    1.0  \n",
       "bF       777.93    892.66    1.0  \n",
       "bL       705.91    840.30    1.0  \n",
       "sigma    841.68    581.59    1.0  "
      ]
     },
     "execution_count": 11,
     "metadata": {},
     "output_type": "execute_result"
    }
   ],
   "source": [
    "with pm.Model() as m_6_5:\n",
    "    a = pm.Normal(\"a\", 0, 0.2)\n",
    "    bF = pm.Normal(\"bF\", 0, 0.5)\n",
    "    bL = pm.Normal(\"bL\", 0, 0.5)\n",
    "\n",
    "    mu = a + bF * d.F + bL * d.L\n",
    "    sigma = pm.Exponential(\"sigma\", 1)\n",
    "\n",
    "    K = pm.Normal(\"K\", mu, sigma, observed=d.K)\n",
    "\n",
    "    m_6_5_trace = pm.sample()\n",
    "    idata_m_6_5 = az.from_pymc3(m_6_5_trace)\n",
    "\n",
    "az.summary(idata_m_6_5, round_to=2)"
   ]
  },
  {
   "cell_type": "markdown",
   "metadata": {},
   "source": [
    "Now the posterior means of both bF and bL are closer to zero. And the standard deviations\n",
    "for both parameters are twice as large as in the bivariate models\n",
    "both parameters are twice as large as in the bivariate models \n",
    ".\n",
    "This is the same statistical phenomenon as in the leg length example. What has happened\n",
    "is that the variables perc.fat and perc.lactose contain much of the same information.\n",
    "They are almost substitutes for one another. As a result, when you include both in a regression,\n",
    "the posterior distribution ends up describing a long ridge of combinations of bF and\n",
    "bL that are equally plausible."
   ]
  },
  {
   "cell_type": "code",
   "execution_count": 12,
   "metadata": {},
   "outputs": [
    {
     "data": {
      "text/plain": [
       "-0.9416373456839282"
      ]
     },
     "execution_count": 12,
     "metadata": {},
     "output_type": "execute_result"
    }
   ],
   "source": [
    "\n",
    "\n",
    "d.corr()['perc.fat']['perc.lactose']\n",
    "\n"
   ]
  },
  {
   "attachments": {
    "ebd99147-e104-41c5-ad0d-aa02d9e5785f.png": {
     "image/png": "[encoded data removed]"
    }
   },
   "cell_type": "markdown",
   "metadata": {},
   "source": [
    "\n",
    "What is likely going on in the milk example is that there is a core tradeoff in milk composition\n",
    "that mammal mothers must obey. If a species nurses often, then the milk tends to\n",
    "be watery and low in energy. Such milk is high in sugar (lactose). If instead a species nurses\n",
    "rarely, in short bouts, then the milk needs to be higher in energy. Such milk is very high in\n",
    "fat. This implies a causal model something like this:![image.png](attachment:ebd99147-e104-41c5-ad0d-aa02d9e5785f.png)"
   ]
  },
  {
   "cell_type": "markdown",
   "metadata": {},
   "source": [
    "The central tradeoff decides how dense, D, the milk needs to be. We haven’t observed this\n",
    "variable, so it’s shown circled. Then fat, F, and lactose, L, are determined. Finally, the composition\n",
    "of F and L determines the kilocalories, K. If we could measure D, or had an evolutionary\n",
    "and economic model to predict it based upon other aspects of a species, that would\n",
    "be better than stumbling through regressions. We’d just regression K on D, ignoring the\n",
    "mediating L and F, to estimate the causal influence of density on energy."
   ]
  },
  {
   "cell_type": "markdown",
   "metadata": {},
   "source": [
    "<h1>Post treatment bias </h1>:\n",
    "\n",
    "mistaken inferences arising from including variables that are consequences of other variables.\n",
    "\n",
    "\n",
    "The language “post-treatment” comes in fact from thinking about experimental designs.\n",
    "Suppose for example that you are growing some plants in a greenhouse. \n",
    "You want to know the difference in growth under different anti-fungal soil treatments, because fungus on the\n",
    "plants tends to reduce their growth. \n",
    "\n",
    "Plants are initially seeded and sprout. Their heights are\n",
    "measured. \n",
    "Then different soil treatments are applied.\n",
    "Final measures are the height of the plant and the presence of fungus.\n",
    "There are four variables of interest here: initial height, final\n",
    "height, treatment, and presence of fungus.\n",
    "Final height is the outcome of interest. But which\n",
    "of the other variables should be in the model? If your goal is to make a causal inference about\n",
    "the treatment, you shouldn’t include the presence of fungus, because it is a post-treatment\n",
    "effect"
   ]
  },
  {
   "cell_type": "code",
   "execution_count": 13,
   "metadata": {},
   "outputs": [
    {
     "data": {
      "text/html": [
       "<div>\n",
       "<style scoped>\n",
       "    .dataframe tbody tr th:only-of-type {\n",
       "        vertical-align: middle;\n",
       "    }\n",
       "\n",
       "    .dataframe tbody tr th {\n",
       "        vertical-align: top;\n",
       "    }\n",
       "\n",
       "    .dataframe thead th {\n",
       "        text-align: right;\n",
       "    }\n",
       "</style>\n",
       "<table border=\"1\" class=\"dataframe\">\n",
       "  <thead>\n",
       "    <tr style=\"text-align: right;\">\n",
       "      <th></th>\n",
       "      <th>mean</th>\n",
       "      <th>sd</th>\n",
       "      <th>hdi_3%</th>\n",
       "      <th>hdi_97%</th>\n",
       "    </tr>\n",
       "  </thead>\n",
       "  <tbody>\n",
       "    <tr>\n",
       "      <th>h0</th>\n",
       "      <td>10.14</td>\n",
       "      <td>2.25</td>\n",
       "      <td>5.26</td>\n",
       "      <td>13.95</td>\n",
       "    </tr>\n",
       "    <tr>\n",
       "      <th>h1</th>\n",
       "      <td>14.05</td>\n",
       "      <td>2.86</td>\n",
       "      <td>9.46</td>\n",
       "      <td>19.77</td>\n",
       "    </tr>\n",
       "    <tr>\n",
       "      <th>treatment</th>\n",
       "      <td>0.50</td>\n",
       "      <td>0.50</td>\n",
       "      <td>0.00</td>\n",
       "      <td>1.00</td>\n",
       "    </tr>\n",
       "    <tr>\n",
       "      <th>fungus</th>\n",
       "      <td>0.33</td>\n",
       "      <td>0.47</td>\n",
       "      <td>0.00</td>\n",
       "      <td>1.00</td>\n",
       "    </tr>\n",
       "  </tbody>\n",
       "</table>\n",
       "</div>"
      ],
      "text/plain": [
       "            mean    sd  hdi_3%  hdi_97%\n",
       "h0         10.14  2.25    5.26    13.95\n",
       "h1         14.05  2.86    9.46    19.77\n",
       "treatment   0.50  0.50    0.00     1.00\n",
       "fungus      0.33  0.47    0.00     1.00"
      ]
     },
     "execution_count": 13,
     "metadata": {},
     "output_type": "execute_result"
    }
   ],
   "source": [
    "# number of plants\n",
    "N = 100\n",
    "# simulate initial heights\n",
    "h0 = np.random.normal(10, 2, N)\n",
    "# assign treatments and simulate fungus and growth\n",
    "treatment = np.repeat([0, 1], N / 2)\n",
    "fungus = np.random.binomial(n=1, p=0.5 - treatment * 0.4, size=N)\n",
    "h1 = h0 + np.random.normal(5 - 3 * fungus, size=N)\n",
    "# compose a clean data frame\n",
    "d = pd.DataFrame.from_dict(\n",
    "    {\"h0\": h0, \"h1\": h1, \"treatment\": treatment, \"fungus\": fungus}\n",
    ")\n",
    "\n",
    "az.summary(d.to_dict(orient=\"list\"), kind=\"stats\", round_to=2)"
   ]
  },
  {
   "cell_type": "code",
   "execution_count": 14,
   "metadata": {},
   "outputs": [
    {
     "data": {
      "text/html": [
       "<div>\n",
       "<style scoped>\n",
       "    .dataframe tbody tr th:only-of-type {\n",
       "        vertical-align: middle;\n",
       "    }\n",
       "\n",
       "    .dataframe tbody tr th {\n",
       "        vertical-align: top;\n",
       "    }\n",
       "\n",
       "    .dataframe thead th {\n",
       "        text-align: right;\n",
       "    }\n",
       "</style>\n",
       "<table border=\"1\" class=\"dataframe\">\n",
       "  <thead>\n",
       "    <tr style=\"text-align: right;\">\n",
       "      <th></th>\n",
       "      <th>h0</th>\n",
       "      <th>h1</th>\n",
       "      <th>treatment</th>\n",
       "      <th>fungus</th>\n",
       "    </tr>\n",
       "  </thead>\n",
       "  <tbody>\n",
       "    <tr>\n",
       "      <th>0</th>\n",
       "      <td>8.532252</td>\n",
       "      <td>13.611465</td>\n",
       "      <td>0</td>\n",
       "      <td>0</td>\n",
       "    </tr>\n",
       "    <tr>\n",
       "      <th>1</th>\n",
       "      <td>7.733635</td>\n",
       "      <td>12.294476</td>\n",
       "      <td>0</td>\n",
       "      <td>0</td>\n",
       "    </tr>\n",
       "    <tr>\n",
       "      <th>2</th>\n",
       "      <td>8.644448</td>\n",
       "      <td>12.518087</td>\n",
       "      <td>0</td>\n",
       "      <td>1</td>\n",
       "    </tr>\n",
       "    <tr>\n",
       "      <th>3</th>\n",
       "      <td>11.002251</td>\n",
       "      <td>13.769644</td>\n",
       "      <td>0</td>\n",
       "      <td>1</td>\n",
       "    </tr>\n",
       "    <tr>\n",
       "      <th>4</th>\n",
       "      <td>11.182568</td>\n",
       "      <td>16.788117</td>\n",
       "      <td>0</td>\n",
       "      <td>0</td>\n",
       "    </tr>\n",
       "    <tr>\n",
       "      <th>...</th>\n",
       "      <td>...</td>\n",
       "      <td>...</td>\n",
       "      <td>...</td>\n",
       "      <td>...</td>\n",
       "    </tr>\n",
       "    <tr>\n",
       "      <th>95</th>\n",
       "      <td>9.391210</td>\n",
       "      <td>14.457653</td>\n",
       "      <td>1</td>\n",
       "      <td>0</td>\n",
       "    </tr>\n",
       "    <tr>\n",
       "      <th>96</th>\n",
       "      <td>15.427471</td>\n",
       "      <td>20.772448</td>\n",
       "      <td>1</td>\n",
       "      <td>0</td>\n",
       "    </tr>\n",
       "    <tr>\n",
       "      <th>97</th>\n",
       "      <td>5.528762</td>\n",
       "      <td>11.529550</td>\n",
       "      <td>1</td>\n",
       "      <td>0</td>\n",
       "    </tr>\n",
       "    <tr>\n",
       "      <th>98</th>\n",
       "      <td>12.411713</td>\n",
       "      <td>16.820794</td>\n",
       "      <td>1</td>\n",
       "      <td>0</td>\n",
       "    </tr>\n",
       "    <tr>\n",
       "      <th>99</th>\n",
       "      <td>10.123978</td>\n",
       "      <td>11.046340</td>\n",
       "      <td>1</td>\n",
       "      <td>1</td>\n",
       "    </tr>\n",
       "  </tbody>\n",
       "</table>\n",
       "<p>100 rows × 4 columns</p>\n",
       "</div>"
      ],
      "text/plain": [
       "           h0         h1  treatment  fungus\n",
       "0    8.532252  13.611465          0       0\n",
       "1    7.733635  12.294476          0       0\n",
       "2    8.644448  12.518087          0       1\n",
       "3   11.002251  13.769644          0       1\n",
       "4   11.182568  16.788117          0       0\n",
       "..        ...        ...        ...     ...\n",
       "95   9.391210  14.457653          1       0\n",
       "96  15.427471  20.772448          1       0\n",
       "97   5.528762  11.529550          1       0\n",
       "98  12.411713  16.820794          1       0\n",
       "99  10.123978  11.046340          1       1\n",
       "\n",
       "[100 rows x 4 columns]"
      ]
     },
     "execution_count": 14,
     "metadata": {},
     "output_type": "execute_result"
    }
   ],
   "source": [
    "d"
   ]
  },
  {
   "cell_type": "markdown",
   "metadata": {},
   "source": [
    "<h2>A prior is born</h2>\n",
    "\n",
    ". When designing the model, it helps to pretend you don’t have the\n",
    "data generating process just above. In real research, you will not know the real data generating\n",
    "process. But you will have a lot of scientific information to guide model construction.\n",
    "\n",
    "\n",
    "So let’s spend some time taking this mock analysis seriously.\n",
    "We know that the plants at time t = 1 should be taller than at time t = 0, whatever scale\n",
    "they are measured on. So if we put the parameters on a scale of proportion of height at time\n",
    "t = 0, rather than on the absolute scale of the data, we can set the priors more easily. To\n",
    "make this simpler, let’s focus right now only on the height variables, ignoring the predictor \n",
    "variables. We might have a linear model like:\n",
    "\n",
    "\n",
    "h1,i ∼ Normal(μi, σ)\n",
    "\n",
    "μi = h0,i × p\n",
    "\n",
    "\n",
    "where p is a parameter\n",
    "measuring the proportion of h0,i that h1,i is. More precisely, p = h1,i/h0,i.\n",
    "If p = 1, the plant\n",
    "hasn’t changed at all from time t = 0 to time t = 1. If p = 2, it has doubled in height. So\n",
    "if we center our prior for p on 1, that implies an expectation of no change in height. That\n",
    "is less than we know. But we should allow p to be less than 1, in case the experiment goes\n",
    "horribly wrong and we kill all the plants. We also have to ensure that p > 0, because it is a\n",
    "proportion.\n",
    "\n",
    "Let’s fit this model, so\n",
    "you can see how it just measures the average growth in the experiment.\n",
    "\n",
    "\n"
   ]
  },
  {
   "cell_type": "code",
   "execution_count": 15,
   "metadata": {},
   "outputs": [
    {
     "data": {
      "text/html": [
       "<div>\n",
       "<style scoped>\n",
       "    .dataframe tbody tr th:only-of-type {\n",
       "        vertical-align: middle;\n",
       "    }\n",
       "\n",
       "    .dataframe tbody tr th {\n",
       "        vertical-align: top;\n",
       "    }\n",
       "\n",
       "    .dataframe thead th {\n",
       "        text-align: right;\n",
       "    }\n",
       "</style>\n",
       "<table border=\"1\" class=\"dataframe\">\n",
       "  <thead>\n",
       "    <tr style=\"text-align: right;\">\n",
       "      <th></th>\n",
       "      <th>mean</th>\n",
       "      <th>sd</th>\n",
       "      <th>hdi_3%</th>\n",
       "      <th>hdi_97%</th>\n",
       "    </tr>\n",
       "  </thead>\n",
       "  <tbody>\n",
       "    <tr>\n",
       "      <th>x</th>\n",
       "      <td>1.04</td>\n",
       "      <td>0.26</td>\n",
       "      <td>0.59</td>\n",
       "      <td>1.53</td>\n",
       "    </tr>\n",
       "  </tbody>\n",
       "</table>\n",
       "</div>"
      ],
      "text/plain": [
       "   mean    sd  hdi_3%  hdi_97%\n",
       "x  1.04  0.26    0.59     1.53"
      ]
     },
     "execution_count": 15,
     "metadata": {},
     "output_type": "execute_result"
    }
   ],
   "source": [
    "sim_p = np.random.lognormal(0, 0.25, int(1e4))\n",
    "\n",
    "az.summary(sim_p, kind=\"stats\", round_to=2)"
   ]
  },
  {
   "cell_type": "markdown",
   "metadata": {},
   "source": [
    "So this prior expects anything from 40% shrinkage up to 50% growth. Let’s fit this model, so\n",
    "you can see how it just measures the average growth in the experiment"
   ]
  },
  {
   "cell_type": "code",
   "execution_count": 16,
   "metadata": {},
   "outputs": [
    {
     "name": "stderr",
     "output_type": "stream",
     "text": [
      "Auto-assigning NUTS sampler...\n",
      "Initializing NUTS using jitter+adapt_diag...\n",
      "Multiprocess sampling (2 chains in 2 jobs)\n",
      "NUTS: [sigma, p]\n"
     ]
    },
    {
     "data": {
      "text/html": [
       "\n",
       "    <div>\n",
       "        <style>\n",
       "            /* Turns off some styling */\n",
       "            progress {\n",
       "                /* gets rid of default border in Firefox and Opera. */\n",
       "                border: none;\n",
       "                /* Needs to be in here for Safari polyfill so background images work as expected. */\n",
       "                background-size: auto;\n",
       "            }\n",
       "            .progress-bar-interrupted, .progress-bar-interrupted::-webkit-progress-bar {\n",
       "                background: #F44336;\n",
       "            }\n",
       "        </style>\n",
       "      <progress value='4000' class='' max='4000' style='width:300px; height:20px; vertical-align: middle;'></progress>\n",
       "      100.00% [4000/4000 00:06<00:00 Sampling 2 chains, 0 divergences]\n",
       "    </div>\n",
       "    "
      ],
      "text/plain": [
       "<IPython.core.display.HTML object>"
      ]
     },
     "metadata": {},
     "output_type": "display_data"
    },
    {
     "name": "stderr",
     "output_type": "stream",
     "text": [
      "Sampling 2 chains for 1_000 tune and 1_000 draw iterations (2_000 + 2_000 draws total) took 18 seconds.\n",
      "/Users/gokhansahin/opt/anaconda3/envs/MCelreath-pymc3/lib/python3.8/site-packages/arviz/data/io_pymc3.py:87: FutureWarning: Using `from_pymc3` without the model will be deprecated in a future release. Not using the model will return less accurate and less useful results. Make sure you use the model argument or call from_pymc3 within a model context.\n",
      "  warnings.warn(\n"
     ]
    },
    {
     "data": {
      "text/html": [
       "<div>\n",
       "<style scoped>\n",
       "    .dataframe tbody tr th:only-of-type {\n",
       "        vertical-align: middle;\n",
       "    }\n",
       "\n",
       "    .dataframe tbody tr th {\n",
       "        vertical-align: top;\n",
       "    }\n",
       "\n",
       "    .dataframe thead th {\n",
       "        text-align: right;\n",
       "    }\n",
       "</style>\n",
       "<table border=\"1\" class=\"dataframe\">\n",
       "  <thead>\n",
       "    <tr style=\"text-align: right;\">\n",
       "      <th></th>\n",
       "      <th>mean</th>\n",
       "      <th>sd</th>\n",
       "      <th>hdi_3%</th>\n",
       "      <th>hdi_97%</th>\n",
       "      <th>mcse_mean</th>\n",
       "      <th>mcse_sd</th>\n",
       "      <th>ess_mean</th>\n",
       "      <th>ess_sd</th>\n",
       "      <th>ess_bulk</th>\n",
       "      <th>ess_tail</th>\n",
       "      <th>r_hat</th>\n",
       "    </tr>\n",
       "  </thead>\n",
       "  <tbody>\n",
       "    <tr>\n",
       "      <th>p</th>\n",
       "      <td>1.37</td>\n",
       "      <td>0.02</td>\n",
       "      <td>1.33</td>\n",
       "      <td>1.40</td>\n",
       "      <td>0.0</td>\n",
       "      <td>0.0</td>\n",
       "      <td>1670.37</td>\n",
       "      <td>1669.23</td>\n",
       "      <td>1662.65</td>\n",
       "      <td>1412.36</td>\n",
       "      <td>1.0</td>\n",
       "    </tr>\n",
       "    <tr>\n",
       "      <th>sigma</th>\n",
       "      <td>1.93</td>\n",
       "      <td>0.13</td>\n",
       "      <td>1.69</td>\n",
       "      <td>2.19</td>\n",
       "      <td>0.0</td>\n",
       "      <td>0.0</td>\n",
       "      <td>2046.52</td>\n",
       "      <td>2041.45</td>\n",
       "      <td>2047.36</td>\n",
       "      <td>1440.47</td>\n",
       "      <td>1.0</td>\n",
       "    </tr>\n",
       "  </tbody>\n",
       "</table>\n",
       "</div>"
      ],
      "text/plain": [
       "       mean    sd  hdi_3%  hdi_97%  mcse_mean  mcse_sd  ess_mean   ess_sd  \\\n",
       "p      1.37  0.02    1.33     1.40        0.0      0.0   1670.37  1669.23   \n",
       "sigma  1.93  0.13    1.69     2.19        0.0      0.0   2046.52  2041.45   \n",
       "\n",
       "       ess_bulk  ess_tail  r_hat  \n",
       "p       1662.65   1412.36    1.0  \n",
       "sigma   2047.36   1440.47    1.0  "
      ]
     },
     "execution_count": 16,
     "metadata": {},
     "output_type": "execute_result"
    }
   ],
   "source": [
    "with pm.Model() as m_6_6:\n",
    "    p = pm.Lognormal(\"p\", 0, 0.25)\n",
    "\n",
    "    mu = p * d.h0\n",
    "    sigma = pm.Exponential(\"sigma\", 1)\n",
    "\n",
    "    h1 = pm.Normal(\"h1\", mu=mu, sigma=sigma, observed=d.h1)\n",
    "\n",
    "    m_6_6_trace = pm.sample()\n",
    "\n",
    "az.summary(m_6_6_trace, round_to=2)"
   ]
  },
  {
   "cell_type": "markdown",
   "metadata": {},
   "source": [
    "The model expexts 40 % growth on average. How to include the treatment and fungus variables? We’ll\n",
    "include both of them, following the notion that we’d like <b>to measure the impact of both the\n",
    "treatment and the fungus</b> itself. The parameters for these variables will also be on the proportion\n",
    "scale. They will be changes in proportion growth. So we’re going to make a linear model of p now.\n",
    "\n",
    "\n",
    "\n",
    "h <sub>1,i</sub> ∼ Normal(μ<sub>i</sub>, σ)\n",
    "\n",
    "μ<sub>i</sub> = h<sub>0,i</sub> × p\n",
    "\n",
    "p = α + β<sub>T</sub>T<sub>i</sub> + β<sub>F</sub>F<sub>i</sub>\n",
    "\n",
    "α ∼ Log-Normal(0, 0.25)\n",
    "\n",
    "β<sub>T</sub> ∼ Normal(0, 0.5)\n",
    "\n",
    "β <sub>F</sub>∼ Normal(0, 0.5)\n",
    "\n",
    "σ ∼ Exponential(1)\n"
   ]
  },
  {
   "cell_type": "code",
   "execution_count": 17,
   "metadata": {},
   "outputs": [
    {
     "name": "stderr",
     "output_type": "stream",
     "text": [
      "Auto-assigning NUTS sampler...\n",
      "Initializing NUTS using jitter+adapt_diag...\n",
      "Multiprocess sampling (2 chains in 2 jobs)\n",
      "NUTS: [sigma, bf, bt, a]\n"
     ]
    },
    {
     "data": {
      "text/html": [
       "\n",
       "    <div>\n",
       "        <style>\n",
       "            /* Turns off some styling */\n",
       "            progress {\n",
       "                /* gets rid of default border in Firefox and Opera. */\n",
       "                border: none;\n",
       "                /* Needs to be in here for Safari polyfill so background images work as expected. */\n",
       "                background-size: auto;\n",
       "            }\n",
       "            .progress-bar-interrupted, .progress-bar-interrupted::-webkit-progress-bar {\n",
       "                background: #F44336;\n",
       "            }\n",
       "        </style>\n",
       "      <progress value='4000' class='' max='4000' style='width:300px; height:20px; vertical-align: middle;'></progress>\n",
       "      100.00% [4000/4000 00:09<00:00 Sampling 2 chains, 0 divergences]\n",
       "    </div>\n",
       "    "
      ],
      "text/plain": [
       "<IPython.core.display.HTML object>"
      ]
     },
     "metadata": {},
     "output_type": "display_data"
    },
    {
     "name": "stderr",
     "output_type": "stream",
     "text": [
      "Sampling 2 chains for 1_000 tune and 1_000 draw iterations (2_000 + 2_000 draws total) took 18 seconds.\n",
      "The acceptance probability does not match the target. It is 0.878854568252156, but should be close to 0.8. Try to increase the number of tuning steps.\n",
      "/Users/gokhansahin/opt/anaconda3/envs/MCelreath-pymc3/lib/python3.8/site-packages/arviz/data/io_pymc3.py:87: FutureWarning: Using `from_pymc3` without the model will be deprecated in a future release. Not using the model will return less accurate and less useful results. Make sure you use the model argument or call from_pymc3 within a model context.\n",
      "  warnings.warn(\n"
     ]
    },
    {
     "data": {
      "text/html": [
       "<div>\n",
       "<style scoped>\n",
       "    .dataframe tbody tr th:only-of-type {\n",
       "        vertical-align: middle;\n",
       "    }\n",
       "\n",
       "    .dataframe tbody tr th {\n",
       "        vertical-align: top;\n",
       "    }\n",
       "\n",
       "    .dataframe thead th {\n",
       "        text-align: right;\n",
       "    }\n",
       "</style>\n",
       "<table border=\"1\" class=\"dataframe\">\n",
       "  <thead>\n",
       "    <tr style=\"text-align: right;\">\n",
       "      <th></th>\n",
       "      <th>mean</th>\n",
       "      <th>sd</th>\n",
       "      <th>hdi_3%</th>\n",
       "      <th>hdi_97%</th>\n",
       "      <th>mcse_mean</th>\n",
       "      <th>mcse_sd</th>\n",
       "      <th>ess_mean</th>\n",
       "      <th>ess_sd</th>\n",
       "      <th>ess_bulk</th>\n",
       "      <th>ess_tail</th>\n",
       "      <th>r_hat</th>\n",
       "    </tr>\n",
       "  </thead>\n",
       "  <tbody>\n",
       "    <tr>\n",
       "      <th>a</th>\n",
       "      <td>1.47</td>\n",
       "      <td>0.03</td>\n",
       "      <td>1.42</td>\n",
       "      <td>1.52</td>\n",
       "      <td>0.0</td>\n",
       "      <td>0.0</td>\n",
       "      <td>873.87</td>\n",
       "      <td>873.87</td>\n",
       "      <td>871.93</td>\n",
       "      <td>1040.27</td>\n",
       "      <td>1.0</td>\n",
       "    </tr>\n",
       "    <tr>\n",
       "      <th>bt</th>\n",
       "      <td>-0.04</td>\n",
       "      <td>0.03</td>\n",
       "      <td>-0.10</td>\n",
       "      <td>0.02</td>\n",
       "      <td>0.0</td>\n",
       "      <td>0.0</td>\n",
       "      <td>888.34</td>\n",
       "      <td>860.54</td>\n",
       "      <td>880.43</td>\n",
       "      <td>1217.64</td>\n",
       "      <td>1.0</td>\n",
       "    </tr>\n",
       "    <tr>\n",
       "      <th>bf</th>\n",
       "      <td>-0.28</td>\n",
       "      <td>0.03</td>\n",
       "      <td>-0.34</td>\n",
       "      <td>-0.21</td>\n",
       "      <td>0.0</td>\n",
       "      <td>0.0</td>\n",
       "      <td>982.79</td>\n",
       "      <td>982.79</td>\n",
       "      <td>986.14</td>\n",
       "      <td>1269.57</td>\n",
       "      <td>1.0</td>\n",
       "    </tr>\n",
       "    <tr>\n",
       "      <th>sigma</th>\n",
       "      <td>1.43</td>\n",
       "      <td>0.10</td>\n",
       "      <td>1.25</td>\n",
       "      <td>1.64</td>\n",
       "      <td>0.0</td>\n",
       "      <td>0.0</td>\n",
       "      <td>1272.20</td>\n",
       "      <td>1272.20</td>\n",
       "      <td>1275.24</td>\n",
       "      <td>1044.76</td>\n",
       "      <td>1.0</td>\n",
       "    </tr>\n",
       "  </tbody>\n",
       "</table>\n",
       "</div>"
      ],
      "text/plain": [
       "       mean    sd  hdi_3%  hdi_97%  mcse_mean  mcse_sd  ess_mean   ess_sd  \\\n",
       "a      1.47  0.03    1.42     1.52        0.0      0.0    873.87   873.87   \n",
       "bt    -0.04  0.03   -0.10     0.02        0.0      0.0    888.34   860.54   \n",
       "bf    -0.28  0.03   -0.34    -0.21        0.0      0.0    982.79   982.79   \n",
       "sigma  1.43  0.10    1.25     1.64        0.0      0.0   1272.20  1272.20   \n",
       "\n",
       "       ess_bulk  ess_tail  r_hat  \n",
       "a        871.93   1040.27    1.0  \n",
       "bt       880.43   1217.64    1.0  \n",
       "bf       986.14   1269.57    1.0  \n",
       "sigma   1275.24   1044.76    1.0  "
      ]
     },
     "execution_count": 17,
     "metadata": {},
     "output_type": "execute_result"
    }
   ],
   "source": [
    "with pm.Model() as m_6_7:\n",
    "    a = pm.Normal(\"a\", 0, 0.2)\n",
    "    bt = pm.Normal(\"bt\", 0, 0.5)\n",
    "    bf = pm.Normal(\"bf\", 0, 0.5)\n",
    "\n",
    "    p = a + bt * d.treatment + bf * d.fungus\n",
    "\n",
    "    mu = p * d.h0\n",
    "    sigma = pm.Exponential(\"sigma\", 1)\n",
    "\n",
    "    h1 = pm.Normal(\"h1\", mu=mu, sigma=sigma, observed=d.h1)\n",
    "\n",
    "    m_6_7_trace = pm.sample()\n",
    "\n",
    "az.summary(m_6_7_trace, round_to=2)"
   ]
  },
  {
   "cell_type": "markdown",
   "metadata": {},
   "source": [
    "The marginal posterior for bt, the effect of treatment, is solidly zero, with a tight interval. \n",
    "The treatment is not associated with growth.\n",
    "The fungus seems to have hurt growth, however. Given that we\n",
    "know the treatment matters, because we built the simulation that way, what happened here?\n",
    "<h2> Blocked by consequence.</h2>\n",
    "\n",
    "The problem is that fungus is mostly a consequence of\n",
    "treatment.\n",
    "This is to say that fungus is a post-treatment variable.\n",
    "So when we control for fungus, the model is implicitly answering the question:\n",
    "Once we already know whether or not a plant developed fungus, does soil treatment matter?\n",
    "The answer is “no,” because soil treatment has its effects on growth through reducing fungus. \n",
    "But we actually want to know,\n",
    "based on the design of the experiment, is the impact of treatment on growth. To measure\n",
    "this properly, we should omit the post-treatment variable fungus. Here’s what the inference\n",
    "looks like in that case:"
   ]
  },
  {
   "cell_type": "code",
   "execution_count": 18,
   "metadata": {},
   "outputs": [
    {
     "name": "stderr",
     "output_type": "stream",
     "text": [
      "Auto-assigning NUTS sampler...\n",
      "Initializing NUTS using jitter+adapt_diag...\n",
      "Multiprocess sampling (2 chains in 2 jobs)\n",
      "NUTS: [sigma, bt, a]\n"
     ]
    },
    {
     "data": {
      "text/html": [
       "\n",
       "    <div>\n",
       "        <style>\n",
       "            /* Turns off some styling */\n",
       "            progress {\n",
       "                /* gets rid of default border in Firefox and Opera. */\n",
       "                border: none;\n",
       "                /* Needs to be in here for Safari polyfill so background images work as expected. */\n",
       "                background-size: auto;\n",
       "            }\n",
       "            .progress-bar-interrupted, .progress-bar-interrupted::-webkit-progress-bar {\n",
       "                background: #F44336;\n",
       "            }\n",
       "        </style>\n",
       "      <progress value='4000' class='' max='4000' style='width:300px; height:20px; vertical-align: middle;'></progress>\n",
       "      100.00% [4000/4000 00:08<00:00 Sampling 2 chains, 0 divergences]\n",
       "    </div>\n",
       "    "
      ],
      "text/plain": [
       "<IPython.core.display.HTML object>"
      ]
     },
     "metadata": {},
     "output_type": "display_data"
    },
    {
     "name": "stderr",
     "output_type": "stream",
     "text": [
      "Sampling 2 chains for 1_000 tune and 1_000 draw iterations (2_000 + 2_000 draws total) took 17 seconds.\n",
      "/Users/gokhansahin/opt/anaconda3/envs/MCelreath-pymc3/lib/python3.8/site-packages/arviz/data/io_pymc3.py:87: FutureWarning: Using `from_pymc3` without the model will be deprecated in a future release. Not using the model will return less accurate and less useful results. Make sure you use the model argument or call from_pymc3 within a model context.\n",
      "  warnings.warn(\n"
     ]
    },
    {
     "data": {
      "text/html": [
       "<div>\n",
       "<style scoped>\n",
       "    .dataframe tbody tr th:only-of-type {\n",
       "        vertical-align: middle;\n",
       "    }\n",
       "\n",
       "    .dataframe tbody tr th {\n",
       "        vertical-align: top;\n",
       "    }\n",
       "\n",
       "    .dataframe thead th {\n",
       "        text-align: right;\n",
       "    }\n",
       "</style>\n",
       "<table border=\"1\" class=\"dataframe\">\n",
       "  <thead>\n",
       "    <tr style=\"text-align: right;\">\n",
       "      <th></th>\n",
       "      <th>mean</th>\n",
       "      <th>sd</th>\n",
       "      <th>hdi_3%</th>\n",
       "      <th>hdi_97%</th>\n",
       "      <th>mcse_mean</th>\n",
       "      <th>mcse_sd</th>\n",
       "      <th>ess_mean</th>\n",
       "      <th>ess_sd</th>\n",
       "      <th>ess_bulk</th>\n",
       "      <th>ess_tail</th>\n",
       "      <th>r_hat</th>\n",
       "    </tr>\n",
       "  </thead>\n",
       "  <tbody>\n",
       "    <tr>\n",
       "      <th>a</th>\n",
       "      <td>1.30</td>\n",
       "      <td>0.03</td>\n",
       "      <td>1.25</td>\n",
       "      <td>1.35</td>\n",
       "      <td>0.0</td>\n",
       "      <td>0.0</td>\n",
       "      <td>984.10</td>\n",
       "      <td>984.10</td>\n",
       "      <td>983.88</td>\n",
       "      <td>1036.70</td>\n",
       "      <td>1.00</td>\n",
       "    </tr>\n",
       "    <tr>\n",
       "      <th>bt</th>\n",
       "      <td>0.10</td>\n",
       "      <td>0.04</td>\n",
       "      <td>0.03</td>\n",
       "      <td>0.17</td>\n",
       "      <td>0.0</td>\n",
       "      <td>0.0</td>\n",
       "      <td>828.25</td>\n",
       "      <td>828.25</td>\n",
       "      <td>831.75</td>\n",
       "      <td>990.93</td>\n",
       "      <td>1.01</td>\n",
       "    </tr>\n",
       "    <tr>\n",
       "      <th>sigma</th>\n",
       "      <td>1.91</td>\n",
       "      <td>0.14</td>\n",
       "      <td>1.63</td>\n",
       "      <td>2.15</td>\n",
       "      <td>0.0</td>\n",
       "      <td>0.0</td>\n",
       "      <td>1368.56</td>\n",
       "      <td>1361.91</td>\n",
       "      <td>1372.84</td>\n",
       "      <td>1217.81</td>\n",
       "      <td>1.00</td>\n",
       "    </tr>\n",
       "  </tbody>\n",
       "</table>\n",
       "</div>"
      ],
      "text/plain": [
       "       mean    sd  hdi_3%  hdi_97%  mcse_mean  mcse_sd  ess_mean   ess_sd  \\\n",
       "a      1.30  0.03    1.25     1.35        0.0      0.0    984.10   984.10   \n",
       "bt     0.10  0.04    0.03     0.17        0.0      0.0    828.25   828.25   \n",
       "sigma  1.91  0.14    1.63     2.15        0.0      0.0   1368.56  1361.91   \n",
       "\n",
       "       ess_bulk  ess_tail  r_hat  \n",
       "a        983.88   1036.70   1.00  \n",
       "bt       831.75    990.93   1.01  \n",
       "sigma   1372.84   1217.81   1.00  "
      ]
     },
     "execution_count": 18,
     "metadata": {},
     "output_type": "execute_result"
    }
   ],
   "source": [
    "with pm.Model() as m_6_8:\n",
    "    a = pm.Normal(\"a\", 0, 0.2)\n",
    "    bt = pm.Normal(\"bt\", 0, 0.5)\n",
    "\n",
    "    p = a + bt * d.treatment\n",
    "\n",
    "    mu = p * d.h0\n",
    "    sigma = pm.Exponential(\"sigma\", 1)\n",
    "\n",
    "    h1 = pm.Normal(\"h1\", mu=mu, sigma=sigma, observed=d.h1)\n",
    "\n",
    "    m_6_8_trace = pm.sample()\n",
    "\n",
    "az.summary(m_6_8_trace, round_to=2)"
   ]
  },
  {
   "cell_type": "markdown",
   "metadata": {},
   "source": [
    "Now the impact of treatment is clearly positive, as it should be. It makes sense to control\n",
    "for pre-treatment differences, like the initial height h0, that might mask the causal influence\n",
    "of treatment. But including post-treatment variables can actually mask the treatment itself.\n",
    "This doesn’t mean you don’t want the model that includes both treatment and fungus. The\n",
    "fact that <b>including fungus zeros the coefficient for treatment suggests that the treatment\n",
    "works for exactly the anticipated reasons</b>. It tells us about mechanism. But a correct inference\n",
    "about the treatment still depends upon omitting the post-treatment variable."
   ]
  },
  {
   "cell_type": "markdown",
   "metadata": {},
   "source": [
    "<h2>Fungus and d-separation </h2>. It helps to look at this problem in terms of a DAG."
   ]
  },
  {
   "cell_type": "code",
   "execution_count": 19,
   "metadata": {},
   "outputs": [
    {
     "data": {
      "image/png": "[encoded data removed]",
      "text/plain": [
       "<Figure size 266.457x39.685 with 1 Axes>"
      ]
     },
     "metadata": {},
     "output_type": "display_data"
    }
   ],
   "source": [
    "import daft\n",
    "\n",
    "from causalgraphicalmodels import CausalGraphicalModel\n",
    "\n",
    "plant_dag = CausalGraphicalModel(\n",
    "    nodes=[\"H0\", \"H1\", \"F\", \"T\"], edges=[(\"H0\", \"H1\"), (\"F\", \"H1\"), (\"T\", \"F\")]\n",
    ")\n",
    "pgm = daft.PGM()\n",
    "coordinates = {\"H0\": (0, 0), \"T\": (4, 0), \"F\": (3, 0), \"H1\": (2, 0)}\n",
    "for node in plant_dag.dag.nodes:\n",
    "    pgm.add_node(node, node, *coordinates[node])\n",
    "for edge in plant_dag.dag.edges:\n",
    "    pgm.add_edge(*edge)\n",
    "pgm.render()\n",
    "plt.gca().invert_yaxis()\n"
   ]
  },
  {
   "cell_type": "markdown",
   "metadata": {},
   "source": [
    "So the treatment T influences the presence of fungus F which influences plant height at time\n",
    "1, H1.\n",
    "\n",
    "Plant height at time 1 is also influenced by plant height at time 0, H0. \n",
    "\n",
    "That’s ourDAG. When we include <h3> F, the post-treatment effect, in the model, we end up blocking the\n",
    "path </h3>from the treatment to the outcome.\n",
    "\n",
    "This is the DAG way of saying that learning the treatment tells us nothing about the outcome, once we know the fungus status.\n",
    "An even more DAG way to say this is that conditioning on F induces d-separation. The\n",
    "“d” stands for directional.d-separation means that some variables on a directed graph are\n",
    "independent of others. There is no path connecting them. \n",
    "\n",
    "In this case, H1 is d-separated from T, but only when we condition on F. \n",
    "Conditioning on F effectively blocks the directed path T → F → H1, making T and H1 independent (d-separated). \n",
    "In the previous chapter, you saw\n",
    "the notation H1 ⊥⊥ T|F for this kind of statement, when we discussed implied conditional\n",
    "independencies. Why does this happen? There is no information in T about H1 that is not\n",
    "also in F. So once we know F, learning T provides no additional information about H1. You\n",
    "can query the implied conditional independencies for this DAG:"
   ]
  },
  {
   "cell_type": "code",
   "execution_count": 20,
   "metadata": {},
   "outputs": [
    {
     "name": "stdout",
     "output_type": "stream",
     "text": [
      "('H1', 'T', {'F'})\n",
      "('H0', 'T', set())\n",
      "('H0', 'F', set())\n"
     ]
    }
   ],
   "source": [
    "all_independencies = plant_dag.get_all_independence_relationships()\n",
    "for s in all_independencies:\n",
    "    if all(\n",
    "        t[0] != s[0] or t[1] != s[1] or not t[2].issubset(s[2])\n",
    "        for t in all_independencies\n",
    "        if t != s\n",
    "    ):\n",
    "        print(s)\n",
    "# F _||_ H0\n",
    "# H0 _||_ T\n",
    "#H1 _||_ T | F\n",
    "#"
   ]
  },
  {
   "cell_type": "markdown",
   "metadata": {},
   "source": [
    "Obviously the problem of post-treatment variables applies just as well to observational\n",
    "studies as it does to experiments\n",
    ". But in experiments, it can be easier to tell which variables\n",
    "are pre-treatment, like h0, and which are post-treatment, like fungus.\n",
    "In observational studies,\n",
    "it is harder to know. But there are some subtle traps in experiments as well.\n",
    "For example, conditioning on a post-treatment variable can not only fool you into thinking\n",
    "the treatment doesn’t work. It can also fool you into thinking it does work. Consider the\n",
    "DAG below:"
   ]
  },
  {
   "attachments": {
    "f70b4644-d52a-4492-86b4-a28d5b44e1e1.png": {
     "image/png": "[encoded data removed]"
    }
   },
   "cell_type": "markdown",
   "metadata": {},
   "source": [
    "![image.png](attachment:f70b4644-d52a-4492-86b4-a28d5b44e1e1.png)"
   ]
  },
  {
   "cell_type": "markdown",
   "metadata": {},
   "source": [
    "In this graph, the treatment T influences fungus F, but fungus doesn’t influence plant growth.\n",
    "Maybe the plant species just isn’t bothered by this particular fungus. \n",
    "The new variable M is moisture. It influences both H1 and F. M is circled to indicate that it is unobserved.\n",
    "Any unobserved common cause of H1 and F will do—it doesn’t have to be moisture of course.\n",
    "A regression of H1 on T will show no association between the treatment and plant growth.\n",
    "But if we include F in the model, suddenly there will be an association. Let’s try it. I’ll just\n",
    "modify the plant growth simulation so that fungus has no influence on growth, but moisture\n",
    "M influences both H1 and F:"
   ]
  },
  {
   "cell_type": "code",
   "execution_count": 22,
   "metadata": {},
   "outputs": [
    {
     "data": {
      "text/html": [
       "<div>\n",
       "<style scoped>\n",
       "    .dataframe tbody tr th:only-of-type {\n",
       "        vertical-align: middle;\n",
       "    }\n",
       "\n",
       "    .dataframe tbody tr th {\n",
       "        vertical-align: top;\n",
       "    }\n",
       "\n",
       "    .dataframe thead th {\n",
       "        text-align: right;\n",
       "    }\n",
       "</style>\n",
       "<table border=\"1\" class=\"dataframe\">\n",
       "  <thead>\n",
       "    <tr style=\"text-align: right;\">\n",
       "      <th></th>\n",
       "      <th>mean</th>\n",
       "      <th>sd</th>\n",
       "      <th>hdi_3%</th>\n",
       "      <th>hdi_97%</th>\n",
       "    </tr>\n",
       "  </thead>\n",
       "  <tbody>\n",
       "    <tr>\n",
       "      <th>h0</th>\n",
       "      <td>10.02</td>\n",
       "      <td>1.90</td>\n",
       "      <td>6.46</td>\n",
       "      <td>13.59</td>\n",
       "    </tr>\n",
       "    <tr>\n",
       "      <th>h1</th>\n",
       "      <td>16.46</td>\n",
       "      <td>2.51</td>\n",
       "      <td>11.88</td>\n",
       "      <td>21.07</td>\n",
       "    </tr>\n",
       "    <tr>\n",
       "      <th>treatment</th>\n",
       "      <td>0.50</td>\n",
       "      <td>0.50</td>\n",
       "      <td>0.00</td>\n",
       "      <td>1.00</td>\n",
       "    </tr>\n",
       "    <tr>\n",
       "      <th>fungus</th>\n",
       "      <td>0.49</td>\n",
       "      <td>0.50</td>\n",
       "      <td>0.00</td>\n",
       "      <td>1.00</td>\n",
       "    </tr>\n",
       "  </tbody>\n",
       "</table>\n",
       "</div>"
      ],
      "text/plain": [
       "            mean    sd  hdi_3%  hdi_97%\n",
       "h0         10.02  1.90    6.46    13.59\n",
       "h1         16.46  2.51   11.88    21.07\n",
       "treatment   0.50  0.50    0.00     1.00\n",
       "fungus      0.49  0.50    0.00     1.00"
      ]
     },
     "execution_count": 22,
     "metadata": {},
     "output_type": "execute_result"
    }
   ],
   "source": [
    "N = 1000\n",
    "h0 = np.random.normal(10, 2, N)\n",
    "treatment = np.repeat([0, 1], N / 2)\n",
    "M = np.random.binomial(1, 0.5, size=N)  # assumed probability 0.5 here, as not given in book\n",
    "fungus = np.random.binomial(n=1, p=0.5 - treatment * 0.4 + 0.4 * M, size=N)\n",
    "h1 = h0 + np.random.normal(5 + 3 * M, size=N)\n",
    "d = pd.DataFrame.from_dict({\"h0\": h0, \"h1\": h1, \"treatment\": treatment, \"fungus\": fungus})\n",
    "\n",
    "az.summary(d.to_dict(orient=\"list\"), kind=\"stats\", round_to=2)"
   ]
  },
  {
   "cell_type": "markdown",
   "metadata": {},
   "source": [
    "Rerun the models from earlier, models m6.7 and m6.8, using the data in d2 now. You’ll see\n",
    "that including fungus again confounds inference about the treatment, this time by making\n",
    "it seem like it helped the plants, even though it had no effect."
   ]
  },
  {
   "cell_type": "code",
   "execution_count": 23,
   "metadata": {},
   "outputs": [
    {
     "name": "stderr",
     "output_type": "stream",
     "text": [
      "Auto-assigning NUTS sampler...\n",
      "Initializing NUTS using jitter+adapt_diag...\n",
      "Multiprocess sampling (2 chains in 2 jobs)\n",
      "NUTS: [sigma, bf, bt, a]\n"
     ]
    },
    {
     "data": {
      "text/html": [
       "\n",
       "    <div>\n",
       "        <style>\n",
       "            /* Turns off some styling */\n",
       "            progress {\n",
       "                /* gets rid of default border in Firefox and Opera. */\n",
       "                border: none;\n",
       "                /* Needs to be in here for Safari polyfill so background images work as expected. */\n",
       "                background-size: auto;\n",
       "            }\n",
       "            .progress-bar-interrupted, .progress-bar-interrupted::-webkit-progress-bar {\n",
       "                background: #F44336;\n",
       "            }\n",
       "        </style>\n",
       "      <progress value='4000' class='' max='4000' style='width:300px; height:20px; vertical-align: middle;'></progress>\n",
       "      100.00% [4000/4000 00:13<00:00 Sampling 2 chains, 0 divergences]\n",
       "    </div>\n",
       "    "
      ],
      "text/plain": [
       "<IPython.core.display.HTML object>"
      ]
     },
     "metadata": {},
     "output_type": "display_data"
    },
    {
     "name": "stderr",
     "output_type": "stream",
     "text": [
      "Sampling 2 chains for 1_000 tune and 1_000 draw iterations (2_000 + 2_000 draws total) took 23 seconds.\n",
      "The acceptance probability does not match the target. It is 0.879428971937404, but should be close to 0.8. Try to increase the number of tuning steps.\n",
      "/Users/gokhansahin/opt/anaconda3/envs/MCelreath-pymc3/lib/python3.8/site-packages/arviz/data/io_pymc3.py:87: FutureWarning: Using `from_pymc3` without the model will be deprecated in a future release. Not using the model will return less accurate and less useful results. Make sure you use the model argument or call from_pymc3 within a model context.\n",
      "  warnings.warn(\n"
     ]
    },
    {
     "data": {
      "text/html": [
       "<div>\n",
       "<style scoped>\n",
       "    .dataframe tbody tr th:only-of-type {\n",
       "        vertical-align: middle;\n",
       "    }\n",
       "\n",
       "    .dataframe tbody tr th {\n",
       "        vertical-align: top;\n",
       "    }\n",
       "\n",
       "    .dataframe thead th {\n",
       "        text-align: right;\n",
       "    }\n",
       "</style>\n",
       "<table border=\"1\" class=\"dataframe\">\n",
       "  <thead>\n",
       "    <tr style=\"text-align: right;\">\n",
       "      <th></th>\n",
       "      <th>mean</th>\n",
       "      <th>sd</th>\n",
       "      <th>hdi_3%</th>\n",
       "      <th>hdi_97%</th>\n",
       "      <th>mcse_mean</th>\n",
       "      <th>mcse_sd</th>\n",
       "      <th>ess_mean</th>\n",
       "      <th>ess_sd</th>\n",
       "      <th>ess_bulk</th>\n",
       "      <th>ess_tail</th>\n",
       "      <th>r_hat</th>\n",
       "    </tr>\n",
       "  </thead>\n",
       "  <tbody>\n",
       "    <tr>\n",
       "      <th>a</th>\n",
       "      <td>1.47</td>\n",
       "      <td>0.03</td>\n",
       "      <td>1.42</td>\n",
       "      <td>1.52</td>\n",
       "      <td>0.0</td>\n",
       "      <td>0.0</td>\n",
       "      <td>873.87</td>\n",
       "      <td>873.87</td>\n",
       "      <td>871.93</td>\n",
       "      <td>1040.27</td>\n",
       "      <td>1.0</td>\n",
       "    </tr>\n",
       "    <tr>\n",
       "      <th>bt</th>\n",
       "      <td>-0.04</td>\n",
       "      <td>0.03</td>\n",
       "      <td>-0.10</td>\n",
       "      <td>0.02</td>\n",
       "      <td>0.0</td>\n",
       "      <td>0.0</td>\n",
       "      <td>888.34</td>\n",
       "      <td>860.54</td>\n",
       "      <td>880.43</td>\n",
       "      <td>1217.64</td>\n",
       "      <td>1.0</td>\n",
       "    </tr>\n",
       "    <tr>\n",
       "      <th>bf</th>\n",
       "      <td>-0.28</td>\n",
       "      <td>0.03</td>\n",
       "      <td>-0.34</td>\n",
       "      <td>-0.21</td>\n",
       "      <td>0.0</td>\n",
       "      <td>0.0</td>\n",
       "      <td>982.79</td>\n",
       "      <td>982.79</td>\n",
       "      <td>986.14</td>\n",
       "      <td>1269.57</td>\n",
       "      <td>1.0</td>\n",
       "    </tr>\n",
       "    <tr>\n",
       "      <th>sigma</th>\n",
       "      <td>1.43</td>\n",
       "      <td>0.10</td>\n",
       "      <td>1.25</td>\n",
       "      <td>1.64</td>\n",
       "      <td>0.0</td>\n",
       "      <td>0.0</td>\n",
       "      <td>1272.20</td>\n",
       "      <td>1272.20</td>\n",
       "      <td>1275.24</td>\n",
       "      <td>1044.76</td>\n",
       "      <td>1.0</td>\n",
       "    </tr>\n",
       "  </tbody>\n",
       "</table>\n",
       "</div>"
      ],
      "text/plain": [
       "       mean    sd  hdi_3%  hdi_97%  mcse_mean  mcse_sd  ess_mean   ess_sd  \\\n",
       "a      1.47  0.03    1.42     1.52        0.0      0.0    873.87   873.87   \n",
       "bt    -0.04  0.03   -0.10     0.02        0.0      0.0    888.34   860.54   \n",
       "bf    -0.28  0.03   -0.34    -0.21        0.0      0.0    982.79   982.79   \n",
       "sigma  1.43  0.10    1.25     1.64        0.0      0.0   1272.20  1272.20   \n",
       "\n",
       "       ess_bulk  ess_tail  r_hat  \n",
       "a        871.93   1040.27    1.0  \n",
       "bt       880.43   1217.64    1.0  \n",
       "bf       986.14   1269.57    1.0  \n",
       "sigma   1275.24   1044.76    1.0  "
      ]
     },
     "execution_count": 23,
     "metadata": {},
     "output_type": "execute_result"
    }
   ],
   "source": [
    "with pm.Model() as m_6_7p:\n",
    "    a = pm.Normal(\"a\", 0, 0.2)\n",
    "    bt = pm.Normal(\"bt\", 0, 0.5)\n",
    "    bf = pm.Normal(\"bf\", 0, 0.5)\n",
    "\n",
    "    p = a + bt * d.treatment + bf * d.fungus\n",
    "\n",
    "    mu = p * d.h0\n",
    "    sigma = pm.Exponential(\"sigma\", 1)\n",
    "\n",
    "    h1 = pm.Normal(\"h1\", mu=mu, sigma=sigma, observed=d.h1)\n",
    "\n",
    "    m_6_7p_trace = pm.sample()\n",
    "\n"
   ]
  },
  {
   "cell_type": "code",
   "execution_count": 24,
   "metadata": {},
   "outputs": [
    {
     "name": "stderr",
     "output_type": "stream",
     "text": [
      "/Users/gokhansahin/opt/anaconda3/envs/MCelreath-pymc3/lib/python3.8/site-packages/arviz/data/io_pymc3.py:87: FutureWarning: Using `from_pymc3` without the model will be deprecated in a future release. Not using the model will return less accurate and less useful results. Make sure you use the model argument or call from_pymc3 within a model context.\n",
      "  warnings.warn(\n"
     ]
    },
    {
     "data": {
      "text/html": [
       "<div>\n",
       "<style scoped>\n",
       "    .dataframe tbody tr th:only-of-type {\n",
       "        vertical-align: middle;\n",
       "    }\n",
       "\n",
       "    .dataframe tbody tr th {\n",
       "        vertical-align: top;\n",
       "    }\n",
       "\n",
       "    .dataframe thead th {\n",
       "        text-align: right;\n",
       "    }\n",
       "</style>\n",
       "<table border=\"1\" class=\"dataframe\">\n",
       "  <thead>\n",
       "    <tr style=\"text-align: right;\">\n",
       "      <th></th>\n",
       "      <th>mean</th>\n",
       "      <th>sd</th>\n",
       "      <th>hdi_3%</th>\n",
       "      <th>hdi_97%</th>\n",
       "      <th>mcse_mean</th>\n",
       "      <th>mcse_sd</th>\n",
       "      <th>ess_mean</th>\n",
       "      <th>ess_sd</th>\n",
       "      <th>ess_bulk</th>\n",
       "      <th>ess_tail</th>\n",
       "      <th>r_hat</th>\n",
       "    </tr>\n",
       "  </thead>\n",
       "  <tbody>\n",
       "    <tr>\n",
       "      <th>a</th>\n",
       "      <td>1.53</td>\n",
       "      <td>0.01</td>\n",
       "      <td>1.51</td>\n",
       "      <td>1.56</td>\n",
       "      <td>0.0</td>\n",
       "      <td>0.0</td>\n",
       "      <td>814.95</td>\n",
       "      <td>814.94</td>\n",
       "      <td>816.57</td>\n",
       "      <td>1036.32</td>\n",
       "      <td>1.0</td>\n",
       "    </tr>\n",
       "    <tr>\n",
       "      <th>bt</th>\n",
       "      <td>0.04</td>\n",
       "      <td>0.01</td>\n",
       "      <td>0.02</td>\n",
       "      <td>0.07</td>\n",
       "      <td>0.0</td>\n",
       "      <td>0.0</td>\n",
       "      <td>908.16</td>\n",
       "      <td>908.16</td>\n",
       "      <td>908.44</td>\n",
       "      <td>979.70</td>\n",
       "      <td>1.0</td>\n",
       "    </tr>\n",
       "    <tr>\n",
       "      <th>bf</th>\n",
       "      <td>0.13</td>\n",
       "      <td>0.01</td>\n",
       "      <td>0.10</td>\n",
       "      <td>0.16</td>\n",
       "      <td>0.0</td>\n",
       "      <td>0.0</td>\n",
       "      <td>1032.64</td>\n",
       "      <td>1032.64</td>\n",
       "      <td>1037.18</td>\n",
       "      <td>1181.82</td>\n",
       "      <td>1.0</td>\n",
       "    </tr>\n",
       "    <tr>\n",
       "      <th>sigma</th>\n",
       "      <td>2.12</td>\n",
       "      <td>0.05</td>\n",
       "      <td>2.03</td>\n",
       "      <td>2.20</td>\n",
       "      <td>0.0</td>\n",
       "      <td>0.0</td>\n",
       "      <td>1472.39</td>\n",
       "      <td>1471.85</td>\n",
       "      <td>1471.36</td>\n",
       "      <td>1393.59</td>\n",
       "      <td>1.0</td>\n",
       "    </tr>\n",
       "  </tbody>\n",
       "</table>\n",
       "</div>"
      ],
      "text/plain": [
       "       mean    sd  hdi_3%  hdi_97%  mcse_mean  mcse_sd  ess_mean   ess_sd  \\\n",
       "a      1.53  0.01    1.51     1.56        0.0      0.0    814.95   814.94   \n",
       "bt     0.04  0.01    0.02     0.07        0.0      0.0    908.16   908.16   \n",
       "bf     0.13  0.01    0.10     0.16        0.0      0.0   1032.64  1032.64   \n",
       "sigma  2.12  0.05    2.03     2.20        0.0      0.0   1472.39  1471.85   \n",
       "\n",
       "       ess_bulk  ess_tail  r_hat  \n",
       "a        816.57   1036.32    1.0  \n",
       "bt       908.44    979.70    1.0  \n",
       "bf      1037.18   1181.82    1.0  \n",
       "sigma   1471.36   1393.59    1.0  "
      ]
     },
     "execution_count": 24,
     "metadata": {},
     "output_type": "execute_result"
    }
   ],
   "source": [
    "az.summary(m_6_7p_trace, round_to=2)"
   ]
  },
  {
   "cell_type": "code",
   "execution_count": 26,
   "metadata": {},
   "outputs": [
    {
     "name": "stderr",
     "output_type": "stream",
     "text": [
      "Auto-assigning NUTS sampler...\n",
      "Initializing NUTS using jitter+adapt_diag...\n",
      "Multiprocess sampling (2 chains in 2 jobs)\n",
      "NUTS: [sigma, bt, a]\n"
     ]
    },
    {
     "data": {
      "text/html": [
       "\n",
       "    <div>\n",
       "        <style>\n",
       "            /* Turns off some styling */\n",
       "            progress {\n",
       "                /* gets rid of default border in Firefox and Opera. */\n",
       "                border: none;\n",
       "                /* Needs to be in here for Safari polyfill so background images work as expected. */\n",
       "                background-size: auto;\n",
       "            }\n",
       "            .progress-bar-interrupted, .progress-bar-interrupted::-webkit-progress-bar {\n",
       "                background: #F44336;\n",
       "            }\n",
       "        </style>\n",
       "      <progress value='4000' class='' max='4000' style='width:300px; height:20px; vertical-align: middle;'></progress>\n",
       "      100.00% [4000/4000 00:09<00:00 Sampling 2 chains, 0 divergences]\n",
       "    </div>\n",
       "    "
      ],
      "text/plain": [
       "<IPython.core.display.HTML object>"
      ]
     },
     "metadata": {},
     "output_type": "display_data"
    },
    {
     "name": "stderr",
     "output_type": "stream",
     "text": [
      "Sampling 2 chains for 1_000 tune and 1_000 draw iterations (2_000 + 2_000 draws total) took 18 seconds.\n",
      "/Users/gokhansahin/opt/anaconda3/envs/MCelreath-pymc3/lib/python3.8/site-packages/arviz/data/io_pymc3.py:87: FutureWarning: Using `from_pymc3` without the model will be deprecated in a future release. Not using the model will return less accurate and less useful results. Make sure you use the model argument or call from_pymc3 within a model context.\n",
      "  warnings.warn(\n"
     ]
    },
    {
     "data": {
      "text/html": [
       "<div>\n",
       "<style scoped>\n",
       "    .dataframe tbody tr th:only-of-type {\n",
       "        vertical-align: middle;\n",
       "    }\n",
       "\n",
       "    .dataframe tbody tr th {\n",
       "        vertical-align: top;\n",
       "    }\n",
       "\n",
       "    .dataframe thead th {\n",
       "        text-align: right;\n",
       "    }\n",
       "</style>\n",
       "<table border=\"1\" class=\"dataframe\">\n",
       "  <thead>\n",
       "    <tr style=\"text-align: right;\">\n",
       "      <th></th>\n",
       "      <th>mean</th>\n",
       "      <th>sd</th>\n",
       "      <th>hdi_3%</th>\n",
       "      <th>hdi_97%</th>\n",
       "      <th>mcse_mean</th>\n",
       "      <th>mcse_sd</th>\n",
       "      <th>ess_mean</th>\n",
       "      <th>ess_sd</th>\n",
       "      <th>ess_bulk</th>\n",
       "      <th>ess_tail</th>\n",
       "      <th>r_hat</th>\n",
       "    </tr>\n",
       "  </thead>\n",
       "  <tbody>\n",
       "    <tr>\n",
       "      <th>a</th>\n",
       "      <td>1.62</td>\n",
       "      <td>0.01</td>\n",
       "      <td>1.60</td>\n",
       "      <td>1.64</td>\n",
       "      <td>0.0</td>\n",
       "      <td>0.0</td>\n",
       "      <td>1365.19</td>\n",
       "      <td>1365.19</td>\n",
       "      <td>1370.32</td>\n",
       "      <td>1494.39</td>\n",
       "      <td>1.0</td>\n",
       "    </tr>\n",
       "    <tr>\n",
       "      <th>bt</th>\n",
       "      <td>-0.00</td>\n",
       "      <td>0.01</td>\n",
       "      <td>-0.03</td>\n",
       "      <td>0.02</td>\n",
       "      <td>0.0</td>\n",
       "      <td>0.0</td>\n",
       "      <td>1194.10</td>\n",
       "      <td>1171.60</td>\n",
       "      <td>1194.07</td>\n",
       "      <td>1324.54</td>\n",
       "      <td>1.0</td>\n",
       "    </tr>\n",
       "    <tr>\n",
       "      <th>sigma</th>\n",
       "      <td>2.19</td>\n",
       "      <td>0.05</td>\n",
       "      <td>2.10</td>\n",
       "      <td>2.29</td>\n",
       "      <td>0.0</td>\n",
       "      <td>0.0</td>\n",
       "      <td>1389.72</td>\n",
       "      <td>1389.07</td>\n",
       "      <td>1391.40</td>\n",
       "      <td>1066.64</td>\n",
       "      <td>1.0</td>\n",
       "    </tr>\n",
       "  </tbody>\n",
       "</table>\n",
       "</div>"
      ],
      "text/plain": [
       "       mean    sd  hdi_3%  hdi_97%  mcse_mean  mcse_sd  ess_mean   ess_sd  \\\n",
       "a      1.62  0.01    1.60     1.64        0.0      0.0   1365.19  1365.19   \n",
       "bt    -0.00  0.01   -0.03     0.02        0.0      0.0   1194.10  1171.60   \n",
       "sigma  2.19  0.05    2.10     2.29        0.0      0.0   1389.72  1389.07   \n",
       "\n",
       "       ess_bulk  ess_tail  r_hat  \n",
       "a       1370.32   1494.39    1.0  \n",
       "bt      1194.07   1324.54    1.0  \n",
       "sigma   1391.40   1066.64    1.0  "
      ]
     },
     "execution_count": 26,
     "metadata": {},
     "output_type": "execute_result"
    }
   ],
   "source": [
    "with pm.Model() as m_6_8p:\n",
    "    a = pm.Normal(\"a\", 0, 0.2)\n",
    "    bt = pm.Normal(\"bt\", 0, 0.5)\n",
    "\n",
    "    p = a + bt * d.treatment\n",
    "\n",
    "    mu = p * d.h0\n",
    "    sigma = pm.Exponential(\"sigma\", 1)\n",
    "\n",
    "    h1 = pm.Normal(\"h1\", mu=mu, sigma=sigma, observed=d.h1)\n",
    "\n",
    "    m_6_8p_trace = pm.sample()\n",
    "\n",
    "az.summary(m_6_8p_trace, round_to=2)"
   ]
  },
  {
   "cell_type": "markdown",
   "metadata": {},
   "source": [
    "<h2>Collider bias</h2>\n",
    "The fact that two arrows enter S means it is a collider. The core concept is easy to understand:\n",
    "When you condition on a collider, it creates statistical—but not necessarily causal—\n",
    "associations among its causes.\n",
    "    \n",
    "    \n",
    "    "
   ]
  },
  {
   "cell_type": "code",
   "execution_count": null,
   "metadata": {},
   "outputs": [],
   "source": []
  },
  {
   "attachments": {
    "1bf8ccd3-2428-4c38-9aa4-f5c67a27eb55.png": {
     "image/png": "[encoded data removed]"
    }
   },
   "cell_type": "markdown",
   "metadata": {},
   "source": [
    "![image.png](attachment:1bf8ccd3-2428-4c38-9aa4-f5c67a27eb55.png)"
   ]
  },
  {
   "cell_type": "markdown",
   "metadata": {},
   "source": [
    "Consider the question of how aging influences happiness. If\n",
    "we have a large survey of people rating how happy they are, is age associated with happiness?If so, is that association causal? Here, I want to show you how controlling for a plausible\n",
    "confound of happiness can actually bias inference about the influence of age.89\n",
    "Suppose, just to be provocative, that an individual’s average happiness is a trait that is\n",
    "determined at birth and does not change with age. However, happiness does influence events\n",
    "in one’s life. One of those events is marriage. Happier people are more likely to get married.\n",
    "Another variable that causally influences marriage is age: The more years you are alive, the\n",
    "more likely you are to eventually get married. Putting these three variables together, this is\n",
    "the causal model:"
   ]
  },
  {
   "attachments": {
    "e39e5bc2-964c-4fb1-8ba3-e16d283b1fbe.png": {
     "image/png": "[encoded data removed]"
    }
   },
   "cell_type": "markdown",
   "metadata": {},
   "source": [
    "![image.png](attachment:e39e5bc2-964c-4fb1-8ba3-e16d283b1fbe.png)"
   ]
  },
  {
   "cell_type": "markdown",
   "metadata": {},
   "source": [
    "Happiness (H) and age (A) both cause marriage (M). Marriage is therefore a collider. Even\n",
    "though there is no causal association between happiness and age, if we condition on marriage—\n",
    "which means here, if we include it as a predictor in a regression—then it will induce a statistical\n",
    "association between age and happiness. And this can mislead us to think that happiness\n",
    "changes with age, when in fact it is constant."
   ]
  },
  {
   "cell_type": "markdown",
   "metadata": {},
   "source": [
    "To convince us , let’s do another simulation. Simulations are useful in these examples,\n",
    "because these are the only times when we know the true causal model. If a procedure\n",
    "cannot figure out the truth in a simulated example, we shouldn’t trust it in a real one. We’re\n",
    "going to do a simulation  using an agent-based model of aging and marriage\n",
    "to produce a simulated data set to use in a regression. Here is the simulation design:\n",
    "(1) Each year, 20 people are born with uniformly distributed happiness values.\n",
    "(2) Each year, each person ages one year. Happiness does not change.\n",
    "(3) At age 18, individuals can become married. The odds of marriage each year are\n",
    "proportional to an individual’s happiness.\n",
    "(4) Once married, an individual remains married.\n",
    "(5) After age 65, individuals leave the sample. (They move to Spain.)"
   ]
  },
  {
   "cell_type": "code",
   "execution_count": 27,
   "metadata": {},
   "outputs": [
    {
     "data": {
      "text/html": [
       "<div>\n",
       "<style scoped>\n",
       "    .dataframe tbody tr th:only-of-type {\n",
       "        vertical-align: middle;\n",
       "    }\n",
       "\n",
       "    .dataframe tbody tr th {\n",
       "        vertical-align: top;\n",
       "    }\n",
       "\n",
       "    .dataframe thead th {\n",
       "        text-align: right;\n",
       "    }\n",
       "</style>\n",
       "<table border=\"1\" class=\"dataframe\">\n",
       "  <thead>\n",
       "    <tr style=\"text-align: right;\">\n",
       "      <th></th>\n",
       "      <th>mean</th>\n",
       "      <th>sd</th>\n",
       "      <th>hdi_3%</th>\n",
       "      <th>hdi_97%</th>\n",
       "    </tr>\n",
       "  </thead>\n",
       "  <tbody>\n",
       "    <tr>\n",
       "      <th>age</th>\n",
       "      <td>32.00</td>\n",
       "      <td>18.77</td>\n",
       "      <td>0.0</td>\n",
       "      <td>61.00</td>\n",
       "    </tr>\n",
       "    <tr>\n",
       "      <th>happiness</th>\n",
       "      <td>-0.00</td>\n",
       "      <td>1.21</td>\n",
       "      <td>-2.0</td>\n",
       "      <td>1.79</td>\n",
       "    </tr>\n",
       "    <tr>\n",
       "      <th>married</th>\n",
       "      <td>0.28</td>\n",
       "      <td>0.45</td>\n",
       "      <td>0.0</td>\n",
       "      <td>1.00</td>\n",
       "    </tr>\n",
       "  </tbody>\n",
       "</table>\n",
       "</div>"
      ],
      "text/plain": [
       "            mean     sd  hdi_3%  hdi_97%\n",
       "age        32.00  18.77     0.0    61.00\n",
       "happiness  -0.00   1.21    -2.0     1.79\n",
       "married     0.28   0.45     0.0     1.00"
      ]
     },
     "execution_count": 27,
     "metadata": {},
     "output_type": "execute_result"
    }
   ],
   "source": [
    "def inv_logit(x):\n",
    "    return np.exp(x) / (1 + np.exp(x))\n",
    "\n",
    "\n",
    "def sim_happiness(N_years=100, seed=1234):\n",
    "    np.random.seed(seed)\n",
    "\n",
    "    popn = pd.DataFrame(np.zeros((20 * 65, 3)), columns=[\"age\", \"happiness\", \"married\"])\n",
    "    popn.loc[:, \"age\"] = np.repeat(np.arange(65), 20)\n",
    "    popn.loc[:, \"happiness\"] = np.repeat(np.linspace(-2, 2, 20), 65)\n",
    "    popn.loc[:, \"married\"] = np.array(popn.loc[:, \"married\"].values, dtype=\"bool\")\n",
    "\n",
    "    for i in range(N_years):\n",
    "        # age population\n",
    "        popn.loc[:, \"age\"] += 1\n",
    "        # replace old folk with new folk\n",
    "        ind = popn.age == 65\n",
    "        popn.loc[ind, \"age\"] = 0\n",
    "        popn.loc[ind, \"married\"] = False\n",
    "        popn.loc[ind, \"happiness\"] = np.linspace(-2, 2, 20)\n",
    "\n",
    "        # do the work\n",
    "        elligible = (popn.married == 0) & (popn.age >= 18)\n",
    "        marry = np.random.binomial(1, inv_logit(popn.loc[elligible, \"happiness\"] - 4)) == 1\n",
    "        popn.loc[elligible, \"married\"] = marry\n",
    "\n",
    "    popn.sort_values(\"age\", inplace=True, ignore_index=True)\n",
    "\n",
    "    return popn\n",
    "popn = sim_happiness()\n",
    "\n",
    "popn_summ = popn.copy()\n",
    "popn_summ[\"married\"] = popn_summ[\"married\"].astype(\n",
    "    int\n",
    ")  # this is necessary before using az.summary, which doesn't work with boolean columns.\n",
    "az.summary(popn_summ.to_dict(orient=\"list\"), kind=\"stats\", round_to=2)"
   ]
  },
  {
   "cell_type": "code",
   "execution_count": 28,
   "metadata": {},
   "outputs": [
    {
     "data": {
      "image/png": "[encoded data removed]",
      "text/plain": [
       "<Figure size 720x244.8 with 1 Axes>"
      ]
     },
     "metadata": {
      "needs_background": "light"
     },
     "output_type": "display_data"
    }
   ],
   "source": [
    "fig, ax = plt.subplots(figsize=[10, 3.4])\n",
    "\n",
    "colors = np.array([\"w\"] * popn.shape[0])\n",
    "colors[popn.married] = \"b\"\n",
    "ax.scatter(popn.age, popn.happiness, edgecolor=\"k\", color=colors)\n",
    "\n",
    "ax.scatter([], [], edgecolor=\"k\", color=\"w\", label=\"unmarried\")\n",
    "ax.scatter([], [], edgecolor=\"k\", color=\"b\", label=\"married\")\n",
    "ax.legend(loc=\"upper left\", framealpha=1, frameon=True)\n",
    "\n",
    "ax.set_xlabel(\"age\")\n",
    "ax.set_ylabel(\"hapiness\");"
   ]
  },
  {
   "cell_type": "markdown",
   "metadata": {},
   "source": [
    "Suppose you come across these data and want to ask whether age is related to happiness.\n",
    "You don’t know the true causal model. But you reason, reasonably, that marriage status\n",
    "might be an important confound. If married people are more or less happy, on average, then\n",
    "you need to condition on marriage status in order to infer the relationship between age and\n",
    "happiness.\n",
    "\n",
    "So let’s consider a multiple regression model aimed at inferring the influence of age on\n",
    "happiness, while controlling for marriage status. This is just a plain multiple regression, . The linear model is this:\n",
    "\n",
    "μi = α<sub>mid<sub>[i]</sub></sub> + β<sub>[A]</sub>A<sub>[i]</sub>\n",
    "\n",
    "\n",
    "where mid[i] is an index for the marriage status of individual i, with 1 meaning single and\n",
    "2 meaning married."
   ]
  },
  {
   "cell_type": "markdown",
   "metadata": {},
   "source": [
    "<h2>priors</h2> Let’s consider the slope β<sub> A</sub> first,\n",
    "because how we scale the predictor A will determine the meaning of the intercept. We’ll\n",
    "focus only on the adult sample, those 18 or over. Imagine a very strong relationship between\n",
    "age and happiness, such that happiness is at its maximum at age 18 and its minimum at age 65. It’ll be easier if we rescale age so that the range from 18 to 65 is one unit. This will do it:"
   ]
  },
  {
   "cell_type": "code",
   "execution_count": 29,
   "metadata": {},
   "outputs": [],
   "source": [
    "#adults = popn.loc[popn.age > 17]\n",
    "#adults.loc[:, \"A\"] = (adults[\"age\"].copy() - 18) / (65 - 18)\n",
    "\n",
    "adults = popn[popn.age > 17].copy()  # only adults\n",
    "adults [\"A\"] = (popn.age - 18) / (65 - 18)"
   ]
  },
  {
   "cell_type": "markdown",
   "metadata": {},
   "source": [
    "Now this new variable A ranges from 0 to 1, where 0 is age 18 and 1 is age 65. Happiness\n",
    "is on an arbitrary scale, in these data, from −2 to +2. So our imaginary strongest relationship,\n",
    "taking happiness from maximum to minimum, has a slope with rise over run of\n",
    "(2 − (−2))/1 = 4. Remember that 95% of the mass of a normal distribution is contained\n",
    "within 2 standard deviations. So if we set the standard deviation of the prior to half of 4, we\n",
    "are saying that we expect 95% of plausible slopes to be less than maximally strong. That isn’t\n",
    "a very strong prior, but again, it at least helps bound inference to realistic ranges. Now for\n",
    "the intercepts. Each α is the value of μi when Ai = 0. In this case, that means at age 18. So\n",
    "we need to allow α to cover the full range of happiness scores. Normal(0, 1) will put 95% of\n",
    "the mass in the −2 to +2 interval.\n",
    "Finally, let’s approximate the posterior. We need to construct the marriage status index\n",
    "variable, as well. "
   ]
  },
  {
   "cell_type": "code",
   "execution_count": 30,
   "metadata": {},
   "outputs": [
    {
     "name": "stderr",
     "output_type": "stream",
     "text": [
      "Auto-assigning NUTS sampler...\n",
      "Initializing NUTS using jitter+adapt_diag...\n",
      "Multiprocess sampling (2 chains in 2 jobs)\n",
      "NUTS: [sigma, bA, a]\n"
     ]
    },
    {
     "data": {
      "text/html": [
       "\n",
       "    <div>\n",
       "        <style>\n",
       "            /* Turns off some styling */\n",
       "            progress {\n",
       "                /* gets rid of default border in Firefox and Opera. */\n",
       "                border: none;\n",
       "                /* Needs to be in here for Safari polyfill so background images work as expected. */\n",
       "                background-size: auto;\n",
       "            }\n",
       "            .progress-bar-interrupted, .progress-bar-interrupted::-webkit-progress-bar {\n",
       "                background: #F44336;\n",
       "            }\n",
       "        </style>\n",
       "      <progress value='4000' class='' max='4000' style='width:300px; height:20px; vertical-align: middle;'></progress>\n",
       "      100.00% [4000/4000 00:11<00:00 Sampling 2 chains, 0 divergences]\n",
       "    </div>\n",
       "    "
      ],
      "text/plain": [
       "<IPython.core.display.HTML object>"
      ]
     },
     "metadata": {},
     "output_type": "display_data"
    },
    {
     "name": "stderr",
     "output_type": "stream",
     "text": [
      "Sampling 2 chains for 1_000 tune and 1_000 draw iterations (2_000 + 2_000 draws total) took 22 seconds.\n",
      "/Users/gokhansahin/opt/anaconda3/envs/MCelreath-pymc3/lib/python3.8/site-packages/arviz/data/io_pymc3.py:87: FutureWarning: Using `from_pymc3` without the model will be deprecated in a future release. Not using the model will return less accurate and less useful results. Make sure you use the model argument or call from_pymc3 within a model context.\n",
      "  warnings.warn(\n"
     ]
    },
    {
     "data": {
      "text/html": [
       "<div>\n",
       "<style scoped>\n",
       "    .dataframe tbody tr th:only-of-type {\n",
       "        vertical-align: middle;\n",
       "    }\n",
       "\n",
       "    .dataframe tbody tr th {\n",
       "        vertical-align: top;\n",
       "    }\n",
       "\n",
       "    .dataframe thead th {\n",
       "        text-align: right;\n",
       "    }\n",
       "</style>\n",
       "<table border=\"1\" class=\"dataframe\">\n",
       "  <thead>\n",
       "    <tr style=\"text-align: right;\">\n",
       "      <th></th>\n",
       "      <th>mean</th>\n",
       "      <th>sd</th>\n",
       "      <th>hdi_3%</th>\n",
       "      <th>hdi_97%</th>\n",
       "      <th>mcse_mean</th>\n",
       "      <th>mcse_sd</th>\n",
       "      <th>ess_mean</th>\n",
       "      <th>ess_sd</th>\n",
       "      <th>ess_bulk</th>\n",
       "      <th>ess_tail</th>\n",
       "      <th>r_hat</th>\n",
       "    </tr>\n",
       "  </thead>\n",
       "  <tbody>\n",
       "    <tr>\n",
       "      <th>a[0]</th>\n",
       "      <td>-0.20</td>\n",
       "      <td>0.07</td>\n",
       "      <td>-0.34</td>\n",
       "      <td>-0.08</td>\n",
       "      <td>0.0</td>\n",
       "      <td>0.0</td>\n",
       "      <td>1093.93</td>\n",
       "      <td>1093.93</td>\n",
       "      <td>1097.11</td>\n",
       "      <td>1066.24</td>\n",
       "      <td>1.0</td>\n",
       "    </tr>\n",
       "    <tr>\n",
       "      <th>a[1]</th>\n",
       "      <td>1.21</td>\n",
       "      <td>0.10</td>\n",
       "      <td>1.03</td>\n",
       "      <td>1.39</td>\n",
       "      <td>0.0</td>\n",
       "      <td>0.0</td>\n",
       "      <td>1086.12</td>\n",
       "      <td>1076.80</td>\n",
       "      <td>1085.64</td>\n",
       "      <td>972.42</td>\n",
       "      <td>1.0</td>\n",
       "    </tr>\n",
       "    <tr>\n",
       "      <th>bA</th>\n",
       "      <td>-0.71</td>\n",
       "      <td>0.13</td>\n",
       "      <td>-0.96</td>\n",
       "      <td>-0.49</td>\n",
       "      <td>0.0</td>\n",
       "      <td>0.0</td>\n",
       "      <td>1044.76</td>\n",
       "      <td>1029.13</td>\n",
       "      <td>1045.93</td>\n",
       "      <td>1056.03</td>\n",
       "      <td>1.0</td>\n",
       "    </tr>\n",
       "    <tr>\n",
       "      <th>sigma</th>\n",
       "      <td>1.02</td>\n",
       "      <td>0.02</td>\n",
       "      <td>0.98</td>\n",
       "      <td>1.06</td>\n",
       "      <td>0.0</td>\n",
       "      <td>0.0</td>\n",
       "      <td>1317.97</td>\n",
       "      <td>1315.60</td>\n",
       "      <td>1320.73</td>\n",
       "      <td>1117.67</td>\n",
       "      <td>1.0</td>\n",
       "    </tr>\n",
       "  </tbody>\n",
       "</table>\n",
       "</div>"
      ],
      "text/plain": [
       "       mean    sd  hdi_3%  hdi_97%  mcse_mean  mcse_sd  ess_mean   ess_sd  \\\n",
       "a[0]  -0.20  0.07   -0.34    -0.08        0.0      0.0   1093.93  1093.93   \n",
       "a[1]   1.21  0.10    1.03     1.39        0.0      0.0   1086.12  1076.80   \n",
       "bA    -0.71  0.13   -0.96    -0.49        0.0      0.0   1044.76  1029.13   \n",
       "sigma  1.02  0.02    0.98     1.06        0.0      0.0   1317.97  1315.60   \n",
       "\n",
       "       ess_bulk  ess_tail  r_hat  \n",
       "a[0]    1097.11   1066.24    1.0  \n",
       "a[1]    1085.64    972.42    1.0  \n",
       "bA      1045.93   1056.03    1.0  \n",
       "sigma   1320.73   1117.67    1.0  "
      ]
     },
     "execution_count": 30,
     "metadata": {},
     "output_type": "execute_result"
    }
   ],
   "source": [
    "mid = pd.Categorical(adults.loc[:, \"married\"].astype(int))\n",
    "\n",
    "with pm.Model() as m_6_9:\n",
    "    a = pm.Normal(\"a\", 0, 1, shape=2)# there two a'S\n",
    "    bA = pm.Normal(\"bA\", 0, 2)\n",
    "\n",
    "    mu = a[mid] + bA * adults.A.values\n",
    "    sigma = pm.Exponential(\"sigma\", 1)\n",
    "\n",
    "    happiness = pm.Normal(\"happiness\", mu, sigma, observed=adults.happiness.values)\n",
    "\n",
    "    m_6_9_trace = pm.sample(1000)\n",
    "\n",
    "az.summary(m_6_9_trace, round_to=2)"
   ]
  },
  {
   "cell_type": "markdown",
   "metadata": {},
   "source": [
    "The model is quite sure that age is negatively associated with happiness. We’d like to compare\n",
    "the inferences from this model to a model that omits marriage status."
   ]
  },
  {
   "cell_type": "code",
   "execution_count": 31,
   "metadata": {},
   "outputs": [
    {
     "name": "stderr",
     "output_type": "stream",
     "text": [
      "Auto-assigning NUTS sampler...\n",
      "Initializing NUTS using jitter+adapt_diag...\n",
      "Multiprocess sampling (2 chains in 2 jobs)\n",
      "NUTS: [sigma, bA, a]\n"
     ]
    },
    {
     "data": {
      "text/html": [
       "\n",
       "    <div>\n",
       "        <style>\n",
       "            /* Turns off some styling */\n",
       "            progress {\n",
       "                /* gets rid of default border in Firefox and Opera. */\n",
       "                border: none;\n",
       "                /* Needs to be in here for Safari polyfill so background images work as expected. */\n",
       "                background-size: auto;\n",
       "            }\n",
       "            .progress-bar-interrupted, .progress-bar-interrupted::-webkit-progress-bar {\n",
       "                background: #F44336;\n",
       "            }\n",
       "        </style>\n",
       "      <progress value='4000' class='' max='4000' style='width:300px; height:20px; vertical-align: middle;'></progress>\n",
       "      100.00% [4000/4000 00:12<00:00 Sampling 2 chains, 0 divergences]\n",
       "    </div>\n",
       "    "
      ],
      "text/plain": [
       "<IPython.core.display.HTML object>"
      ]
     },
     "metadata": {},
     "output_type": "display_data"
    },
    {
     "name": "stderr",
     "output_type": "stream",
     "text": [
      "Sampling 2 chains for 1_000 tune and 1_000 draw iterations (2_000 + 2_000 draws total) took 23 seconds.\n",
      "/Users/gokhansahin/opt/anaconda3/envs/MCelreath-pymc3/lib/python3.8/site-packages/arviz/data/io_pymc3.py:87: FutureWarning: Using `from_pymc3` without the model will be deprecated in a future release. Not using the model will return less accurate and less useful results. Make sure you use the model argument or call from_pymc3 within a model context.\n",
      "  warnings.warn(\n"
     ]
    },
    {
     "data": {
      "text/html": [
       "<div>\n",
       "<style scoped>\n",
       "    .dataframe tbody tr th:only-of-type {\n",
       "        vertical-align: middle;\n",
       "    }\n",
       "\n",
       "    .dataframe tbody tr th {\n",
       "        vertical-align: top;\n",
       "    }\n",
       "\n",
       "    .dataframe thead th {\n",
       "        text-align: right;\n",
       "    }\n",
       "</style>\n",
       "<table border=\"1\" class=\"dataframe\">\n",
       "  <thead>\n",
       "    <tr style=\"text-align: right;\">\n",
       "      <th></th>\n",
       "      <th>mean</th>\n",
       "      <th>sd</th>\n",
       "      <th>hdi_3%</th>\n",
       "      <th>hdi_97%</th>\n",
       "      <th>mcse_mean</th>\n",
       "      <th>mcse_sd</th>\n",
       "      <th>ess_mean</th>\n",
       "      <th>ess_sd</th>\n",
       "      <th>ess_bulk</th>\n",
       "      <th>ess_tail</th>\n",
       "      <th>r_hat</th>\n",
       "    </tr>\n",
       "  </thead>\n",
       "  <tbody>\n",
       "    <tr>\n",
       "      <th>a</th>\n",
       "      <td>0.00</td>\n",
       "      <td>0.08</td>\n",
       "      <td>-0.14</td>\n",
       "      <td>0.15</td>\n",
       "      <td>0.0</td>\n",
       "      <td>0.0</td>\n",
       "      <td>1183.77</td>\n",
       "      <td>816.14</td>\n",
       "      <td>1187.33</td>\n",
       "      <td>1050.93</td>\n",
       "      <td>1.0</td>\n",
       "    </tr>\n",
       "    <tr>\n",
       "      <th>bA</th>\n",
       "      <td>-0.00</td>\n",
       "      <td>0.14</td>\n",
       "      <td>-0.24</td>\n",
       "      <td>0.27</td>\n",
       "      <td>0.0</td>\n",
       "      <td>0.0</td>\n",
       "      <td>1149.42</td>\n",
       "      <td>808.62</td>\n",
       "      <td>1155.76</td>\n",
       "      <td>1055.73</td>\n",
       "      <td>1.0</td>\n",
       "    </tr>\n",
       "    <tr>\n",
       "      <th>sigma</th>\n",
       "      <td>1.22</td>\n",
       "      <td>0.03</td>\n",
       "      <td>1.16</td>\n",
       "      <td>1.27</td>\n",
       "      <td>0.0</td>\n",
       "      <td>0.0</td>\n",
       "      <td>1285.54</td>\n",
       "      <td>1285.54</td>\n",
       "      <td>1280.28</td>\n",
       "      <td>1011.18</td>\n",
       "      <td>1.0</td>\n",
       "    </tr>\n",
       "  </tbody>\n",
       "</table>\n",
       "</div>"
      ],
      "text/plain": [
       "       mean    sd  hdi_3%  hdi_97%  mcse_mean  mcse_sd  ess_mean   ess_sd  \\\n",
       "a      0.00  0.08   -0.14     0.15        0.0      0.0   1183.77   816.14   \n",
       "bA    -0.00  0.14   -0.24     0.27        0.0      0.0   1149.42   808.62   \n",
       "sigma  1.22  0.03    1.16     1.27        0.0      0.0   1285.54  1285.54   \n",
       "\n",
       "       ess_bulk  ess_tail  r_hat  \n",
       "a       1187.33   1050.93    1.0  \n",
       "bA      1155.76   1055.73    1.0  \n",
       "sigma   1280.28   1011.18    1.0  "
      ]
     },
     "execution_count": 31,
     "metadata": {},
     "output_type": "execute_result"
    }
   ],
   "source": [
    "with pm.Model() as m6_10:\n",
    "    a = pm.Normal(\"a\", 0, 1)\n",
    "    bA = pm.Normal(\"bA\", 0, 2)\n",
    "\n",
    "    mu = a + bA * adults.A.values\n",
    "    sigma = pm.Exponential(\"sigma\", 1)\n",
    "\n",
    "    happiness = pm.Normal(\"happiness\", mu, sigma, observed=adults.happiness.values)\n",
    "\n",
    "    trace_6_10 = pm.sample(1000)\n",
    "\n",
    "az.summary(trace_6_10, round_to=2)"
   ]
  },
  {
   "cell_type": "markdown",
   "metadata": {},
   "source": [
    "This model, in contrast, finds no association between age and happiness.\n",
    "The pattern above is exactly what we should expect when we condition on a collider.\n",
    "The collider is marriage status.\n",
    "\n",
    "It is a common consequence of age and happiness.\n",
    "As a result, when we condition on it, we induce a spurious association between the two causes.\n",
    "So it looks like, to model m6.9, that age is negatively associated with happiness.\n",
    "But this is just a\n",
    "statistical association, not a causal association.\n",
    "Once we know whether someone is married\n",
    "or not, then their age does provide information about how happy they are.\n",
    "\n",
    "You can see this in Figure 6.4. Consider only the blue points, the married people.\n",
    "Among only the blue points, older individuals have lower average happiness.\n",
    "This is because\n",
    "more people get married as time goes on, so the mean happiness among married people approaches\n",
    "the population average of zero. \n",
    "\n",
    "Now consider only the open points, the unmarried\n",
    "people. \n",
    "Here it is also true that mean happiness declines with age. This is because happier\n",
    "individuals migrate over time into the married sub-population.\n",
    "So in both the married and\n",
    "unmarried sub-populations, there is a negative relationship between age and happiness. But\n",
    "in neither sub-population does this accurately reflect causation.\n",
    "It’s easy to plead with this example. Shouldn’t marriage also influence happiness? What\n",
    "if happiness does change with age? But this misses the point. If you don’t have a causal\n",
    "model, you can’t make inferences from a multiple regression. And the regression itself does\n",
    "not provide the evidence you need to justify a causal model. Instead, you need some science.\n"
   ]
  },
  {
   "cell_type": "markdown",
   "metadata": {},
   "source": [
    "<h2>Unmeasured  Causes</h2>\n",
    "\n",
    "Collider bias arises from conditioning on a common consequence,\n",
    "as in the previous example. If we can just get our graph sorted, we can avoid it. But it isn’t\n",
    "always so easy to see a potential collider, because there may be unmeasured causes. Unmeasured\n",
    "causes can still induce collider bias.\n",
    "\n",
    "\n",
    "\n",
    "the possibility that our DAG may be haunted.\n",
    "Suppose for example that we are interested in inferring the direct influence of both parents\n",
    "(P) and grandparents (G) on the educational achievement of children (C).90 Since grandparents\n",
    "also presumably influence their own children’s education, there is an arrow G → P.\n",
    "This sounds pretty easy, so far. It’s similar in structure to our divorce rate example from last example.\n",
    "\n",
    "\n"
   ]
  },
  {
   "attachments": {
    "8500566a-258b-4166-b6f7-ce8160a0e65c.png": {
     "image/png": "[encoded data removed]"
    }
   },
   "cell_type": "markdown",
   "metadata": {},
   "source": [
    "![image.png](attachment:8500566a-258b-4166-b6f7-ce8160a0e65c.png)"
   ]
  },
  {
   "cell_type": "markdown",
   "metadata": {},
   "source": [
    "But suppose there are unmeasured, common influences on parents and their children, such\n",
    "as neighborhoods, that are not shared by grandparents . Then our DAG becomes haunted by the unobserved U:"
   ]
  },
  {
   "attachments": {
    "5de25cf5-59f5-4f60-abbf-cd0d746d72a3.png": {
     "image/png": "[encoded data removed]"
    }
   },
   "cell_type": "markdown",
   "metadata": {},
   "source": [
    "![image.png](attachment:5de25cf5-59f5-4f60-abbf-cd0d746d72a3.png)"
   ]
  },
  {
   "cell_type": "markdown",
   "metadata": {},
   "source": [
    "Now P is a common consequence of G and U, so if we condition on P, it will bias inference\n",
    "about G → C, even if we never get to measure U.\n",
    "First, let’s simulate 200 triads of grandparents, parents, and children. This simulation\n",
    "will be simple. We’ll just project our DAG as a series of implied functional relationships. The\n",
    "DAG above implies that:\n",
    "(1) P is some function of G and U\n",
    "(2) C is some function of G, P, and U\n",
    "(3) G and U are not functions of any other known variables\n",
    "We can make these implications into a simple simulation, using rnorm to generate simulated\n",
    "observations. But to do this, we need to be a bit more precise than “some function of.” So I’ll\n",
    "invent some strength of association:\n"
   ]
  },
  {
   "cell_type": "code",
   "execution_count": 32,
   "metadata": {},
   "outputs": [],
   "source": [
    "N = 200  # number of of grandparent-parent-child triads\n",
    "b_GP = 1  # direct effect of G on P\n",
    "b_GC = 0  # direct effect of G on C\n",
    "b_PC = 1  # direct effect of P on C\n",
    "b_U = 2  # \n"
   ]
  },
  {
   "cell_type": "markdown",
   "metadata": {},
   "source": [
    "\n",
    "These parameters are like slopes in a regression model. Notice that I’ve assumed that grandparents\n",
    "G have zero effect on their grandkids C. The example doesn’t depend upon that\n",
    "effect being exactly zero, but it will make the lesson clearer. Now we use these slopes to draw\n",
    "random observations:"
   ]
  },
  {
   "cell_type": "code",
   "execution_count": 33,
   "metadata": {},
   "outputs": [],
   "source": [
    "U = 2 * np.random.binomial(1, 0.5, N) - 1\n",
    "G = np.random.normal(size=N)\n",
    "P = np.random.normal(b_GP * G + b_U * U)\n",
    "C = np.random.normal(b_PC * P + b_GC * G + b_U * U)\n",
    "d = pd.DataFrame.from_dict({\"C\": C, \"P\": P, \"G\": G, \"U\": U})"
   ]
  },
  {
   "cell_type": "markdown",
   "metadata": {},
   "source": [
    "Now what happens when we try to infer the influence of grandparents? Since some of\n",
    "the total effect of grandparents passes through parents, we realize we need to control for\n",
    "parents. \n",
    "Here is a simple regression of C on P and G. \n",
    "the variables are not standardized the . \n",
    "the simulated data is kept on its original scale, so you can see what happens to inference about the\n",
    "slopes above. If we changed the scale, we shouldn’t expect to get those values back. But if\n",
    "we leave the scale alone, we should be able to recover something close to those values. \n"
   ]
  },
  {
   "cell_type": "code",
   "execution_count": 34,
   "metadata": {},
   "outputs": [
    {
     "name": "stderr",
     "output_type": "stream",
     "text": [
      "Auto-assigning NUTS sampler...\n",
      "Initializing NUTS using jitter+adapt_diag...\n",
      "Multiprocess sampling (2 chains in 2 jobs)\n",
      "NUTS: [sigma, b_GC, b_PC, a]\n"
     ]
    },
    {
     "data": {
      "text/html": [
       "\n",
       "    <div>\n",
       "        <style>\n",
       "            /* Turns off some styling */\n",
       "            progress {\n",
       "                /* gets rid of default border in Firefox and Opera. */\n",
       "                border: none;\n",
       "                /* Needs to be in here for Safari polyfill so background images work as expected. */\n",
       "                background-size: auto;\n",
       "            }\n",
       "            .progress-bar-interrupted, .progress-bar-interrupted::-webkit-progress-bar {\n",
       "                background: #F44336;\n",
       "            }\n",
       "        </style>\n",
       "      <progress value='4000' class='' max='4000' style='width:300px; height:20px; vertical-align: middle;'></progress>\n",
       "      100.00% [4000/4000 00:08<00:00 Sampling 2 chains, 0 divergences]\n",
       "    </div>\n",
       "    "
      ],
      "text/plain": [
       "<IPython.core.display.HTML object>"
      ]
     },
     "metadata": {},
     "output_type": "display_data"
    },
    {
     "name": "stderr",
     "output_type": "stream",
     "text": [
      "Sampling 2 chains for 1_000 tune and 1_000 draw iterations (2_000 + 2_000 draws total) took 18 seconds.\n",
      "/Users/gokhansahin/opt/anaconda3/envs/MCelreath-pymc3/lib/python3.8/site-packages/arviz/data/io_pymc3.py:87: FutureWarning: Using `from_pymc3` without the model will be deprecated in a future release. Not using the model will return less accurate and less useful results. Make sure you use the model argument or call from_pymc3 within a model context.\n",
      "  warnings.warn(\n"
     ]
    },
    {
     "data": {
      "text/html": [
       "<div>\n",
       "<style scoped>\n",
       "    .dataframe tbody tr th:only-of-type {\n",
       "        vertical-align: middle;\n",
       "    }\n",
       "\n",
       "    .dataframe tbody tr th {\n",
       "        vertical-align: top;\n",
       "    }\n",
       "\n",
       "    .dataframe thead th {\n",
       "        text-align: right;\n",
       "    }\n",
       "</style>\n",
       "<table border=\"1\" class=\"dataframe\">\n",
       "  <thead>\n",
       "    <tr style=\"text-align: right;\">\n",
       "      <th></th>\n",
       "      <th>mean</th>\n",
       "      <th>sd</th>\n",
       "      <th>hdi_3%</th>\n",
       "      <th>hdi_97%</th>\n",
       "      <th>mcse_mean</th>\n",
       "      <th>mcse_sd</th>\n",
       "      <th>ess_mean</th>\n",
       "      <th>ess_sd</th>\n",
       "      <th>ess_bulk</th>\n",
       "      <th>ess_tail</th>\n",
       "      <th>r_hat</th>\n",
       "    </tr>\n",
       "  </thead>\n",
       "  <tbody>\n",
       "    <tr>\n",
       "      <th>a</th>\n",
       "      <td>-0.03</td>\n",
       "      <td>0.10</td>\n",
       "      <td>-0.19</td>\n",
       "      <td>0.17</td>\n",
       "      <td>0.0</td>\n",
       "      <td>0.0</td>\n",
       "      <td>2328.39</td>\n",
       "      <td>1161.87</td>\n",
       "      <td>2326.49</td>\n",
       "      <td>1494.84</td>\n",
       "      <td>1.0</td>\n",
       "    </tr>\n",
       "    <tr>\n",
       "      <th>b_PC</th>\n",
       "      <td>1.85</td>\n",
       "      <td>0.04</td>\n",
       "      <td>1.76</td>\n",
       "      <td>1.93</td>\n",
       "      <td>0.0</td>\n",
       "      <td>0.0</td>\n",
       "      <td>1820.52</td>\n",
       "      <td>1808.47</td>\n",
       "      <td>1834.67</td>\n",
       "      <td>1356.09</td>\n",
       "      <td>1.0</td>\n",
       "    </tr>\n",
       "    <tr>\n",
       "      <th>b_GC</th>\n",
       "      <td>-0.81</td>\n",
       "      <td>0.10</td>\n",
       "      <td>-0.98</td>\n",
       "      <td>-0.63</td>\n",
       "      <td>0.0</td>\n",
       "      <td>0.0</td>\n",
       "      <td>2019.33</td>\n",
       "      <td>2019.33</td>\n",
       "      <td>2018.60</td>\n",
       "      <td>1683.82</td>\n",
       "      <td>1.0</td>\n",
       "    </tr>\n",
       "    <tr>\n",
       "      <th>sigma</th>\n",
       "      <td>1.35</td>\n",
       "      <td>0.07</td>\n",
       "      <td>1.24</td>\n",
       "      <td>1.49</td>\n",
       "      <td>0.0</td>\n",
       "      <td>0.0</td>\n",
       "      <td>2207.55</td>\n",
       "      <td>2207.55</td>\n",
       "      <td>2196.89</td>\n",
       "      <td>1560.05</td>\n",
       "      <td>1.0</td>\n",
       "    </tr>\n",
       "  </tbody>\n",
       "</table>\n",
       "</div>"
      ],
      "text/plain": [
       "       mean    sd  hdi_3%  hdi_97%  mcse_mean  mcse_sd  ess_mean   ess_sd  \\\n",
       "a     -0.03  0.10   -0.19     0.17        0.0      0.0   2328.39  1161.87   \n",
       "b_PC   1.85  0.04    1.76     1.93        0.0      0.0   1820.52  1808.47   \n",
       "b_GC  -0.81  0.10   -0.98    -0.63        0.0      0.0   2019.33  2019.33   \n",
       "sigma  1.35  0.07    1.24     1.49        0.0      0.0   2207.55  2207.55   \n",
       "\n",
       "       ess_bulk  ess_tail  r_hat  \n",
       "a       2326.49   1494.84    1.0  \n",
       "b_PC    1834.67   1356.09    1.0  \n",
       "b_GC    2018.60   1683.82    1.0  \n",
       "sigma   2196.89   1560.05    1.0  "
      ]
     },
     "execution_count": 34,
     "metadata": {},
     "output_type": "execute_result"
    }
   ],
   "source": [
    "with pm.Model() as m_6_11:\n",
    "    a = pm.Normal(\"a\", 0, 1)\n",
    "    p_PC = pm.Normal(\"b_PC\", 0, 1)\n",
    "    p_GC = pm.Normal(\"b_GC\", 0, 1)\n",
    "\n",
    "    mu = a + p_PC * d.P + p_GC * d.G\n",
    "    sigma = pm.Exponential(\"sigma\", 1)\n",
    "\n",
    "    pC = pm.Normal(\"C\", mu, sigma, observed=d.C)\n",
    "\n",
    "    m_6_11_trace = pm.sample()\n",
    "\n",
    "az.summary(m_6_11_trace, round_to=2)"
   ]
  },
  {
   "cell_type": "markdown",
   "metadata": {},
   "source": [
    "The inferred effect of parents looks too big, almost twice as large as it should be. That isn’t\n",
    "surprising. Some of the correlation between P and C is due to U, and the model doesn’t know\n",
    "about U. That’s a simple confound. More surprising is that the model is confident that the\n",
    "direct effect of grandparents is to hurt their grandkids. The regression is not wrong. But a\n",
    "causal interpretation of that association would be."
   ]
  },
  {
   "cell_type": "markdown",
   "metadata": {},
   "source": [
    "How does collider bias arise in this case? Consider Figure 6.5. \n",
    "the variables are standirdized to make this plot. So the units on the axes are standard deviations. The\n",
    "horizontal axis is grandparent education. The vertical is grandchild education. There are\n",
    "two clouds of points. \n",
    "The blue cloud comprises children who live in good neighborhoods\n",
    "(U = 1). T\n",
    "he black cloud comprises children who live in bad neighborhoods (U = −1). Notice\n",
    "that both clouds of points show positive associations between G and C. More educated\n",
    "grandparents have more educated grandkids, but this effect arises entirely through parents.\n",
    "Why? Because we assumed it is so. The direct effect of G in the simulation is zero."
   ]
  },
  {
   "cell_type": "code",
   "execution_count": 19,
   "metadata": {},
   "outputs": [
    {
     "data": {
      "text/plain": [
       "Text(0, 0.5, 'grandchild education (C)')"
      ]
     },
     "execution_count": 19,
     "metadata": {},
     "output_type": "execute_result"
    },
    {
     "data": {
      "image/png": "[encoded data removed]",
      "text/plain": [
       "<Figure size 432x288 with 1 Axes>"
      ]
     },
     "metadata": {
      "needs_background": "light"
     },
     "output_type": "display_data"
    }
   ],
   "source": [
    "# Figure 6.5\n",
    "\n",
    "# grandparent education\n",
    "bad = U < 0\n",
    "good = ~bad\n",
    "plt.scatter(G[good], C[good], color=\"w\", lw=1, edgecolor=\"C0\")\n",
    "plt.scatter(G[bad], C[bad], color=\"w\", lw=1, edgecolor=\"k\")\n",
    "\n",
    "# parents with similar education\n",
    "eP = (P > -1) & (P < 1)\n",
    "plt.scatter(G[good & eP], C[good & eP], color=\"C0\", lw=1, edgecolor=\"C0\")\n",
    "plt.scatter(G[bad & eP], C[bad & eP], color=\"k\", lw=1, edgecolor=\"k\")\n",
    "\n",
    "\n",
    "p = np.polyfit(G[eP], C[eP], 1)\n",
    "xn = np.array([-2, 3])\n",
    "plt.plot(xn, np.polyval(p, xn))\n",
    "\n",
    "plt.xlabel(\"grandparent education (G)\")\n",
    "plt.ylabel(\"grandchild education (C)\")"
   ]
  },
  {
   "cell_type": "markdown",
   "metadata": {},
   "source": [
    "Why? Because we assumed it is so. The direct effect of G in the simulation is zero.\n",
    "So how does the negative association arise, when we condition on parents? Conditioning\n",
    "on parents is like looking within sub-populations of parents with similar education. So let’s\n",
    "try that. In Figure 6.5, I’ve highlighted in filled points those parents between the 45th and\n",
    "60th centiles of education. There is nothing special of this range. It just makes the phenomenon\n",
    "easier to see. Now if we draw a regression line through only these points, regressing\n",
    "C on G, the slope is negative. There is the negative association that our multiple regression\n",
    "finds. But why does it exist?\n",
    "\n",
    "\n",
    "It exists because, once we know P, learning G invisibly tells us about the neighborhood\n",
    "U, and U is associated with the outcome C. I know this is confusing. As I keep saying, if you\n",
    "are confused, it is only because you are paying attention. So consider two different parents\n",
    "with the same education level, say for example at the median 50th centile. One of these\n",
    "parents has a highly educated grandparent. The other has a poorly educated grandparent.\n",
    "The only probable way, in this example, for these parents to have the same education is if\n",
    "they live in different types of neighborhoods. We can’t see these neighborhood effects—we\n",
    "haven’t measured them, recall—but the influence of neighborhood is still transmitted to the\n",
    "children C. So for our mythical two parents with the same education, the one with the highly\n",
    "educated grandparent ends up with a less well educated child. The one with the less educated\n",
    "grandparent ends up with the better educated child. G predicts lower C.\n",
    "The unmeasured U makes P a collider, and conditioning on P produces collider bias. So\n",
    "what can we do about this? You have to measure U."
   ]
  },
  {
   "cell_type": "code",
   "execution_count": 35,
   "metadata": {},
   "outputs": [
    {
     "name": "stderr",
     "output_type": "stream",
     "text": [
      "Auto-assigning NUTS sampler...\n",
      "Initializing NUTS using jitter+adapt_diag...\n",
      "Multiprocess sampling (2 chains in 2 jobs)\n",
      "NUTS: [sigma, b_U, b_GC, b_PC, a]\n"
     ]
    },
    {
     "data": {
      "text/html": [
       "\n",
       "    <div>\n",
       "        <style>\n",
       "            /* Turns off some styling */\n",
       "            progress {\n",
       "                /* gets rid of default border in Firefox and Opera. */\n",
       "                border: none;\n",
       "                /* Needs to be in here for Safari polyfill so background images work as expected. */\n",
       "                background-size: auto;\n",
       "            }\n",
       "            .progress-bar-interrupted, .progress-bar-interrupted::-webkit-progress-bar {\n",
       "                background: #F44336;\n",
       "            }\n",
       "        </style>\n",
       "      <progress value='4000' class='' max='4000' style='width:300px; height:20px; vertical-align: middle;'></progress>\n",
       "      100.00% [4000/4000 00:10<00:00 Sampling 2 chains, 0 divergences]\n",
       "    </div>\n",
       "    "
      ],
      "text/plain": [
       "<IPython.core.display.HTML object>"
      ]
     },
     "metadata": {},
     "output_type": "display_data"
    },
    {
     "name": "stderr",
     "output_type": "stream",
     "text": [
      "Sampling 2 chains for 1_000 tune and 1_000 draw iterations (2_000 + 2_000 draws total) took 21 seconds.\n",
      "The acceptance probability does not match the target. It is 0.883728204172307, but should be close to 0.8. Try to increase the number of tuning steps.\n",
      "/Users/gokhansahin/opt/anaconda3/envs/MCelreath-pymc3/lib/python3.8/site-packages/arviz/data/io_pymc3.py:87: FutureWarning: Using `from_pymc3` without the model will be deprecated in a future release. Not using the model will return less accurate and less useful results. Make sure you use the model argument or call from_pymc3 within a model context.\n",
      "  warnings.warn(\n"
     ]
    },
    {
     "data": {
      "text/html": [
       "<div>\n",
       "<style scoped>\n",
       "    .dataframe tbody tr th:only-of-type {\n",
       "        vertical-align: middle;\n",
       "    }\n",
       "\n",
       "    .dataframe tbody tr th {\n",
       "        vertical-align: top;\n",
       "    }\n",
       "\n",
       "    .dataframe thead th {\n",
       "        text-align: right;\n",
       "    }\n",
       "</style>\n",
       "<table border=\"1\" class=\"dataframe\">\n",
       "  <thead>\n",
       "    <tr style=\"text-align: right;\">\n",
       "      <th></th>\n",
       "      <th>mean</th>\n",
       "      <th>sd</th>\n",
       "      <th>hdi_3%</th>\n",
       "      <th>hdi_97%</th>\n",
       "      <th>mcse_mean</th>\n",
       "      <th>mcse_sd</th>\n",
       "      <th>ess_mean</th>\n",
       "      <th>ess_sd</th>\n",
       "      <th>ess_bulk</th>\n",
       "      <th>ess_tail</th>\n",
       "      <th>r_hat</th>\n",
       "    </tr>\n",
       "  </thead>\n",
       "  <tbody>\n",
       "    <tr>\n",
       "      <th>a</th>\n",
       "      <td>-0.01</td>\n",
       "      <td>0.07</td>\n",
       "      <td>-0.14</td>\n",
       "      <td>0.12</td>\n",
       "      <td>0.00</td>\n",
       "      <td>0.0</td>\n",
       "      <td>1659.59</td>\n",
       "      <td>784.58</td>\n",
       "      <td>1663.24</td>\n",
       "      <td>1180.42</td>\n",
       "      <td>1.0</td>\n",
       "    </tr>\n",
       "    <tr>\n",
       "      <th>b_PC</th>\n",
       "      <td>1.04</td>\n",
       "      <td>0.07</td>\n",
       "      <td>0.91</td>\n",
       "      <td>1.18</td>\n",
       "      <td>0.00</td>\n",
       "      <td>0.0</td>\n",
       "      <td>712.20</td>\n",
       "      <td>708.99</td>\n",
       "      <td>712.25</td>\n",
       "      <td>991.61</td>\n",
       "      <td>1.0</td>\n",
       "    </tr>\n",
       "    <tr>\n",
       "      <th>b_GC</th>\n",
       "      <td>-0.01</td>\n",
       "      <td>0.10</td>\n",
       "      <td>-0.18</td>\n",
       "      <td>0.17</td>\n",
       "      <td>0.00</td>\n",
       "      <td>0.0</td>\n",
       "      <td>795.29</td>\n",
       "      <td>795.29</td>\n",
       "      <td>797.07</td>\n",
       "      <td>810.53</td>\n",
       "      <td>1.0</td>\n",
       "    </tr>\n",
       "    <tr>\n",
       "      <th>b_U</th>\n",
       "      <td>2.02</td>\n",
       "      <td>0.16</td>\n",
       "      <td>1.73</td>\n",
       "      <td>2.34</td>\n",
       "      <td>0.01</td>\n",
       "      <td>0.0</td>\n",
       "      <td>745.77</td>\n",
       "      <td>745.77</td>\n",
       "      <td>747.73</td>\n",
       "      <td>939.91</td>\n",
       "      <td>1.0</td>\n",
       "    </tr>\n",
       "    <tr>\n",
       "      <th>sigma</th>\n",
       "      <td>1.00</td>\n",
       "      <td>0.05</td>\n",
       "      <td>0.92</td>\n",
       "      <td>1.10</td>\n",
       "      <td>0.00</td>\n",
       "      <td>0.0</td>\n",
       "      <td>2118.01</td>\n",
       "      <td>2118.01</td>\n",
       "      <td>2087.05</td>\n",
       "      <td>1282.14</td>\n",
       "      <td>1.0</td>\n",
       "    </tr>\n",
       "  </tbody>\n",
       "</table>\n",
       "</div>"
      ],
      "text/plain": [
       "       mean    sd  hdi_3%  hdi_97%  mcse_mean  mcse_sd  ess_mean   ess_sd  \\\n",
       "a     -0.01  0.07   -0.14     0.12       0.00      0.0   1659.59   784.58   \n",
       "b_PC   1.04  0.07    0.91     1.18       0.00      0.0    712.20   708.99   \n",
       "b_GC  -0.01  0.10   -0.18     0.17       0.00      0.0    795.29   795.29   \n",
       "b_U    2.02  0.16    1.73     2.34       0.01      0.0    745.77   745.77   \n",
       "sigma  1.00  0.05    0.92     1.10       0.00      0.0   2118.01  2118.01   \n",
       "\n",
       "       ess_bulk  ess_tail  r_hat  \n",
       "a       1663.24   1180.42    1.0  \n",
       "b_PC     712.25    991.61    1.0  \n",
       "b_GC     797.07    810.53    1.0  \n",
       "b_U      747.73    939.91    1.0  \n",
       "sigma   2087.05   1282.14    1.0  "
      ]
     },
     "execution_count": 35,
     "metadata": {},
     "output_type": "execute_result"
    }
   ],
   "source": [
    "with pm.Model() as m_6_12:\n",
    "    a = pm.Normal(\"a\", 0, 1)\n",
    "    p_PC = pm.Normal(\"b_PC\", 0, 1)\n",
    "    p_GC = pm.Normal(\"b_GC\", 0, 1)\n",
    "    p_U = pm.Normal(\"b_U\", 0, 1)\n",
    "\n",
    "    mu = a + p_PC * d.P + p_GC * d.G + p_U * d.U\n",
    "    sigma = pm.Exponential(\"sigma\", 1)\n",
    "\n",
    "    pC = pm.Normal(\"C\", mu, sigma, observed=d.C)\n",
    "\n",
    "    m_6_12_trace = pm.sample()\n",
    "\n",
    "az.summary(m_6_12_trace, round_to=2)"
   ]
  },
  {
   "cell_type": "markdown",
   "metadata": {},
   "source": [
    "Upto now we have  several examples of how we can\n",
    "use multiple regression to deal with confounding. But we have also seen how multiple regression\n",
    "can cause confounding—controlling for the wrong variables ruins inference\n",
    "\n"
   ]
  },
  {
   "cell_type": "markdown",
   "metadata": {},
   "source": [
    "But which principles explain why sometimes leaving out variables and sometimes adding\n",
    "them can produce the same phenomenon? \n",
    "Let’s define <b>confounding</b> as any context in which the association between an outcome\n",
    "Y and a predictor of interest X is not the same as it would be, if we had experimentally determined\n",
    "the values of X.\n",
    "\n",
    "For example, suppose we are interested in the association between\n",
    "education E and wages W. The problem is that in a typical population there are many unobserved\n",
    "variables U that influence both E and W. Examples include where a person lives,\n",
    "who their parents are, and who their friends are. This is what the DAG looks like:"
   ]
  },
  {
   "attachments": {
    "d83bca68-b4ef-4fed-a0bf-266d59b054c7.png": {
     "image/png": "[encoded data removed]"
    }
   },
   "cell_type": "markdown",
   "metadata": {},
   "source": [
    "![image.png](attachment:d83bca68-b4ef-4fed-a0bf-266d59b054c7.png)"
   ]
  },
  {
   "cell_type": "markdown",
   "metadata": {},
   "source": [
    "If we regress W on E, the estimate of the causal effect will be confounded by U. It is confounded,\n",
    "because there are two paths connecting E and W: (1) E → W and (2) E ← U → W.\n",
    "A “path” here just means any series of variables you could walk through to get from one variable\n",
    "to another, ignoring the directions of the arrows. Both of these paths create a statistical\n",
    "association between E and W. But only the first path is causal. The second path is non-causal.\n",
    "Why? Because if only the second path existed, and we changed E, it would not change W.\n",
    "Any causal influence of E on W operates only on the first path.\n",
    "How can we isolate the causal path? The most famous solution is to run an experiment.\n",
    "If we could assign education levels at random, it changes the graph:"
   ]
  },
  {
   "attachments": {
    "25e52bbe-1326-4ccc-b29b-f5445bbb32c2.png": {
     "image/png": "[encoded data removed]"
    }
   },
   "cell_type": "markdown",
   "metadata": {},
   "source": [
    "![image.png](attachment:25e52bbe-1326-4ccc-b29b-f5445bbb32c2.png)"
   ]
  },
  {
   "cell_type": "markdown",
   "metadata": {},
   "source": [
    "Manipulation removes the influence of U on E. The unobserved variables do not influence\n",
    "education when we ourselves determine education. With the influence of U removed from\n",
    "E, this then removes the path E ← U → W. It blocks the second path. Once the path is\n",
    "blocked, there is only one way for information to go between E and W, and then measuring\n",
    "the association between E and W would yield a useful measure of causal influence. Manipulation\n",
    "removes the confounding, because it blocks the other path between E and W.\n",
    "\n",
    "Luckily, there are statistical ways to achieve the same result, without actually manipulating\n",
    "E. How? The most obvious is to add U to the model, to condition on U. Why does this\n",
    "also remove the confounding? Because it also blocks the flow of information between E and\n",
    "W through U. It blocks the second path.\n",
    "\n",
    "\n",
    "To understand why conditioning on U blocks the path E ← U → W, think of this path in\n",
    "isolation, as a complete model. Once you learn U, also learning E will give you no additional\n",
    "information about W. Suppose for example that U is the average wealth in a region. Regions\n",
    "with high wealth have better schools, resulting in more education E, as well as better paying\n",
    "jobs, resulting in higher wages W. If you don’t know the region a person lives in, learning\n",
    "the person’s education E will provide information about their wages W, because E and W are\n",
    "correlated across regions. But after you learn which region a person lives in, assuming there\n",
    "is no other path between E and W, then learning E tells you nothing about W."
   ]
  },
  {
   "attachments": {
    "d5eecfe1-bb74-4220-abea-fc583777bdc7.png": {
     "image/png": "[encoded data removed]"
    }
   },
   "cell_type": "markdown",
   "metadata": {},
   "source": [
    "![image.png](attachment:d5eecfe1-bb74-4220-abea-fc583777bdc7.png)"
   ]
  },
  {
   "cell_type": "markdown",
   "metadata": {},
   "source": [
    "<h2>Shutting the backdoor</h2>. Blocking all confounding paths between some predictor X\n",
    "and some outcome Y is known as shutting the backdoor. The metaphor in play is that we\n",
    "don’t want any spurious correlation sneaking in through a non-causal path, which is one that\n",
    "enters the back of the predictor X. In the example above, the path E ← U → W is a backdoor\n",
    "path, because it enters E with an arrow and also connects E to W. This path is confounding.\n",
    "\n",
    "\n",
    "Now for some good news. Given a causal DAG, it is always possible to say which, if any,\n",
    "variables one must control for in order to shut all the backdoor paths. It is also possible to\n",
    "say which variables one must not control for, in order to leave the path of interest open.\n",
    "And—some more good news—there are only four types of variable relations that combine\n",
    "to form all possible paths. So you really only need to understand four things and how\n",
    "information flows in each of them."
   ]
  },
  {
   "cell_type": "markdown",
   "metadata": {},
   "source": [
    "Figure 6.6 shows DAGs for each elemental relation. Every DAG, no matter how big and\n",
    "complicated, is built out of these four relations. Let’s consider each, going left to right.\n",
    "\n",
    "(1) The first type of relation is the one we worked with just above, a fork: X ← Z → Y.\n",
    "This is the classic confounder. In a fork, some variable Z is a common cause of X\n",
    "and Y, generating a correlation between them. If we condition on Z, then learning\n",
    "X tells us nothing about Y. X and Y are independent, conditional on Z.\n",
    "\n",
    "(2) The second type of relation is a pipe: X → Z → Y. We saw this when we discussed\n",
    "the plant growth example and post-treatment bias: The treatment X influences fungus\n",
    "Z which influences growth Y. If we condition on Z now, we also block the path\n",
    "from X to Y. So in both a fork and a pipe, conditioning of the middle variable\n",
    "blocks the path.\n",
    "\n",
    "(3) The third type of relation is a collider: X → Z ← Y. You met colliders earlier\n",
    "in this chapter. Unlike the other two types of relations, in a collider there is no\n",
    "association between X and Y unless you condition on Z. Conditioning on Z, the\n",
    "collider variable, opens the path. Once the path is open, information flows between\n",
    "X and Y.\n",
    "\n",
    "(4) The fourth bit of knowledge you need is that conditioning on a descendent variable\n",
    "is like conditioning on the variable itself, but weaker. A descendent is a variable\n",
    "influenced by another variable. In the far right DAG in Figure 6.6, controlling for\n",
    "D will also control, to a lesser extent, for Z. The reason is that D has some information\n",
    "about Z. This will (partially) open the path from X to Y, because Z is a collider.\n",
    "The same holds for non-colliders. If you condition on a descendent of Z in the pipe,\n",
    "it’ll still be like (weakly) closing the pipe.\n",
    "\n",
    "No matter how complicated a causal DAG appears, it is always built out of these four\n",
    "types of relations. And since you know how to open and close each, you (or your computer)\n",
    "can figure out which variables you need to control—or not—in order to shut the backdoor.\n",
    "Here’s the recipe:\n",
    "\n",
    "(1) List all of the paths connecting X (the potential cause of interest) and Y (the outcome).\n",
    "(2) Classify each path by whether it is open or closed. A path is open unless it contains\n",
    "a collider.\n",
    "(3) Classify each path by whether it is a backdoor path. A backdoor path has an arrow\n",
    "entering X.\n",
    "(4) If there are any backdoor paths that are also open, decide which variable(s) to condition\n",
    "on to close it."
   ]
  },
  {
   "cell_type": "markdown",
   "metadata": {},
   "source": [
    "The DAG below contains an exposure of interest X, an outcome of interest\n",
    "Y, an unobserved variable U, and three observed covariates (A, B, and C).\n",
    "\n",
    "We are interested in the blue path, the causal effect of X on Y. Which of the observed covariates\n",
    "do we need to add to the model, in order to correctly infer it? To figure this out, look\n",
    "for backdoor paths."
   ]
  },
  {
   "attachments": {
    "f6087939-4880-4a33-be1b-915d4a72e638.png": {
     "image/png": "[encoded data removed]"
    }
   },
   "cell_type": "markdown",
   "metadata": {},
   "source": [
    "![image.png](attachment:f6087939-4880-4a33-be1b-915d4a72e638.png)"
   ]
  },
  {
   "cell_type": "markdown",
   "metadata": {},
   "source": [
    "Aside from the direct path, there are two paths from X to Y:"
   ]
  },
  {
   "attachments": {
    "d8aae672-c125-4c4b-afd1-4753cf1c766b.png": {
     "image/png": "[encoded data removed]"
    }
   },
   "cell_type": "markdown",
   "metadata": {},
   "source": [
    "![image.png](attachment:d8aae672-c125-4c4b-afd1-4753cf1c766b.png)"
   ]
  },
  {
   "cell_type": "markdown",
   "metadata": {},
   "source": [
    "These are both backdoor paths that could confound inference. Now ask which of these paths\n",
    "is open. If a backdoor path is open, then we must close it. If a backdoor path is closed already,\n",
    "then we must not accidentally open it and create a confound.\n",
    "\n",
    "Consider the first path, passing through A. This path is open, because there is no collider\n",
    "within it. There is just a fork at the top and two pipes, one on each side. Information will\n",
    "flow through this path, confounding X → Y. It is a backdoor. To shut this backdoor, we\n",
    "need to condition on one of its variables. We can’t condition on U, since it is unobserved.\n",
    "That leaves A or C. Either will shut the backdoor.\n",
    "\n",
    "\n",
    "Now consider the second path, passing through B. This path does contain a collider, U →\n",
    "B ← C. It is therefore already closed. You don’t need to control for B. But if we do condition on B, it is not\n",
    "harmless. It will open the path, creating a confound. Then our inference about X → Y will\n",
    "change, but without the DAG, we won’t know whether that change is helping us or rather\n",
    "misleading us.\n",
    "\n",
    "\n"
   ]
  },
  {
   "cell_type": "code",
   "execution_count": null,
   "metadata": {},
   "outputs": [],
   "source": []
  },
  {
   "cell_type": "code",
   "execution_count": null,
   "metadata": {},
   "outputs": [],
   "source": []
  },
  {
   "cell_type": "code",
   "execution_count": null,
   "metadata": {},
   "outputs": [],
   "source": []
  },
  {
   "cell_type": "code",
   "execution_count": 36,
   "metadata": {},
   "outputs": [
    {
     "name": "stdout",
     "output_type": "stream",
     "text": [
      "frozenset({'A'})\n",
      "frozenset({'C'})\n"
     ]
    }
   ],
   "source": [
    "dag_6_1 = CausalGraphicalModel(\n",
    "    nodes=[\"X\", \"Y\", \"C\", \"U\", \"B\", \"A\"],\n",
    "    edges=[\n",
    "        (\"X\", \"Y\"),\n",
    "        (\"U\", \"X\"),\n",
    "        (\"A\", \"U\"),\n",
    "        (\"A\", \"C\"),\n",
    "        (\"C\", \"Y\"),\n",
    "        (\"U\", \"B\"),\n",
    "        (\"C\", \"B\"),\n",
    "    ],\n",
    ")\n",
    "all_adjustment_sets = dag_6_1.get_all_backdoor_adjustment_sets(\"X\", \"Y\")\n",
    "for s in all_adjustment_sets:\n",
    "    if all(not t.issubset(s) for t in all_adjustment_sets if t != s):\n",
    "        if s != {\"U\"}:\n",
    "            print(s)\n"
   ]
  },
  {
   "cell_type": "markdown",
   "metadata": {},
   "source": [
    "Since the path does contain a collider, U →\n",
    "B ← C, It is therefore already closed. It is not a backdoor, and that is why adjustmentSets\n",
    "above did not mention B."
   ]
  },
  {
   "cell_type": "code",
   "execution_count": null,
   "metadata": {},
   "outputs": [],
   "source": []
  }
 ],
 "metadata": {
  "kernelspec": {
   "display_name": "Python 3",
   "language": "python",
   "name": "python3"
  },
  "language_info": {
   "codemirror_mode": {
    "name": "ipython",
    "version": 3
   },
   "file_extension": ".py",
   "mimetype": "text/x-python",
   "name": "python",
   "nbconvert_exporter": "python",
   "pygments_lexer": "ipython3",
   "version": "3.8.5"
  }
 },
 "nbformat": 4,
 "nbformat_minor": 4
}
