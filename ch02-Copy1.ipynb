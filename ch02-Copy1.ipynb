{
  "nbformat": 4,
  "nbformat_minor": 0,
  "metadata": {
    "kernelspec": {
      "display_name": "Python 3",
      "language": "python",
      "name": "python3"
    },
    "language_info": {
      "codemirror_mode": {
        "name": "ipython",
        "version": 3
      },
      "file_extension": ".py",
      "mimetype": "text/x-python",
      "name": "python",
      "nbconvert_exporter": "python",
      "pygments_lexer": "ipython3",
      "version": "3.7.3"
    },
    "colab": {
      "name": "ch02-Copy1.ipynb",
      "provenance": []
    }
  },
  "cells": [
    {
      "cell_type": "markdown",
      "metadata": {
        "deletable": true,
        "editable": true,
        "id": "c3_EaEwm8PC4"
      },
      "source": [
        "# Python Language Basics\n"
      ]
    },
    {
      "cell_type": "markdown",
      "metadata": {
        "deletable": true,
        "editable": true,
        "id": "1uzNTUFe8PC8"
      },
      "source": [
        "### About Magic Commands"
      ]
    },
    {
      "cell_type": "markdown",
      "metadata": {
        "deletable": true,
        "editable": true,
        "id": "TiZICnsJ8PC9"
      },
      "source": [
        "IPython’s special commands (which are not built into Python itself) are known as “magic” commands. These are designed to facilitate common tasks and enable you to easily control the behavior of the IPython system.\n",
        "A magic command is any command prefixed by the percent symbol %. For example, you can check the execution time of any Python statement, such as a matrix multiplication, using the %timeit magic function "
      ]
    },
    {
      "cell_type": "markdown",
      "metadata": {
        "deletable": true,
        "editable": true,
        "id": "xBLh7TAy8PC-"
      },
      "source": [
        "```python\n",
        "In [20]: a = np.random.randn(100, 100)\n",
        "\n",
        "In [20]: %timeit np.dot(a, a)\n",
        "10000 loops, best of 3: 20.9 µs per loop\n",
        "```"
      ]
    },
    {
      "cell_type": "markdown",
      "metadata": {
        "id": "kYg6qwSU8PDA"
      },
      "source": [
        "%magic :Display detailed documentation for all of the available magic commands"
      ]
    },
    {
      "cell_type": "markdown",
      "metadata": {
        "id": "Zkf5oNDi8PDD"
      },
      "source": [
        ""
      ]
    },
    {
      "cell_type": "markdown",
      "metadata": {
        "deletable": true,
        "editable": true,
        "id": "F3aZgS_68PDE"
      },
      "source": [
        "### Matplotlib Integration"
      ]
    },
    {
      "cell_type": "markdown",
      "metadata": {
        "id": "I41Q5XZA8PDG"
      },
      "source": [
        "if you want to see the graphics in your jupiter notebook use the %matplotlib magic command\n"
      ]
    },
    {
      "cell_type": "markdown",
      "metadata": {
        "deletable": true,
        "editable": true,
        "id": "fqO6s5tT8PDH"
      },
      "source": [
        "```python\n",
        "In [26]: %matplotlib inline\n",
        "```"
      ]
    },
    {
      "cell_type": "markdown",
      "metadata": {
        "deletable": true,
        "editable": true,
        "id": "ocraZEsV8PDI"
      },
      "source": [
        "## Python Language Basics"
      ]
    },
    {
      "cell_type": "markdown",
      "metadata": {
        "deletable": true,
        "editable": true,
        "id": "lQsigFrz8PDJ"
      },
      "source": [
        "### Language Semantics"
      ]
    },
    {
      "cell_type": "markdown",
      "metadata": {
        "deletable": true,
        "editable": true,
        "id": "dhyaFPsm8PDO"
      },
      "source": [
        "#### Indentation, not braces"
      ]
    },
    {
      "cell_type": "markdown",
      "metadata": {
        "deletable": true,
        "editable": true,
        "id": "16GLbatu8PDP"
      },
      "source": [
        "```python\n",
        "for x in array:\n",
        "    if x < pivot:\n",
        "        less.append(x)\n",
        "    else:\n",
        "        greater.append(x)\n",
        "```"
      ]
    },
    {
      "cell_type": "markdown",
      "metadata": {
        "id": "-gVwpz8U8PDQ"
      },
      "source": [
        "for mulitple statements in a single line (discouraged)\n"
      ]
    },
    {
      "cell_type": "markdown",
      "metadata": {
        "deletable": true,
        "editable": true,
        "id": "rTJZGUY98PDR"
      },
      "source": [
        "```python\n",
        "a = 5; b = 6; c = 7\n",
        "```"
      ]
    },
    {
      "cell_type": "markdown",
      "metadata": {
        "deletable": true,
        "editable": true,
        "id": "flQ4B04_8PDS"
      },
      "source": [
        "#### Everything is an object"
      ]
    },
    {
      "cell_type": "markdown",
      "metadata": {
        "deletable": true,
        "editable": true,
        "id": "t3ypuz658PDT"
      },
      "source": [
        "#### Comments"
      ]
    },
    {
      "cell_type": "markdown",
      "metadata": {
        "deletable": true,
        "editable": true,
        "id": "CfZsqbVL8PDU"
      },
      "source": [
        "```python\n",
        "results = []\n",
        "for line in file_handle:\n",
        "    # keep the empty lines for now\n",
        "    # if len(line) == 0:\n",
        "    #   continue\n",
        "    results.append(line.replace('foo', 'bar'))\n",
        "```"
      ]
    },
    {
      "cell_type": "markdown",
      "metadata": {
        "deletable": true,
        "editable": true,
        "id": "E-ZqZb6z8PDV"
      },
      "source": [
        "```python\n",
        "print(\"Reached this line\")  # Simple status report\n",
        "```"
      ]
    },
    {
      "cell_type": "markdown",
      "metadata": {
        "deletable": true,
        "editable": true,
        "id": "77RQ3MdT8PDW"
      },
      "source": [
        "#### Function and object method calls"
      ]
    },
    {
      "cell_type": "markdown",
      "metadata": {
        "deletable": true,
        "editable": true,
        "id": "gym64BX48PDX"
      },
      "source": [
        "```\n",
        "result = f(x, y, z)\n",
        "g()\n",
        "```"
      ]
    },
    {
      "cell_type": "markdown",
      "metadata": {
        "deletable": true,
        "editable": true,
        "id": "t99DGOUH8PDY"
      },
      "source": [
        "```\n",
        "obj.some_method(x, y, z)\n",
        "```"
      ]
    },
    {
      "cell_type": "markdown",
      "metadata": {
        "id": "Ik5CQLDv8PDZ"
      },
      "source": [
        "Functions can take both positional and keyword arguments:"
      ]
    },
    {
      "cell_type": "markdown",
      "metadata": {
        "deletable": true,
        "editable": true,
        "id": "ZmwWYbU78PDb"
      },
      "source": [
        "```python\n",
        "result = f(a, b, c, d=5, e='foo')\n",
        "```"
      ]
    },
    {
      "cell_type": "markdown",
      "metadata": {
        "deletable": true,
        "editable": true,
        "id": "zuu0jR2k8PDc"
      },
      "source": [
        "#### Variables and argument passing"
      ]
    },
    {
      "cell_type": "markdown",
      "metadata": {
        "id": "_EJVsdYK8PDd"
      },
      "source": [
        "When assigning a variable (or name) in Python, you are creating a reference to the object on the righthand side of the equals sign."
      ]
    },
    {
      "cell_type": "code",
      "metadata": {
        "deletable": true,
        "editable": true,
        "id": "gzvEdudn8PDe"
      },
      "source": [
        "a = [1, 2, 3]"
      ],
      "execution_count": null,
      "outputs": []
    },
    {
      "cell_type": "code",
      "metadata": {
        "deletable": true,
        "editable": true,
        "id": "IeAVvips8PDk"
      },
      "source": [
        "b = a"
      ],
      "execution_count": null,
      "outputs": []
    },
    {
      "cell_type": "code",
      "metadata": {
        "deletable": true,
        "editable": true,
        "id": "BUZHq2kK8PDr",
        "outputId": "91c5dedd-3d21-48fb-ebb9-ef60d44ef2a8"
      },
      "source": [
        "a.append(2)\n",
        "b"
      ],
      "execution_count": null,
      "outputs": [
        {
          "output_type": "execute_result",
          "data": {
            "text/plain": [
              "[1, 2, 3, 2]"
            ]
          },
          "metadata": {
            "tags": []
          },
          "execution_count": 4
        }
      ]
    },
    {
      "cell_type": "markdown",
      "metadata": {
        "id": "jkkoPXhu8PDy"
      },
      "source": [
        "Assignment is also referred to as binding, as we are binding a name to an object. \n",
        "<p>\n",
        "When you pass objects as arguments to a function, new local variables are created referencing the original objects without any copying.\n",
        "</p>\n",
        "If you bind a new object to a variable inside a function, that change will not be reflected in the parent scope. It is therefore possible to alter the internals of a <b>mutable</b> argument. Suppose we had the following function:</p>"
      ]
    },
    {
      "cell_type": "markdown",
      "metadata": {
        "deletable": true,
        "editable": true,
        "id": "2nYnSL1d8PDz"
      },
      "source": [
        "```python\n",
        "def append_element(some_list, element):\n",
        "    some_list.append(element)\n",
        "```"
      ]
    },
    {
      "cell_type": "markdown",
      "metadata": {
        "deletable": true,
        "editable": true,
        "id": "_QJOoCge8PD0"
      },
      "source": [
        "```python\n",
        "In [27]: data = [1, 2, 3]\n",
        "\n",
        "In [28]: append_element(data, 4)\n",
        "\n",
        "In [29]: data\n",
        "Out[29]: [1, 2, 3, 4]\n",
        "```"
      ]
    },
    {
      "cell_type": "markdown",
      "metadata": {
        "deletable": true,
        "editable": true,
        "id": "L40xY3Ur8PD1"
      },
      "source": [
        "#### Dynamic references, strong types"
      ]
    },
    {
      "cell_type": "markdown",
      "metadata": {
        "id": "J-usgGq_8PD2"
      },
      "source": [
        "Object references in Python have no type associated with them"
      ]
    },
    {
      "cell_type": "code",
      "metadata": {
        "deletable": true,
        "editable": true,
        "id": "g3kkGu5m8PD3",
        "outputId": "e6b8a289-5464-4cef-86a9-c9f3bdb91364"
      },
      "source": [
        "a = 5\n",
        "type(a)"
      ],
      "execution_count": null,
      "outputs": [
        {
          "output_type": "execute_result",
          "data": {
            "text/plain": [
              "int"
            ]
          },
          "metadata": {
            "tags": []
          },
          "execution_count": 17
        }
      ]
    },
    {
      "cell_type": "code",
      "metadata": {
        "deletable": true,
        "editable": true,
        "id": "JVf7nmVt8PD9",
        "outputId": "68e18947-5392-4470-a921-4060f919f9a1"
      },
      "source": [
        "a = 'foo'\n",
        "type(a)"
      ],
      "execution_count": null,
      "outputs": [
        {
          "output_type": "execute_result",
          "data": {
            "text/plain": [
              "str"
            ]
          },
          "metadata": {
            "tags": []
          },
          "execution_count": 18
        }
      ]
    },
    {
      "cell_type": "markdown",
      "metadata": {
        "id": "3S5kRL4z8PED"
      },
      "source": [
        "Python is considered a strongly typed"
      ]
    },
    {
      "cell_type": "code",
      "metadata": {
        "deletable": true,
        "editable": true,
        "id": "iTmcNKsV8PEE",
        "outputId": "2530317c-5602-4489-92b8-840963775bae"
      },
      "source": [
        "'5' + 5"
      ],
      "execution_count": null,
      "outputs": [
        {
          "output_type": "error",
          "ename": "TypeError",
          "evalue": "can only concatenate str (not \"int\") to str",
          "traceback": [
            "\u001b[0;31m---------------------------------------------------------------------------\u001b[0m",
            "\u001b[0;31mTypeError\u001b[0m                                 Traceback (most recent call last)",
            "\u001b[0;32m<ipython-input-5-4dd8efb5fac1>\u001b[0m in \u001b[0;36m<module>\u001b[0;34m\u001b[0m\n\u001b[0;32m----> 1\u001b[0;31m \u001b[0;34m'5'\u001b[0m \u001b[0;34m+\u001b[0m \u001b[0;36m5\u001b[0m\u001b[0;34m\u001b[0m\u001b[0;34m\u001b[0m\u001b[0m\n\u001b[0m",
            "\u001b[0;31mTypeError\u001b[0m: can only concatenate str (not \"int\") to str"
          ]
        }
      ]
    },
    {
      "cell_type": "code",
      "metadata": {
        "deletable": true,
        "editable": true,
        "id": "9dZ_jFpM8PEK"
      },
      "source": [
        "a = 4.5\n",
        "b = 2\n",
        "# String formatting, to be visited later\n",
        "print('a is {0}, b is {1}'.format(type(a), type(b)))\n",
        "a / b"
      ],
      "execution_count": null,
      "outputs": []
    },
    {
      "cell_type": "code",
      "metadata": {
        "deletable": true,
        "editable": true,
        "id": "-vZRCrr28PEO"
      },
      "source": [
        "a = 5"
      ],
      "execution_count": null,
      "outputs": []
    },
    {
      "cell_type": "code",
      "metadata": {
        "deletable": true,
        "editable": true,
        "id": "eseyDgm38PEW"
      },
      "source": [
        ""
      ],
      "execution_count": null,
      "outputs": []
    },
    {
      "cell_type": "code",
      "metadata": {
        "deletable": true,
        "editable": true,
        "id": "8ueFNIuL8PEb",
        "outputId": "e55b6ced-7649-4b92-f7be-8aa9b7e637ca"
      },
      "source": [
        "isinstance(a, int)"
      ],
      "execution_count": null,
      "outputs": [
        {
          "output_type": "execute_result",
          "data": {
            "text/plain": [
              "True"
            ]
          },
          "metadata": {
            "tags": []
          },
          "execution_count": 19
        }
      ]
    },
    {
      "cell_type": "code",
      "metadata": {
        "deletable": true,
        "editable": true,
        "id": "6MPi7U-F8PEh",
        "outputId": "6aceeb5a-619b-4f6f-f7a0-d083a57d30f4"
      },
      "source": [
        "a=\"a string\"\n",
        "isinstance(a, str)"
      ],
      "execution_count": null,
      "outputs": [
        {
          "output_type": "execute_result",
          "data": {
            "text/plain": [
              "True"
            ]
          },
          "metadata": {
            "tags": []
          },
          "execution_count": 6
        }
      ]
    },
    {
      "cell_type": "code",
      "metadata": {
        "deletable": true,
        "editable": true,
        "id": "Kk8RGnwj8PEm"
      },
      "source": [
        "a = 5; b = 4.5\n",
        "isinstance(a, (int, float))\n",
        "isinstance(b, (int, float))"
      ],
      "execution_count": null,
      "outputs": []
    },
    {
      "cell_type": "markdown",
      "metadata": {
        "deletable": true,
        "editable": true,
        "id": "zjfzyg048PEs"
      },
      "source": [
        "#### Imports"
      ]
    },
    {
      "cell_type": "markdown",
      "metadata": {
        "id": "07uuARdX8PEt"
      },
      "source": [
        "In Python a module is simply a file with the .py extension containing Python code. Suppose that we had the following module:\n"
      ]
    },
    {
      "cell_type": "markdown",
      "metadata": {
        "deletable": true,
        "editable": true,
        "id": "Y6EB96ZU8PEu"
      },
      "source": [
        "```python\n",
        "# some_module.py\n",
        "PI = 3.14159\n",
        "\n",
        "def f(x):\n",
        "    return x + 2\n",
        "\n",
        "def g(a, b):\n",
        "    return a + b\n",
        "```"
      ]
    },
    {
      "cell_type": "markdown",
      "metadata": {
        "id": "p_uFkL-E8PEv"
      },
      "source": [
        "If we wanted to access the variables and functions defined in some_module.py, from\n",
        "another file in the same directory"
      ]
    },
    {
      "cell_type": "code",
      "metadata": {
        "id": "4DsV13CU8PEw"
      },
      "source": [
        "import some_module \n",
        "result = some_module.f(5) \n",
        "pi = some_module.PI"
      ],
      "execution_count": null,
      "outputs": []
    },
    {
      "cell_type": "code",
      "metadata": {
        "id": "sBAtCuw78PE1"
      },
      "source": [
        "#Or equivalently:\n",
        "from some_module import f, g, PI result = g(5, PI)\n",
        "#By using the as keyword you can give imports different variable names: import some_module as sm\n",
        "from some_module import PI as pi, g as gf"
      ],
      "execution_count": null,
      "outputs": []
    },
    {
      "cell_type": "markdown",
      "metadata": {
        "deletable": true,
        "editable": true,
        "id": "XmwROOH08PE8"
      },
      "source": [
        "#### Binary operators and comparisons"
      ]
    },
    {
      "cell_type": "code",
      "metadata": {
        "deletable": true,
        "editable": true,
        "id": "6a00l-NY8PE9"
      },
      "source": [
        "5 - 7\n",
        "12 + 21.5\n",
        "5 <= 2"
      ],
      "execution_count": null,
      "outputs": []
    },
    {
      "cell_type": "markdown",
      "metadata": {
        "id": "UZrdtS_E8PFG"
      },
      "source": [
        "To check if two references refer to the same object, use the is keyword"
      ]
    },
    {
      "cell_type": "code",
      "metadata": {
        "deletable": true,
        "editable": true,
        "id": "C5h0Rdse8PFG",
        "outputId": "297f2207-4c69-4a5d-a389-00ef2f8ff9d7"
      },
      "source": [
        "a = [1, 2, 3]\n",
        "b = a\n",
        "c = list(a)\n",
        "a is b\n",
        "a is not c"
      ],
      "execution_count": null,
      "outputs": [
        {
          "output_type": "execute_result",
          "data": {
            "text/plain": [
              "True"
            ]
          },
          "metadata": {
            "tags": []
          },
          "execution_count": 20
        }
      ]
    },
    {
      "cell_type": "code",
      "metadata": {
        "deletable": true,
        "editable": true,
        "id": "3uh-G0dB8PFM",
        "outputId": "0975a2ba-a299-46cf-f19c-5754c219d2a8"
      },
      "source": [
        "a == c"
      ],
      "execution_count": null,
      "outputs": [
        {
          "output_type": "execute_result",
          "data": {
            "text/plain": [
              "True"
            ]
          },
          "metadata": {
            "tags": []
          },
          "execution_count": 21
        }
      ]
    },
    {
      "cell_type": "code",
      "metadata": {
        "deletable": true,
        "editable": true,
        "id": "In5wrMOc8PFT"
      },
      "source": [
        "a = None\n",
        "a is None"
      ],
      "execution_count": null,
      "outputs": []
    },
    {
      "cell_type": "markdown",
      "metadata": {
        "id": "rdt_VnG58PFb"
      },
      "source": [
        "For list of binary operations see Page 37 in book \"Python for data science\""
      ]
    },
    {
      "cell_type": "markdown",
      "metadata": {
        "deletable": true,
        "editable": true,
        "id": "pSmiyBVP8PFc"
      },
      "source": [
        "#### Mutable and immutable objects"
      ]
    },
    {
      "cell_type": "markdown",
      "metadata": {
        "id": "ZrstlvAf8PFc"
      },
      "source": [
        "Mutable: lists,dicts numpyarrays"
      ]
    },
    {
      "cell_type": "code",
      "metadata": {
        "deletable": true,
        "editable": true,
        "id": "5P8QPops8PFe",
        "outputId": "ffd5d3f4-f53c-4b31-92fc-511c7eeaa7d6"
      },
      "source": [
        "a_list = ['foo', 2, [4, 5]]\n",
        "a_list[2] = (3, 4)\n",
        "a_list"
      ],
      "execution_count": null,
      "outputs": [
        {
          "output_type": "execute_result",
          "data": {
            "text/plain": [
              "['foo', 2, (3, 4)]"
            ]
          },
          "metadata": {
            "tags": []
          },
          "execution_count": 22
        }
      ]
    },
    {
      "cell_type": "markdown",
      "metadata": {
        "id": "NDEbOAzi8PFo"
      },
      "source": [
        "immutable: strings and tuples"
      ]
    },
    {
      "cell_type": "code",
      "metadata": {
        "deletable": true,
        "editable": true,
        "id": "CpjAx3zY8PFs",
        "outputId": "6de6a3f6-d521-45da-f54e-f3be84fae9f9"
      },
      "source": [
        "a_tuple = (3, 5, (4, 5))\n",
        "a_tuple[1] = 'four'"
      ],
      "execution_count": null,
      "outputs": [
        {
          "output_type": "error",
          "ename": "TypeError",
          "evalue": "'tuple' object does not support item assignment",
          "traceback": [
            "\u001b[0;31m---------------------------------------------------------------------------\u001b[0m",
            "\u001b[0;31mTypeError\u001b[0m                                 Traceback (most recent call last)",
            "\u001b[0;32m<ipython-input-23-2c9bddc8679c>\u001b[0m in \u001b[0;36m<module>\u001b[0;34m()\u001b[0m\n\u001b[1;32m      1\u001b[0m \u001b[0ma_tuple\u001b[0m \u001b[0;34m=\u001b[0m \u001b[0;34m(\u001b[0m\u001b[0;36m3\u001b[0m\u001b[0;34m,\u001b[0m \u001b[0;36m5\u001b[0m\u001b[0;34m,\u001b[0m \u001b[0;34m(\u001b[0m\u001b[0;36m4\u001b[0m\u001b[0;34m,\u001b[0m \u001b[0;36m5\u001b[0m\u001b[0;34m)\u001b[0m\u001b[0;34m)\u001b[0m\u001b[0;34m\u001b[0m\u001b[0m\n\u001b[0;32m----> 2\u001b[0;31m \u001b[0ma_tuple\u001b[0m\u001b[0;34m[\u001b[0m\u001b[0;36m1\u001b[0m\u001b[0;34m]\u001b[0m \u001b[0;34m=\u001b[0m \u001b[0;34m'four'\u001b[0m\u001b[0;34m\u001b[0m\u001b[0m\n\u001b[0m",
            "\u001b[0;31mTypeError\u001b[0m: 'tuple' object does not support item assignment"
          ]
        }
      ]
    },
    {
      "cell_type": "markdown",
      "metadata": {
        "deletable": true,
        "editable": true,
        "id": "L6b4lTki8PFz"
      },
      "source": [
        "### Scalar Types"
      ]
    },
    {
      "cell_type": "markdown",
      "metadata": {
        "id": "m3oz4hDJ8PF0"
      },
      "source": [
        " built-in types for handling numerical data, strings, boolean (True or False) values, and dates and time. These <b>“single value”</b> types are also called scalar types "
      ]
    },
    {
      "cell_type": "markdown",
      "metadata": {
        "deletable": true,
        "editable": true,
        "id": "Z8uo04oY8PF2"
      },
      "source": [
        "#### Numeric types"
      ]
    },
    {
      "cell_type": "markdown",
      "metadata": {
        "id": "QBcC-G0s8PF4"
      },
      "source": [
        "Float and int mainly. An int can store arbitrarily large numbers."
      ]
    },
    {
      "cell_type": "code",
      "metadata": {
        "deletable": true,
        "editable": true,
        "id": "OpbdrAjH8PF5",
        "outputId": "02a5221d-74ef-4b1b-f033-d0737578a8e4"
      },
      "source": [
        "ival = 17239871\n",
        "ival ** 6"
      ],
      "execution_count": null,
      "outputs": [
        {
          "output_type": "execute_result",
          "data": {
            "text/plain": [
              "26254519291092456596965462913230729701102721"
            ]
          },
          "metadata": {
            "tags": []
          },
          "execution_count": 24
        }
      ]
    },
    {
      "cell_type": "code",
      "metadata": {
        "deletable": true,
        "editable": true,
        "id": "EMbuj_6A8PF_"
      },
      "source": [
        "fval = 7.243\n",
        "fval2 = 6.78e-5"
      ],
      "execution_count": null,
      "outputs": []
    },
    {
      "cell_type": "code",
      "metadata": {
        "deletable": true,
        "editable": true,
        "id": "M0z4SPh68PGF",
        "outputId": "6fbd7707-4f61-4dd1-b2ae-e58e2e392fa4"
      },
      "source": [
        "3 / 2"
      ],
      "execution_count": null,
      "outputs": [
        {
          "output_type": "execute_result",
          "data": {
            "text/plain": [
              "1.5"
            ]
          },
          "metadata": {
            "tags": []
          },
          "execution_count": 25
        }
      ]
    },
    {
      "cell_type": "code",
      "metadata": {
        "deletable": true,
        "editable": true,
        "id": "T3vYVOCB8PGL",
        "outputId": "be2c4507-a92b-4190-dd99-0845009c0cc3"
      },
      "source": [
        "3 // 2"
      ],
      "execution_count": null,
      "outputs": [
        {
          "output_type": "execute_result",
          "data": {
            "text/plain": [
              "1"
            ]
          },
          "metadata": {
            "tags": []
          },
          "execution_count": 26
        }
      ]
    },
    {
      "cell_type": "markdown",
      "metadata": {
        "deletable": true,
        "editable": true,
        "id": "CtJbU4kz8PGQ"
      },
      "source": [
        "#### Strings"
      ]
    },
    {
      "cell_type": "markdown",
      "metadata": {
        "deletable": true,
        "editable": true,
        "id": "rbHy0ey58PGQ"
      },
      "source": [
        "a = 'one way of writing a string'<br>\n",
        "b = \"another way\""
      ]
    },
    {
      "cell_type": "code",
      "metadata": {
        "deletable": true,
        "editable": true,
        "id": "6bx9AZNI8PGR"
      },
      "source": [
        "c = \"\"\"\n",
        "This is a longer string that\n",
        "spans multiple lines\n",
        "\"\"\""
      ],
      "execution_count": null,
      "outputs": []
    },
    {
      "cell_type": "code",
      "metadata": {
        "deletable": true,
        "editable": true,
        "id": "oo5u3Ga38PGX",
        "outputId": "11b651a2-09c5-4d01-91ac-6ba77dbb54b1"
      },
      "source": [
        "\n",
        "c.count('\\n')"
      ],
      "execution_count": null,
      "outputs": [
        {
          "output_type": "execute_result",
          "data": {
            "text/plain": [
              "3"
            ]
          },
          "metadata": {
            "tags": []
          },
          "execution_count": 29
        }
      ]
    },
    {
      "cell_type": "code",
      "metadata": {
        "deletable": true,
        "editable": true,
        "id": "1EQyZUuq8PGg",
        "outputId": "50c12047-5df2-4e04-8964-5f06dede1f91"
      },
      "source": [
        "a = 'this is a string'\n",
        "a[10] = 'f'"
      ],
      "execution_count": null,
      "outputs": [
        {
          "output_type": "error",
          "ename": "TypeError",
          "evalue": "'str' object does not support item assignment",
          "traceback": [
            "\u001b[0;31m---------------------------------------------------------------------------\u001b[0m",
            "\u001b[0;31mTypeError\u001b[0m                                 Traceback (most recent call last)",
            "\u001b[0;32m<ipython-input-30-cfa170a67205>\u001b[0m in \u001b[0;36m<module>\u001b[0;34m()\u001b[0m\n\u001b[1;32m      1\u001b[0m \u001b[0ma\u001b[0m \u001b[0;34m=\u001b[0m \u001b[0;34m'this is a string'\u001b[0m\u001b[0;34m\u001b[0m\u001b[0m\n\u001b[0;32m----> 2\u001b[0;31m \u001b[0ma\u001b[0m\u001b[0;34m[\u001b[0m\u001b[0;36m10\u001b[0m\u001b[0;34m]\u001b[0m \u001b[0;34m=\u001b[0m \u001b[0;34m'f'\u001b[0m\u001b[0;34m\u001b[0m\u001b[0m\n\u001b[0m",
            "\u001b[0;31mTypeError\u001b[0m: 'str' object does not support item assignment"
          ]
        }
      ]
    },
    {
      "cell_type": "code",
      "metadata": {
        "deletable": true,
        "editable": true,
        "id": "ZVa3RogE8PGo",
        "outputId": "8fa84ce2-4d77-4a10-bfc0-89fe5092d5f2"
      },
      "source": [
        "b = a.replace('string', 'longer string')\n",
        "b"
      ],
      "execution_count": null,
      "outputs": [
        {
          "output_type": "execute_result",
          "data": {
            "text/plain": [
              "'this is a longer string'"
            ]
          },
          "metadata": {
            "tags": []
          },
          "execution_count": 31
        }
      ]
    },
    {
      "cell_type": "code",
      "metadata": {
        "deletable": true,
        "editable": true,
        "id": "C0thm4zv8PGw",
        "outputId": "d797e76c-15e5-4016-f44b-063424fcadb1"
      },
      "source": [
        "a"
      ],
      "execution_count": null,
      "outputs": [
        {
          "output_type": "execute_result",
          "data": {
            "text/plain": [
              "'this is a string'"
            ]
          },
          "metadata": {
            "tags": []
          },
          "execution_count": 32
        }
      ]
    },
    {
      "cell_type": "code",
      "metadata": {
        "deletable": true,
        "editable": true,
        "id": "J-kwFe4o8PG2",
        "outputId": "41cbf62d-cd6f-46ee-dcb7-233ad5d74d10"
      },
      "source": [
        "a = 5.6\n",
        "s = str(a)\n",
        "print(s)"
      ],
      "execution_count": null,
      "outputs": [
        {
          "output_type": "stream",
          "text": [
            "5.6\n"
          ],
          "name": "stdout"
        }
      ]
    },
    {
      "cell_type": "code",
      "metadata": {
        "deletable": true,
        "editable": true,
        "id": "zP5Tsr-l8PG9",
        "outputId": "0b9963a5-f611-46cc-f77a-183b3dd846dc"
      },
      "source": [
        "s = 'python'\n",
        "#Strings are a sequence of \n",
        "#Unicode characters and therefore can be treated like other sequences, such as lists and tuples\n",
        "list(s)"
      ],
      "execution_count": null,
      "outputs": [
        {
          "output_type": "execute_result",
          "data": {
            "text/plain": [
              "['p', 'y', 't', 'h', 'o', 'n']"
            ]
          },
          "metadata": {
            "tags": []
          },
          "execution_count": 7
        }
      ]
    },
    {
      "cell_type": "code",
      "metadata": {
        "deletable": true,
        "editable": true,
        "id": "-uuo0yYy8PHI",
        "outputId": "c307153b-5026-4f40-ccd2-0c8df0b109e1"
      },
      "source": [
        "s[:3]"
      ],
      "execution_count": null,
      "outputs": [
        {
          "output_type": "execute_result",
          "data": {
            "text/plain": [
              "'pyt'"
            ]
          },
          "metadata": {
            "tags": []
          },
          "execution_count": 8
        }
      ]
    },
    {
      "cell_type": "code",
      "metadata": {
        "deletable": true,
        "editable": true,
        "id": "I_cyKqeO8PHR",
        "outputId": "2d1b00f8-e61f-4ad0-db13-9af449a6e1df"
      },
      "source": [
        "s = '12\\\\n34'# \\ is escape sequence\n",
        "print(s)"
      ],
      "execution_count": null,
      "outputs": [
        {
          "output_type": "stream",
          "text": [
            "12\\n34\n"
          ],
          "name": "stdout"
        }
      ]
    },
    {
      "cell_type": "code",
      "metadata": {
        "deletable": true,
        "editable": true,
        "id": "q1Zfk-2O8PHU",
        "outputId": "5f0136e9-c28b-44f6-c422-0fc5938e5e73"
      },
      "source": [
        "s = r'this\\has\\no\\special\\characters'\n",
        "#The r stands for raw.\n",
        "#preface the leading quote of the string with r=the characters should be interpreted as is:\n",
        "s"
      ],
      "execution_count": null,
      "outputs": [
        {
          "output_type": "execute_result",
          "data": {
            "text/plain": [
              "'this\\\\has\\\\no\\\\special\\\\characters'"
            ]
          },
          "metadata": {
            "tags": []
          },
          "execution_count": 12
        }
      ]
    },
    {
      "cell_type": "code",
      "metadata": {
        "deletable": true,
        "editable": true,
        "id": "AONiBb_58PHn",
        "outputId": "97f1ee0e-c015-4630-c664-df1bb9bb3ba1"
      },
      "source": [
        "a = 'this is the first half '\n",
        "b = 'and this is the second half'\n",
        "a + b"
      ],
      "execution_count": null,
      "outputs": [
        {
          "output_type": "execute_result",
          "data": {
            "text/plain": [
              "'this is the first half and this is the second half'"
            ]
          },
          "metadata": {
            "tags": []
          },
          "execution_count": 14
        }
      ]
    },
    {
      "cell_type": "code",
      "metadata": {
        "id": "2MBiNSDX8PHt",
        "outputId": "2f3c8ad8-a2b3-4c67-daa9-a5b68ebd6d83"
      },
      "source": [
        "a*3"
      ],
      "execution_count": null,
      "outputs": [
        {
          "output_type": "execute_result",
          "data": {
            "text/plain": [
              "'this is the first half this is the first half this is the first half '"
            ]
          },
          "metadata": {
            "tags": []
          },
          "execution_count": 15
        }
      ]
    },
    {
      "cell_type": "code",
      "metadata": {
        "deletable": true,
        "editable": true,
        "id": "sH2FA3ek8PH0"
      },
      "source": [
        "template = '{0:.2f} {1:s} are worth US${2:d}'"
      ],
      "execution_count": null,
      "outputs": []
    },
    {
      "cell_type": "code",
      "metadata": {
        "deletable": true,
        "editable": true,
        "id": "W-uJ5TVm8PH7",
        "outputId": "f5375de5-a5aa-4b11-9650-c5e6f8666465"
      },
      "source": [
        "template.format(4.5560, 'Argentine Pesos', 1)"
      ],
      "execution_count": null,
      "outputs": [
        {
          "output_type": "execute_result",
          "data": {
            "text/plain": [
              "'4.56 Argentine Pesos are worth US$1'"
            ]
          },
          "metadata": {
            "tags": []
          },
          "execution_count": 40
        }
      ]
    },
    {
      "cell_type": "markdown",
      "metadata": {
        "deletable": true,
        "editable": true,
        "id": "f4EVQpiN8PIA"
      },
      "source": [
        "#### Bytes and Unicode"
      ]
    },
    {
      "cell_type": "code",
      "metadata": {
        "deletable": true,
        "editable": true,
        "id": "3hHvJqYg8PIB"
      },
      "source": [
        "val = \"español\"\n",
        "val"
      ],
      "execution_count": null,
      "outputs": []
    },
    {
      "cell_type": "code",
      "metadata": {
        "deletable": true,
        "editable": true,
        "id": "bBu4tbXD8PIK"
      },
      "source": [
        "val_utf8 = val.encode('utf-8')\n",
        "val_utf8\n",
        "type(val_utf8)"
      ],
      "execution_count": null,
      "outputs": []
    },
    {
      "cell_type": "code",
      "metadata": {
        "deletable": true,
        "editable": true,
        "id": "RlomQzzj8PIW"
      },
      "source": [
        "val_utf8.decode('utf-8')"
      ],
      "execution_count": null,
      "outputs": []
    },
    {
      "cell_type": "code",
      "metadata": {
        "deletable": true,
        "editable": true,
        "id": "tM5fwlhc8PIk"
      },
      "source": [
        "val.encode('latin1')\n",
        "val.encode('utf-16')\n",
        "val.encode('utf-16le')"
      ],
      "execution_count": null,
      "outputs": []
    },
    {
      "cell_type": "code",
      "metadata": {
        "deletable": true,
        "editable": true,
        "id": "zFs-YQbU8PIo"
      },
      "source": [
        "bytes_val = b'this is bytes'\n",
        "bytes_val\n",
        "decoded = bytes_val.decode('utf8')\n",
        "decoded  # this is str (Unicode) now"
      ],
      "execution_count": null,
      "outputs": []
    },
    {
      "cell_type": "markdown",
      "metadata": {
        "deletable": true,
        "editable": true,
        "id": "bxuj06_Q8PIx"
      },
      "source": [
        "#### Booleans"
      ]
    },
    {
      "cell_type": "code",
      "metadata": {
        "deletable": true,
        "editable": true,
        "id": "Sok-wTTe8PIx"
      },
      "source": [
        "True and True\n",
        "False or True"
      ],
      "execution_count": null,
      "outputs": []
    },
    {
      "cell_type": "markdown",
      "metadata": {
        "deletable": true,
        "editable": true,
        "id": "a_zRGDOm8PJQ"
      },
      "source": [
        "#### Type casting"
      ]
    },
    {
      "cell_type": "code",
      "metadata": {
        "deletable": true,
        "editable": true,
        "id": "tXHRsgZ-8PJb",
        "outputId": "24551110-fddb-44fb-e61f-b534cbcb9758"
      },
      "source": [
        "s = '3.14159'\n",
        "fval = float(s)\n",
        "type(fval)\n",
        "int(fval)\n",
        "bool(fval)\n",
        "bool(0)"
      ],
      "execution_count": null,
      "outputs": [
        {
          "output_type": "execute_result",
          "data": {
            "text/plain": [
              "False"
            ]
          },
          "metadata": {
            "tags": []
          },
          "execution_count": 41
        }
      ]
    },
    {
      "cell_type": "markdown",
      "metadata": {
        "deletable": true,
        "editable": true,
        "id": "cVuXVPbS8PJ7"
      },
      "source": [
        "#### None"
      ]
    },
    {
      "cell_type": "markdown",
      "metadata": {
        "id": "d22sjF2r8PJ-"
      },
      "source": [
        "None is the Python null value type"
      ]
    },
    {
      "cell_type": "code",
      "metadata": {
        "deletable": true,
        "editable": true,
        "id": "tunTt6mT8PKC"
      },
      "source": [
        "a = None\n",
        "a is None\n",
        "b = 5\n",
        "b is not None"
      ],
      "execution_count": null,
      "outputs": []
    },
    {
      "cell_type": "markdown",
      "metadata": {
        "deletable": true,
        "editable": true,
        "id": "YTOZUKxS8PKK"
      },
      "source": [
        "a technical point: None is not only a reserved keyword but also a unique instance of NoneType:"
      ]
    },
    {
      "cell_type": "code",
      "metadata": {
        "deletable": true,
        "editable": true,
        "id": "aO82Wsil8PKM"
      },
      "source": [
        "type(None)"
      ],
      "execution_count": null,
      "outputs": []
    },
    {
      "cell_type": "markdown",
      "metadata": {
        "deletable": true,
        "editable": true,
        "id": "sffaMKQ68PKV"
      },
      "source": [
        "#### Dates and times"
      ]
    },
    {
      "cell_type": "markdown",
      "metadata": {
        "id": "UoKqV0oU8PKV"
      },
      "source": [
        "The built-in Python datetime module provides <b>datetime, date, and time types</b>. The datetime type,  combines the information stored in date and time and is the most commonly used:\n"
      ]
    },
    {
      "cell_type": "code",
      "metadata": {
        "deletable": true,
        "editable": true,
        "id": "B8TaHLMF8PKY",
        "outputId": "825f43ce-b0a0-496c-d3e7-fb469fc1ca97"
      },
      "source": [
        "from datetime import datetime, date, time\n",
        "dt = datetime(2011, 10, 29, 20, 30, 21)\n",
        "dt.day\n",
        "dt.minute"
      ],
      "execution_count": null,
      "outputs": [
        {
          "output_type": "execute_result",
          "data": {
            "text/plain": [
              "30"
            ]
          },
          "metadata": {
            "tags": []
          },
          "execution_count": 42
        }
      ]
    },
    {
      "cell_type": "code",
      "metadata": {
        "deletable": true,
        "editable": true,
        "id": "YBTfw4Gq8PKi",
        "outputId": "ba33915c-7d9e-4ffa-cda9-3ec912e89e39"
      },
      "source": [
        "dt.date()\n",
        "dt.time()"
      ],
      "execution_count": null,
      "outputs": [
        {
          "output_type": "execute_result",
          "data": {
            "text/plain": [
              "datetime.time(20, 30, 21)"
            ]
          },
          "metadata": {
            "tags": []
          },
          "execution_count": 43
        }
      ]
    },
    {
      "cell_type": "code",
      "metadata": {
        "deletable": true,
        "editable": true,
        "id": "tn0x3BiK8PKq",
        "outputId": "ad853213-a1d3-4600-f69b-7fa1f0e43789"
      },
      "source": [
        "dt.strftime('%m/%d/%Y %H:%M')#The strftime method formats a datetime as a string."
      ],
      "execution_count": null,
      "outputs": [
        {
          "output_type": "execute_result",
          "data": {
            "text/plain": [
              "'10/29/2011 20:30'"
            ]
          },
          "metadata": {
            "tags": []
          },
          "execution_count": 44
        }
      ]
    },
    {
      "cell_type": "code",
      "metadata": {
        "deletable": true,
        "editable": true,
        "id": "ERUR0Xak8PK0"
      },
      "source": [
        "#Strings can be converted (parsed) into datetime objects with the strptime function:\n",
        "datetime.strptime('20091031', '%Y%m%d')"
      ],
      "execution_count": null,
      "outputs": []
    },
    {
      "cell_type": "code",
      "metadata": {
        "deletable": true,
        "editable": true,
        "id": "xnzSGXhg8PK-",
        "outputId": "3bef9f38-00e9-41e8-fe01-13eb1f6ed286"
      },
      "source": [
        "dt.replace(minute=0, second=0)"
      ],
      "execution_count": null,
      "outputs": [
        {
          "output_type": "execute_result",
          "data": {
            "text/plain": [
              "datetime.datetime(2011, 10, 29, 20, 0)"
            ]
          },
          "metadata": {
            "tags": []
          },
          "execution_count": 45
        }
      ]
    },
    {
      "cell_type": "code",
      "metadata": {
        "id": "9K8QjKZ48PLH",
        "outputId": "0ba0679c-59a3-4b40-967c-3b573d73af94"
      },
      "source": [
        "datetime.now()"
      ],
      "execution_count": null,
      "outputs": [
        {
          "output_type": "execute_result",
          "data": {
            "text/plain": [
              "datetime.datetime(2019, 2, 20, 12, 6, 0, 31777)"
            ]
          },
          "metadata": {
            "tags": []
          },
          "execution_count": 46
        }
      ]
    },
    {
      "cell_type": "code",
      "metadata": {
        "deletable": true,
        "editable": true,
        "id": "714nH9RP8PLV"
      },
      "source": [
        "#datetime.datetime is an immutable type, methods like these always produce new objects.\n",
        "dt2 = datetime(2011, 11, 15, 22, 30)\n",
        "delta = dt2 - dt\n",
        "delta\n",
        "type(delta)"
      ],
      "execution_count": null,
      "outputs": []
    },
    {
      "cell_type": "code",
      "metadata": {
        "deletable": true,
        "editable": true,
        "id": "5bqgeciH8PLf"
      },
      "source": [
        "dt\n",
        "dt + delta"
      ],
      "execution_count": null,
      "outputs": []
    },
    {
      "cell_type": "markdown",
      "metadata": {
        "deletable": true,
        "editable": true,
        "id": "OfJjU02r8PLs"
      },
      "source": [
        "### Control Flow"
      ]
    },
    {
      "cell_type": "markdown",
      "metadata": {
        "deletable": true,
        "editable": true,
        "id": "tvgbz1_o8PLt"
      },
      "source": [
        "#### if, elif, and else"
      ]
    },
    {
      "cell_type": "code",
      "metadata": {
        "deletable": true,
        "editable": true,
        "id": "rF8TxDA98PL1"
      },
      "source": [
        "x=7\n",
        "if x < 0:\n",
        "    print('It\\'s negative')"
      ],
      "execution_count": null,
      "outputs": []
    },
    {
      "cell_type": "code",
      "metadata": {
        "deletable": true,
        "editable": true,
        "id": "k-Gd_Ign8PMJ",
        "outputId": "ed085f88-c1ed-4181-c002-6ae48831030b"
      },
      "source": [
        "if x < 0:\n",
        "    print(r\"It's negative\")\n",
        "elif x == 0:\n",
        "    print('Equal to zero')\n",
        "elif 0 < x < 5:\n",
        "    print('Positive but smaller than 5')\n",
        "else:\n",
        "    print('Positive and larger than or equal to 5')#catch all else"
      ],
      "execution_count": null,
      "outputs": [
        {
          "output_type": "stream",
          "text": [
            "Positive and larger than or equal to 5\n"
          ],
          "name": "stdout"
        }
      ]
    },
    {
      "cell_type": "code",
      "metadata": {
        "deletable": true,
        "editable": true,
        "id": "7Ytc84fC8PMR"
      },
      "source": [
        "a = 5\n",
        "b = 7\n",
        "c = 8\n",
        "d = 4\n",
        "if a < b or c > d:\n",
        "    print('Made it')"
      ],
      "execution_count": null,
      "outputs": []
    },
    {
      "cell_type": "code",
      "metadata": {
        "deletable": true,
        "editable": true,
        "id": "gZDcpPXe8PMa",
        "outputId": "8da24f48-90c7-40c1-c7ff-aea50c35507e"
      },
      "source": [
        "4 > 3 > 2 > 1"
      ],
      "execution_count": null,
      "outputs": [
        {
          "output_type": "execute_result",
          "data": {
            "text/plain": [
              "True"
            ]
          },
          "metadata": {
            "tags": []
          },
          "execution_count": 47
        }
      ]
    },
    {
      "cell_type": "markdown",
      "metadata": {
        "deletable": true,
        "editable": true,
        "id": "fCDI-ZUR8PMr"
      },
      "source": [
        "#### for loops"
      ]
    },
    {
      "cell_type": "code",
      "metadata": {
        "deletable": true,
        "editable": true,
        "id": "Ooa-Qepp8PMs"
      },
      "source": [
        "for value in collection:\n",
        "    # do something with value"
      ],
      "execution_count": null,
      "outputs": []
    },
    {
      "cell_type": "code",
      "metadata": {
        "deletable": true,
        "editable": true,
        "id": "dIC1_Akj8PM-"
      },
      "source": [
        "sequence = [1, 2, None, 4, None, 5]\n",
        "total = 0\n",
        "for value in sequence:\n",
        "    if value is None:\n",
        "        continue\n",
        "    total += value"
      ],
      "execution_count": null,
      "outputs": []
    },
    {
      "cell_type": "code",
      "metadata": {
        "deletable": true,
        "editable": true,
        "id": "PalRZivx8PNz"
      },
      "source": [
        "sequence = [1, 2, 0, 4, 6, 5, 2, 1]\n",
        "total_until_5 = 0\n",
        "for value in sequence:\n",
        "    if value == 5:\n",
        "        break\n",
        "    total_until_5 += value"
      ],
      "execution_count": null,
      "outputs": []
    },
    {
      "cell_type": "code",
      "metadata": {
        "deletable": true,
        "editable": true,
        "id": "JkdwgJaj8POM"
      },
      "source": [
        "for i in range(4):\n",
        "    for j in range(4):\n",
        "        if j > i:\n",
        "            break\n",
        "        print((i, j))"
      ],
      "execution_count": null,
      "outputs": []
    },
    {
      "cell_type": "code",
      "metadata": {
        "id": "Z9UCNJGs8POY",
        "outputId": "fd088c85-865d-4808-bfbd-35ef675bf97e"
      },
      "source": [
        "range(4)"
      ],
      "execution_count": null,
      "outputs": [
        {
          "output_type": "execute_result",
          "data": {
            "text/plain": [
              "range(0, 4)"
            ]
          },
          "metadata": {
            "tags": []
          },
          "execution_count": 48
        }
      ]
    },
    {
      "cell_type": "code",
      "metadata": {
        "deletable": true,
        "editable": true,
        "id": "sF157qa98POm"
      },
      "source": [
        "for a, b, c in iterator:\n",
        "    # do something"
      ],
      "execution_count": null,
      "outputs": []
    },
    {
      "cell_type": "markdown",
      "metadata": {
        "deletable": true,
        "editable": true,
        "id": "7mMFbx9Y8POy"
      },
      "source": [
        "#### while loops"
      ]
    },
    {
      "cell_type": "code",
      "metadata": {
        "deletable": true,
        "editable": true,
        "id": "rFaVkY7O8PO1"
      },
      "source": [
        "x = 256\n",
        "total = 0\n",
        "while x > 0:\n",
        "    if total > 500:\n",
        "        break\n",
        "    total += x\n",
        "    x = x // 2"
      ],
      "execution_count": null,
      "outputs": []
    },
    {
      "cell_type": "markdown",
      "metadata": {
        "deletable": true,
        "editable": true,
        "id": "DYA5ZXva8PO9"
      },
      "source": [
        "#### pass"
      ]
    },
    {
      "cell_type": "code",
      "metadata": {
        "deletable": true,
        "editable": true,
        "id": "j4UaYEfS8PPA"
      },
      "source": [
        "if x < 0:\n",
        "    print('negative!')\n",
        "elif x == 0:\n",
        "    # TODO: put something smart here\n",
        "    pass\n",
        "else:\n",
        "    print('positive!')"
      ],
      "execution_count": null,
      "outputs": []
    },
    {
      "cell_type": "markdown",
      "metadata": {
        "deletable": true,
        "editable": true,
        "id": "uDkkWLBb8PPP"
      },
      "source": [
        "#### range"
      ]
    },
    {
      "cell_type": "code",
      "metadata": {
        "deletable": true,
        "editable": true,
        "id": "elRpllHs8PPQ",
        "outputId": "aa1e8818-f1e4-426f-d255-322e0a64f3e4"
      },
      "source": [
        "range(10)\n",
        "list(range(10))"
      ],
      "execution_count": null,
      "outputs": [
        {
          "output_type": "execute_result",
          "data": {
            "text/plain": [
              "[0, 1, 2, 3, 4, 5, 6, 7, 8, 9]"
            ]
          },
          "metadata": {
            "tags": []
          },
          "execution_count": 49
        }
      ]
    },
    {
      "cell_type": "code",
      "metadata": {
        "deletable": true,
        "editable": true,
        "id": "rD5e0Nv48PPh",
        "outputId": "ab43eb12-ba9c-4872-a39e-b31a8ca61917"
      },
      "source": [
        "list(range(0, 20, 2))\n",
        "list(range(5, 0, -1))"
      ],
      "execution_count": null,
      "outputs": [
        {
          "output_type": "execute_result",
          "data": {
            "text/plain": [
              "[5, 4, 3, 2, 1]"
            ]
          },
          "metadata": {
            "tags": []
          },
          "execution_count": 50
        }
      ]
    },
    {
      "cell_type": "code",
      "metadata": {
        "deletable": true,
        "editable": true,
        "id": "zVEfe5k_8PPz"
      },
      "source": [
        "#A common use of range is for iterating through sequences by index:\n",
        "seq = [\"a\", \"b\", 3, 4]\n",
        "for i in range(len(seq)):\n",
        "    val = seq[i]"
      ],
      "execution_count": null,
      "outputs": []
    },
    {
      "cell_type": "code",
      "metadata": {
        "deletable": true,
        "editable": true,
        "id": "pt7Po0lJ8PQC"
      },
      "source": [
        "#While you can use functions like list to store all the integers generated by range in some other data\n",
        "#structure, often the default iterator form will be what you want.\n",
        "#This snippet sums all numbers from 0 to 99,999 that are multiples of 3 or 5:\n",
        "#While the range generated can be arbitrarily large, the memory use at any given time may be very small.\n",
        "sum = 0\n",
        "for i in range(100000):\n",
        "    # % is the modulo operator\n",
        "    if i % 3 == 0 or i % 5 == 0:\n",
        "        sum += i"
      ],
      "execution_count": null,
      "outputs": []
    },
    {
      "cell_type": "markdown",
      "metadata": {
        "deletable": true,
        "editable": true,
        "id": "HlqgckYl8PQU"
      },
      "source": [
        "#### Ternary expressions"
      ]
    },
    {
      "cell_type": "markdown",
      "metadata": {
        "deletable": true,
        "editable": true,
        "id": "Lv_AlHs-8PQV"
      },
      "source": [
        "<p>A ternary expression in Python allows you to combine an if-else block that pro‐ duces a value into a single line or expression. The syntax for this in Python is:</p>\n",
        "value = true-expr if condition else false-expr"
      ]
    },
    {
      "cell_type": "code",
      "metadata": {
        "deletable": true,
        "editable": true,
        "id": "UOg8FGeQ8PQX"
      },
      "source": [
        "x = 5\n",
        "'Non-negative' if x >= 0 else 'Negative'"
      ],
      "execution_count": null,
      "outputs": []
    }
  ]
}